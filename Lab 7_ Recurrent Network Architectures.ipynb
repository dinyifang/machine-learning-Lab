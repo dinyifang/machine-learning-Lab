{
 "cells": [
  {
   "cell_type": "markdown",
   "metadata": {},
   "source": [
    "# Lab 7: Recurrent Network Architectures"
   ]
  },
  {
   "cell_type": "markdown",
   "metadata": {},
   "source": [
    "BY Yifan Ding"
   ]
  },
  {
   "cell_type": "markdown",
   "metadata": {},
   "source": [
    "# 1. Preparation  (30 points total) "
   ]
  },
  {
   "cell_type": "markdown",
   "metadata": {},
   "source": [
    "## 1.1 Dataset Overview\n",
    "\n",
    "This dataset, “Quora Insincere Questions Classification,” is obtained from Kaggle under 'Featured Code Competition'. Quora is a place to gain and share knowledge. It's a platform to ask questions and connect with people who contribute unique insights and quality answers.\n",
    "An insincere question is defined as a question intended to make a statement rather than look for helpful answers. Some characteristics that can signify that a question is insincere:\n",
    "\n",
    "a.Has a non-neutral tone\n",
    "\n",
    "b.Is rhetorical and meant to imply a statement about a group of people\n",
    "\n",
    "c.Is disparaging or inflammatory\n",
    "\n",
    "d.Isn't grounded in reality\n",
    "\n",
    "e.Uses sexual content (incest, bestiality, pedophilia) for shock value, and not to seek genuine answers\n",
    "\n",
    "The training data includes the question that was asked, and whether it was identified as insincere (target = 1). The ground-truth labels contain some amount of noise: they are not guaranteed to be perfect.\n",
    "\n",
    "Note that the distribution of questions in the dataset should not be taken to be representative of the distribution of questions asked on Quora. This is, in part, because of the combination of sampling procedures and sanitization measures that have been applied to the final dataset."
   ]
  },
  {
   "cell_type": "markdown",
   "metadata": {},
   "source": [
    "## Purpose\n",
    "The purpose of this dataset was to develop an recurrent neural network that will be able to distinguish between insincere and sincere quora questions in order to assist us to filter insincere questions on quora and focus more on the sincere questions.  There are two different classifications: sincere(marked as 0) and insincere(marked as 1). "
   ]
  },
  {
   "cell_type": "markdown",
   "metadata": {},
   "source": [
    "## False Positive vs True Negative Trade-off\n",
    "In all classification problems, it is important to consider which is worse: false positives or false negatives. In this case, we will define a false positive as when the algorithm predicts that a question is insincere even when it is sincere.  A false negative is when the classifier predicts that the question is sincere even when it is insincere.  In this case, it is clear that we want to limit the amount of false negatives and instead have more false positives. "
   ]
  },
  {
   "cell_type": "markdown",
   "metadata": {},
   "source": [
    "## Citation for business understanding"
   ]
  },
  {
   "cell_type": "markdown",
   "metadata": {},
   "source": [
    "“Quora Insincere Questions Classification.” Kaggle, https://www.kaggle.com/c/quora-insincere-questions-classification/data."
   ]
  },
  {
   "cell_type": "code",
   "execution_count": 1,
   "metadata": {},
   "outputs": [
    {
     "name": "stderr",
     "output_type": "stream",
     "text": [
      "Using TensorFlow backend.\n"
     ]
    }
   ],
   "source": [
    "import os\n",
    "import sys\n",
    "import time\n",
    "import numpy as np # linear algebra\n",
    "import pandas as pd # data processing, CSV file I/O (e.g. pd.read_csv)\n",
    "from tqdm import tqdm\n",
    "import matplotlib.pyplot as plt\n",
    "import pickle\n",
    "import itertools\n",
    "import seaborn as sns\n",
    "import math\n",
    "import random\n",
    "from sklearn.model_selection import train_test_split\n",
    "from sklearn import metrics\n",
    "\n",
    "import keras\n",
    "from keras.preprocessing.text import Tokenizer\n",
    "from keras.preprocessing.sequence import pad_sequences\n",
    "from keras.utils.np_utils import to_categorical\n",
    "from keras.layers import Dense, Input, LSTM, Embedding, Dropout, Activation, CuDNNGRU, Conv1D, GRU\n",
    "from keras.layers import Bidirectional, GlobalMaxPool1D, Flatten, MaxPooling1D\n",
    "from keras.models import Model\n",
    "from keras.models import Sequential, load_model\n",
    "from keras import initializers, regularizers, constraints, optimizers, layers"
   ]
  },
  {
   "cell_type": "code",
   "execution_count": 2,
   "metadata": {},
   "outputs": [
    {
     "name": "stdout",
     "output_type": "stream",
     "text": [
      "Train shape :  (1306122, 3)\n"
     ]
    }
   ],
   "source": [
    "df_all = pd.read_csv(\"/Users/yifan/Downloads/lessons/7324/lab7/train.csv\")\n",
    "print(\"Train shape : \", df_all.shape)"
   ]
  },
  {
   "cell_type": "code",
   "execution_count": 3,
   "metadata": {},
   "outputs": [
    {
     "data": {
      "text/plain": [
       "0    1225312\n",
       "1      80810\n",
       "Name: target, dtype: int64"
      ]
     },
     "execution_count": 3,
     "metadata": {},
     "output_type": "execute_result"
    }
   ],
   "source": [
    "df_all[\"target\"].value_counts()"
   ]
  },
  {
   "cell_type": "markdown",
   "metadata": {},
   "source": [
    "It's so time-consuming to run all the data. We decide to use subset of orginal dataset."
   ]
  },
  {
   "cell_type": "code",
   "execution_count": 4,
   "metadata": {},
   "outputs": [],
   "source": [
    "random.seed(2019)\n",
    "df = df_all.sample(round(0.025*len(df_all.target)))"
   ]
  },
  {
   "cell_type": "code",
   "execution_count": 5,
   "metadata": {},
   "outputs": [
    {
     "data": {
      "text/plain": [
       "0    30568\n",
       "1     2085\n",
       "Name: target, dtype: int64"
      ]
     },
     "execution_count": 5,
     "metadata": {},
     "output_type": "execute_result"
    }
   ],
   "source": [
    "df[\"target\"].value_counts()"
   ]
  },
  {
   "cell_type": "code",
   "execution_count": 6,
   "metadata": {},
   "outputs": [
    {
     "data": {
      "image/png": "[encoded data removed]",
      "text/plain": [
       "<Figure size 432x288 with 1 Axes>"
      ]
     },
     "metadata": {},
     "output_type": "display_data"
    }
   ],
   "source": [
    "# Pie chart to show the class percentage\n",
    "labels = 'sincere','insincere'\n",
    "sizes = [30654,1999]\n",
    "colors = ['gold', 'yellowgreen']\n",
    "\n",
    "# Plot\n",
    "plt.pie(sizes,labels=labels, colors=colors,\n",
    "autopct='%1.1f%%', shadow=True, startangle=140)\n",
    "\n",
    "plt.show()"
   ]
  },
  {
   "cell_type": "markdown",
   "metadata": {},
   "source": [
    "From the pit chart above, 6.1% questions are classified as insincere, and 93.9% records are normal questions. Our dataset is obviously an imbalance dataset."
   ]
  },
  {
   "cell_type": "code",
   "execution_count": 7,
   "metadata": {},
   "outputs": [
    {
     "data": {
      "text/plain": [
       "False"
      ]
     },
     "execution_count": 7,
     "metadata": {},
     "output_type": "execute_result"
    }
   ],
   "source": [
    "df['question_text'].isnull().any() #Check for missing data"
   ]
  },
  {
   "cell_type": "code",
   "execution_count": 8,
   "metadata": {},
   "outputs": [
    {
     "data": {
      "text/plain": [
       "array(['Which documents are needfor getting non cremylayercertificate?',\n",
       "       'Is modern day mocking style humor really funny?',\n",
       "       'Which are the best sources to learn JavaScript?', ...,\n",
       "       'How do I date Nepalese girls in San Francisco Bay Area?',\n",
       "       \"Why isn't Arvind Kejriwal, one of the most honest person in India PM of India?\",\n",
       "       'Does a UPSC topper AIR 20 have superpowers like in Infinity War? How did he able to attend so many classes? What are his formulae for time management? How was he able to do a class at Vajiram, then at unique in Pune, then another at Chanakya, etc.?'],\n",
       "      dtype=object)"
      ]
     },
     "execution_count": 8,
     "metadata": {},
     "output_type": "execute_result"
    }
   ],
   "source": [
    "## fill up the missing values\n",
    "df_X = df[\"question_text\"].fillna(\"_na_\").values\n",
    "df_X"
   ]
  },
  {
   "cell_type": "code",
   "execution_count": 9,
   "metadata": {},
   "outputs": [],
   "source": [
    "## Get the target values\n",
    "df_y = df['target'].values"
   ]
  },
  {
   "cell_type": "code",
   "execution_count": 10,
   "metadata": {},
   "outputs": [
    {
     "name": "stdout",
     "output_type": "stream",
     "text": [
      "Found 30049 unique tokens. Distilled to 30049 top words.\n",
      "Shape of data tensor: (32653, 100)\n",
      "Shape of label tensor: (32653, 2)\n",
      "30049\n"
     ]
    }
   ],
   "source": [
    "NUM_TOP_WORDS = 50000 # how many unique words to use (i.e num rows in embedding vector)\n",
    "MAX_ART_LEN = 100 # max number of words in a question to use\n",
    "\n",
    "tokenizer = Tokenizer(num_words=NUM_TOP_WORDS)\n",
    "tokenizer.fit_on_texts(df_X)\n",
    "sequences = tokenizer.texts_to_sequences(df_X)\n",
    "\n",
    "word_index = tokenizer.word_index\n",
    "NUM_TOP_WORDS = len(word_index) if NUM_TOP_WORDS==None else NUM_TOP_WORDS\n",
    "top_words = min((len(word_index),NUM_TOP_WORDS))\n",
    "print('Found %s unique tokens. Distilled to %d top words.' % (len(word_index),top_words))\n",
    "\n",
    "X = pad_sequences(sequences, maxlen=MAX_ART_LEN)\n",
    "\n",
    "y_ohe = keras.utils.to_categorical(df_y)\n",
    "print('Shape of data tensor:', X.shape)\n",
    "print('Shape of label tensor:', y_ohe.shape)\n",
    "print(np.max(X))"
   ]
  },
  {
   "cell_type": "markdown",
   "metadata": {},
   "source": [
    "## Methods of Tokenization and Same Length Sequences (10 Points)\n",
    "\n",
    "The tokenizer class from Keras will convert a text document into a list of integers where each integer represents a word.  In this representation, the integer is called a token.  In our implementation, we use every word found in all of the documents. We also bound the number of words from each document to only the first 1000. If a document does not have 100 words, then it is zero-padded on the left.  The tokens also only represent words-- the punctuation is completely scrubbed from the documents."
   ]
  },
  {
   "cell_type": "markdown",
   "metadata": {},
   "source": [
    "## 1.2 Train and Test set Split (10 Points)"
   ]
  },
  {
   "cell_type": "code",
   "execution_count": 11,
   "metadata": {},
   "outputs": [
    {
     "name": "stdout",
     "output_type": "stream",
     "text": [
      "(26122, 100) (26122, 2)\n",
      "[24454.  1668.]\n"
     ]
    }
   ],
   "source": [
    "# Split it into train / test subsets\n",
    "X_train, X_test, y_train_ohe, y_test_ohe = train_test_split(X, y_ohe, test_size=0.2,\n",
    "                                                            stratify=df_y, \n",
    "                                                            random_state=42)\n",
    "NUM_CLASSES = 2\n",
    "print(X_train.shape,y_train_ohe.shape)\n",
    "print(np.sum(y_train_ohe,axis=0))"
   ]
  },
  {
   "cell_type": "markdown",
   "metadata": {},
   "source": [
    "Since we have more than 26000 lines of sample text data for training, the training set is large enough that we do not need to implement a k fold cross validation. To make the result reproducible, we set a random seed. We separate the sample data set to a 80/20 training and test split."
   ]
  },
  {
   "cell_type": "markdown",
   "metadata": {},
   "source": [
    "## 1.3 Evaluation Metric (10 points)"
   ]
  },
  {
   "cell_type": "markdown",
   "metadata": {},
   "source": [
    "## Metrics measurement\n",
    "\n",
    "As we mentioned in False Positive vs False Negative Trade-off, in all classification problems, it is important to consider which is worse: false positives or false negatives. In this case, we will define a false positive as when the algorithm predicts that a child has pneumonia even when he or she doesn’t. A false negative is when the classivier predicts that the child does not have pneumonia even when the child does. In this case, it is clear that we want to limit the amount of false negatives. We also want to keep children from unnessary treatment, which will happen in false positive situation.\n",
    "\n",
    "Since higher recall ratio illustrates lower false negative and we also concer about lower false positive, we should use **F1-score** as our main metric. F1-score are defined for binary classes. There are two ways to combine it into multiple classes. **micro** is calculated for the individual TPs, TNs, FPs, FNs of the confusion matrix, which weights each instance equally. **macro** is calculated as the average scores of the confusion matrix, which weights each class equally to evaluate the overall performance. Since we have an imbalanced instance for each class, we perfer to use F1 weighted macro-average score.\n",
    "\n",
    "Given the metric for $K^{th}$ classes $X_k$:\n",
    "$$F1_{micro} = \\frac {2\\times (TP_1 + ... + TP_k) } {2\\times (TP1_1 +  ... + TP_k) + FP_1 +  ... + FP_k + FN_1 + ... + FN_k} $$\n",
    "\n",
    "$$F1_{macro} = \\frac {X_1  + ... + X_k} {k} $$"
   ]
  },
  {
   "cell_type": "markdown",
   "metadata": {},
   "source": [
    "## Add F1-Score"
   ]
  },
  {
   "cell_type": "markdown",
   "metadata": {},
   "source": [
    "Reference\n",
    "Guglielmocamporese. “Macro F1-Score Keras.” Kaggle, Kaggle, 20 Oct. 2018, https://www.kaggle.com/guglielmocamporese/macro-f1-score-keras."
   ]
  },
  {
   "cell_type": "code",
   "execution_count": 12,
   "metadata": {},
   "outputs": [],
   "source": [
    "import keras.backend as K\n",
    "import tensorflow as tf\n",
    "from tensorflow import math\n",
    "\n",
    "def f1(y_true, y_pred):\n",
    "    y_pred = K.round(y_pred)\n",
    "    tp = K.sum(K.cast(y_true*y_pred, 'float'), axis=0)\n",
    "    # tn = K.sum(K.cast((1-y_true)*(1-y_pred), 'float'), axis=0)\n",
    "    fp = K.sum(K.cast((1-y_true)*y_pred, 'float'), axis=0)\n",
    "    fn = K.sum(K.cast(y_true*(1-y_pred), 'float'), axis=0)\n",
    "\n",
    "    p = tp / (tp + fp + K.epsilon())\n",
    "    r = tp / (tp + fn + K.epsilon())\n",
    "\n",
    "    f1 = 2*p*r / (p+r+K.epsilon())\n",
    "    f1 = tf.where(tf.math.is_nan(f1), tf.zeros_like(f1), f1)\n",
    "    return K.mean(f1)"
   ]
  },
  {
   "cell_type": "markdown",
   "metadata": {},
   "source": [
    "# 2. Modeling  (60 points total) \n"
   ]
  },
  {
   "cell_type": "markdown",
   "metadata": {},
   "source": [
    "## 2.1 Basic RNN ( 20 points)"
   ]
  },
  {
   "cell_type": "markdown",
   "metadata": {},
   "source": [
    "## LSTM"
   ]
  },
  {
   "cell_type": "markdown",
   "metadata": {},
   "source": [
    "We investigate two different recurrent network architectures. One is Long Short Term Memory (LSTM) architecture, the other is Gated Recurrent Unit architecture (GRU). The main hyperparemeters that we experimented with were unit, dropout and recurrent dropout. "
   ]
  },
  {
   "cell_type": "code",
   "execution_count": 13,
   "metadata": {},
   "outputs": [
    {
     "name": "stdout",
     "output_type": "stream",
     "text": [
      "Kathy_1212.ipynb              \u001b[34mglove.6B\u001b[m\u001b[m\r\n",
      "Kathy_1214.ipynb              lab 7 yifan 12-14 1pm.ipynb\r\n",
      "Kathy_1216.ipynb              lab 7 yifan 12-17 2pm.ipynb\r\n",
      "Lab7_Chan_Chen_Li_Final.ipynb train.csv\r\n"
     ]
    }
   ],
   "source": [
    "!ls \"/Users/yifan/Downloads/lessons/7324/lab7//\" "
   ]
  },
  {
   "cell_type": "code",
   "execution_count": 14,
   "metadata": {},
   "outputs": [
    {
     "name": "stdout",
     "output_type": "stream",
     "text": [
      "Found 400000 word vectors.\n",
      "(30050, 300)\n",
      "CPU times: user 35 s, sys: 1.21 s, total: 36.2 s\n",
      "Wall time: 39.9 s\n"
     ]
    }
   ],
   "source": [
    "%%time\n",
    "EMBED_SIZE = 300\n",
    "# the embed size should match the file you load glove from\n",
    "embeddings_index = {}\n",
    "f = open('/Users/yifan/Downloads/lessons/7324/lab7/glove.6B/glove.6B.300d.txt')\n",
    "# save key/array pairs of the embeddings\n",
    "#  the key of the dictionary is the word, the array is the embedding\n",
    "for line in f:\n",
    "    values = line.split()\n",
    "    word = values[0]\n",
    "    coefs = np.asarray(values[1:], dtype='float32')\n",
    "    embeddings_index[word] = coefs\n",
    "f.close()\n",
    "\n",
    "print('Found %s word vectors.' % len(embeddings_index))\n",
    "\n",
    "# now fill in the matrix, using the ordering from the\n",
    "#  keras word tokenizer from before\n",
    "embedding_matrix = np.zeros((len(word_index) + 1, EMBED_SIZE))\n",
    "for word, i in word_index.items():\n",
    "    embedding_vector = embeddings_index.get(word)\n",
    "    if embedding_vector is not None:\n",
    "        # words not found in embedding index will be all-zeros.\n",
    "        embedding_matrix[i] = embedding_vector\n",
    "\n",
    "print(embedding_matrix.shape)"
   ]
  },
  {
   "cell_type": "code",
   "execution_count": 15,
   "metadata": {},
   "outputs": [],
   "source": [
    "embedding_layer = Embedding(len(word_index) + 1,\n",
    "                            EMBED_SIZE,\n",
    "                            weights=[embedding_matrix],\n",
    "                            input_length=MAX_ART_LEN,\n",
    "                            trainable=False)"
   ]
  },
  {
   "cell_type": "code",
   "execution_count": 16,
   "metadata": {},
   "outputs": [
    {
     "data": {
      "text/plain": [
       "<keras.optimizers.Adam at 0x116192a20>"
      ]
     },
     "execution_count": 16,
     "metadata": {},
     "output_type": "execute_result"
    }
   ],
   "source": [
    "#change learning rate\n",
    "keras.optimizers.Adam(learning_rate=0.001)"
   ]
  },
  {
   "cell_type": "code",
   "execution_count": 17,
   "metadata": {},
   "outputs": [
    {
     "name": "stdout",
     "output_type": "stream",
     "text": [
      "Model: \"sequential_1\"\n",
      "_________________________________________________________________\n",
      "Layer (type)                 Output Shape              Param #   \n",
      "=================================================================\n",
      "embedding_1 (Embedding)      (None, 100, 300)          9015000   \n",
      "_________________________________________________________________\n",
      "lstm_1 (LSTM)                (None, 100, 64)           93440     \n",
      "_________________________________________________________________\n",
      "global_max_pooling1d_1 (Glob (None, 64)                0         \n",
      "_________________________________________________________________\n",
      "dense_1 (Dense)              (None, 2)                 130       \n",
      "=================================================================\n",
      "Total params: 9,108,570\n",
      "Trainable params: 93,570\n",
      "Non-trainable params: 9,015,000\n",
      "_________________________________________________________________\n",
      "None\n"
     ]
    }
   ],
   "source": [
    "from keras.models import Sequential\n",
    "from keras.layers import Dense\n",
    "from keras.layers import LSTM\n",
    "\n",
    "rnn = Sequential()\n",
    "rnn.add(embedding_layer)\n",
    "rnn.add(LSTM(64,dropout=0.2, recurrent_dropout=0.2,activation='relu',return_sequences=True))\n",
    "rnn.add(GlobalMaxPool1D())\n",
    "rnn.add(Dense(NUM_CLASSES, activation='sigmoid'))\n",
    "\n",
    "rnn.compile(loss='binary_crossentropy', \n",
    "              optimizer='adam', \n",
    "              metrics=['accuracy',f1])\n",
    "print(rnn.summary())"
   ]
  },
  {
   "cell_type": "code",
   "execution_count": 84,
   "metadata": {},
   "outputs": [
    {
     "name": "stdout",
     "output_type": "stream",
     "text": [
      "Train on 26122 samples, validate on 6531 samples\n",
      "Epoch 1/15\n",
      "26122/26122 [==============================] - 62s 2ms/step - loss: 0.2201 - accuracy: 0.9347 - f1: 0.5460 - val_loss: 0.1569 - val_accuracy: 0.9401 - val_f1: 0.6493\n",
      "Epoch 2/15\n",
      "26122/26122 [==============================] - 56s 2ms/step - loss: 0.1476 - accuracy: 0.9466 - f1: 0.6768 - val_loss: 0.1467 - val_accuracy: 0.9422 - val_f1: 0.6791\n",
      "Epoch 3/15\n",
      "26122/26122 [==============================] - 46s 2ms/step - loss: 0.1376 - accuracy: 0.9493 - f1: 0.7046 - val_loss: 0.1429 - val_accuracy: 0.9446 - val_f1: 0.7071\n",
      "Epoch 4/15\n",
      "26122/26122 [==============================] - 47s 2ms/step - loss: 0.1300 - accuracy: 0.9505 - f1: 0.7118 - val_loss: 0.1382 - val_accuracy: 0.9473 - val_f1: 0.7016\n",
      "Epoch 5/15\n",
      "26122/26122 [==============================] - 55s 2ms/step - loss: 0.1237 - accuracy: 0.9531 - f1: 0.7367 - val_loss: 0.1386 - val_accuracy: 0.9472 - val_f1: 0.7088\n",
      "Epoch 6/15\n",
      "26122/26122 [==============================] - 52s 2ms/step - loss: 0.1153 - accuracy: 0.9548 - f1: 0.7457 - val_loss: 0.1383 - val_accuracy: 0.9479 - val_f1: 0.7066\n",
      "Epoch 7/15\n",
      "26122/26122 [==============================] - 54s 2ms/step - loss: 0.1103 - accuracy: 0.9573 - f1: 0.7669 - val_loss: 0.1398 - val_accuracy: 0.9486 - val_f1: 0.7127\n",
      "Epoch 8/15\n",
      "26122/26122 [==============================] - 66s 3ms/step - loss: 0.1049 - accuracy: 0.9598 - f1: 0.7839 - val_loss: 0.1402 - val_accuracy: 0.9479 - val_f1: 0.7093\n",
      "Epoch 9/15\n",
      "26122/26122 [==============================] - 51s 2ms/step - loss: 0.1002 - accuracy: 0.9624 - f1: 0.8037 - val_loss: 0.1418 - val_accuracy: 0.9471 - val_f1: 0.7117\n",
      "Epoch 10/15\n",
      "26122/26122 [==============================] - 52s 2ms/step - loss: 0.0946 - accuracy: 0.9639 - f1: 0.8112 - val_loss: 0.1445 - val_accuracy: 0.9471 - val_f1: 0.6829\n",
      "Epoch 11/15\n",
      "26122/26122 [==============================] - 72s 3ms/step - loss: 0.0899 - accuracy: 0.9657 - f1: 0.8183 - val_loss: 0.1465 - val_accuracy: 0.9473 - val_f1: 0.7075\n",
      "Epoch 12/15\n",
      "26122/26122 [==============================] - 55s 2ms/step - loss: 0.0828 - accuracy: 0.9695 - f1: 0.8413 - val_loss: 0.1486 - val_accuracy: 0.9445 - val_f1: 0.7344\n",
      "Epoch 13/15\n",
      "26122/26122 [==============================] - 57s 2ms/step - loss: 0.0782 - accuracy: 0.9712 - f1: 0.8507 - val_loss: 0.1660 - val_accuracy: 0.9456 - val_f1: 0.6565\n",
      "Epoch 14/15\n",
      "26122/26122 [==============================] - 53s 2ms/step - loss: 0.0784 - accuracy: 0.9726 - f1: 0.8594 - val_loss: 0.1509 - val_accuracy: 0.9461 - val_f1: 0.7303\n",
      "Epoch 15/15\n",
      "26122/26122 [==============================] - 68s 3ms/step - loss: 0.0766 - accuracy: 0.9712 - f1: 0.8566 - val_loss: 0.1503 - val_accuracy: 0.9455 - val_f1: 0.7050\n"
     ]
    },
    {
     "data": {
      "text/plain": [
       "<keras.callbacks.callbacks.History at 0x17acb5fd0>"
      ]
     },
     "execution_count": 84,
     "metadata": {},
     "output_type": "execute_result"
    }
   ],
   "source": [
    "rnn.fit(X_train, y_train_ohe, validation_data=(X_test, y_test_ohe), epochs=15, batch_size=128)"
   ]
  },
  {
   "cell_type": "markdown",
   "metadata": {},
   "source": [
    "After 8 epochs we can see that the LSTM rnn has been converged after 10 epochs as the validation loss begin to increase. Loss for train set are decressing faster than validation set, which indicates potential over-fitting."
   ]
  },
  {
   "cell_type": "code",
   "execution_count": 18,
   "metadata": {},
   "outputs": [],
   "source": [
    "def confusion_rnn(rnn, X_test, y_test_ohe, title):\n",
    "    yhat = np.argmax(rnn.predict(X_test), axis=1)\n",
    "    y_test = np.argmax(y_test_ohe, axis = 1)\n",
    "    cm = metrics.confusion_matrix(y_test, yhat)\n",
    "    cm = cm/np.sum(cm,axis=1)[:,np.newaxis]\n",
    "    acc = metrics.accuracy_score(y_test, yhat)\n",
    "    f1 = metrics.f1_score(y_test, yhat, average=\"macro\")\n",
    "    plt.title(\"Using \" + str(title) + \": \" +' Acc: {:.4f}'.format(acc) + ' F1: {:.4f}'.format(f1))\n",
    "    sns.heatmap(cm, annot=True, fmt='.2f')\n",
    "    plt.show()"
   ]
  },
  {
   "cell_type": "code",
   "execution_count": 85,
   "metadata": {},
   "outputs": [
    {
     "data": {
      "image/png": "[encoded data removed]",
      "text/plain": [
       "<Figure size 432x288 with 2 Axes>"
      ]
     },
     "metadata": {
      "needs_background": "light"
     },
     "output_type": "display_data"
    }
   ],
   "source": [
    "confusion_rnn(rnn, X_test, y_test_ohe, 'LSTM')"
   ]
  },
  {
   "cell_type": "markdown",
   "metadata": {},
   "source": [
    "It is obvious that this LSTM model does not perform well for the classify the target=1(the positive value, which means the question is insincere), since we only get 0.39 true positive rate. So we want to check if we can find a threshold of f1 score to make our model performance better."
   ]
  },
  {
   "cell_type": "markdown",
   "metadata": {},
   "source": [
    "## Reference for threshold_search\n",
    "Sudalairajkumar. “A Look at Different Embeddings.!” Kaggle, Kaggle, 8 Nov. 2018, https://www.kaggle.com/sudalairajkumar/a-look-at-different-embeddings."
   ]
  },
  {
   "cell_type": "code",
   "execution_count": 86,
   "metadata": {},
   "outputs": [
    {
     "name": "stdout",
     "output_type": "stream",
     "text": [
      "6531/6531 [==============================] - 5s 741us/step\n"
     ]
    }
   ],
   "source": [
    "#Search for the threshold for best f1\n",
    "#https://www.kaggle.com/sudalairajkumar/a-look-at-different-embeddings/notebook\n",
    "def threshold_search(y_true, y_proba):\n",
    "    best_threshold = 0\n",
    "    best_score = 0\n",
    "    for threshold in tqdm([i * 0.01 for i in range(100)], disable=True):\n",
    "        score = metrics.f1_score(y_true, (y_proba> threshold).astype(int),average = \"macro\")\n",
    "        if score > best_score:\n",
    "            best_threshold = threshold\n",
    "            best_score = score\n",
    "    search_result = {'threshold': best_threshold, 'f1': best_score}\n",
    "    return search_result\n",
    "\n",
    "\n",
    "test_pred = np.argmax(rnn.predict([X_test], batch_size=128, verbose=1),axis=1)\n",
    "y_test = np.argmax(y_test_ohe,axis=1)\n",
    "search_result = threshold_search(y_test, test_pred)"
   ]
  },
  {
   "cell_type": "code",
   "execution_count": 87,
   "metadata": {},
   "outputs": [
    {
     "data": {
      "text/plain": [
       "{'threshold': 0.0, 'f1': 0.7207439209977513}"
      ]
     },
     "execution_count": 87,
     "metadata": {},
     "output_type": "execute_result"
    }
   ],
   "source": [
    "search_result"
   ]
  },
  {
   "cell_type": "code",
   "execution_count": 88,
   "metadata": {},
   "outputs": [
    {
     "name": "stdout",
     "output_type": "stream",
     "text": [
      "F1 score at threshold 0.0 is 0.7207439209977513\n",
      "F1 score at threshold 0.01 is 0.7207439209977513\n",
      "F1 score at threshold 0.02 is 0.7207439209977513\n",
      "F1 score at threshold 0.03 is 0.7207439209977513\n",
      "F1 score at threshold 0.04 is 0.7207439209977513\n",
      "F1 score at threshold 0.05 is 0.7207439209977513\n",
      "F1 score at threshold 0.06 is 0.7207439209977513\n",
      "F1 score at threshold 0.07 is 0.7207439209977513\n",
      "F1 score at threshold 0.08 is 0.7207439209977513\n",
      "F1 score at threshold 0.09 is 0.7207439209977513\n",
      "F1 score at threshold 0.1 is 0.7207439209977513\n",
      "F1 score at threshold 0.11 is 0.7207439209977513\n",
      "F1 score at threshold 0.12 is 0.7207439209977513\n",
      "F1 score at threshold 0.13 is 0.7207439209977513\n",
      "F1 score at threshold 0.14 is 0.7207439209977513\n",
      "F1 score at threshold 0.15 is 0.7207439209977513\n",
      "F1 score at threshold 0.16 is 0.7207439209977513\n",
      "F1 score at threshold 0.17 is 0.7207439209977513\n",
      "F1 score at threshold 0.18 is 0.7207439209977513\n",
      "F1 score at threshold 0.19 is 0.7207439209977513\n",
      "F1 score at threshold 0.2 is 0.7207439209977513\n",
      "F1 score at threshold 0.21 is 0.7207439209977513\n",
      "F1 score at threshold 0.22 is 0.7207439209977513\n",
      "F1 score at threshold 0.23 is 0.7207439209977513\n",
      "F1 score at threshold 0.24 is 0.7207439209977513\n",
      "F1 score at threshold 0.25 is 0.7207439209977513\n",
      "F1 score at threshold 0.26 is 0.7207439209977513\n",
      "F1 score at threshold 0.27 is 0.7207439209977513\n",
      "F1 score at threshold 0.28 is 0.7207439209977513\n",
      "F1 score at threshold 0.29 is 0.7207439209977513\n",
      "F1 score at threshold 0.3 is 0.7207439209977513\n",
      "F1 score at threshold 0.31 is 0.7207439209977513\n",
      "F1 score at threshold 0.32 is 0.7207439209977513\n",
      "F1 score at threshold 0.33 is 0.7207439209977513\n",
      "F1 score at threshold 0.34 is 0.7207439209977513\n",
      "F1 score at threshold 0.35 is 0.7207439209977513\n",
      "F1 score at threshold 0.36 is 0.7207439209977513\n",
      "F1 score at threshold 0.37 is 0.7207439209977513\n",
      "F1 score at threshold 0.38 is 0.7207439209977513\n",
      "F1 score at threshold 0.39 is 0.7207439209977513\n",
      "F1 score at threshold 0.4 is 0.7207439209977513\n",
      "F1 score at threshold 0.41 is 0.7207439209977513\n",
      "F1 score at threshold 0.42 is 0.7207439209977513\n",
      "F1 score at threshold 0.43 is 0.7207439209977513\n",
      "F1 score at threshold 0.44 is 0.7207439209977513\n",
      "F1 score at threshold 0.45 is 0.7207439209977513\n",
      "F1 score at threshold 0.46 is 0.7207439209977513\n",
      "F1 score at threshold 0.47 is 0.7207439209977513\n",
      "F1 score at threshold 0.48 is 0.7207439209977513\n",
      "F1 score at threshold 0.49 is 0.7207439209977513\n",
      "F1 score at threshold 0.5 is 0.7207439209977513\n"
     ]
    }
   ],
   "source": [
    "y_test = np.argmax(y_test_ohe,axis=1)\n",
    "#All the f1\n",
    "test_pred = np.argmax(rnn.predict(X_test),axis=1)\n",
    "for thresh in np.arange(0, 0.51, 0.01):\n",
    "    thresh = np.round(thresh, 2)\n",
    "    print(\"F1 score at threshold {0} is {1}\".format(thresh, metrics.f1_score(y_test, (test_pred > thresh).astype(int),average = \"macro\")))"
   ]
  },
  {
   "cell_type": "markdown",
   "metadata": {},
   "source": [
    "We didn't find a better threshold for LSTM model. We processed with defalut threshold then."
   ]
  },
  {
   "cell_type": "markdown",
   "metadata": {},
   "source": [
    "## GRU"
   ]
  },
  {
   "cell_type": "code",
   "execution_count": 89,
   "metadata": {},
   "outputs": [
    {
     "name": "stdout",
     "output_type": "stream",
     "text": [
      "Model: \"sequential_30\"\n",
      "_________________________________________________________________\n",
      "Layer (type)                 Output Shape              Param #   \n",
      "=================================================================\n",
      "embedding_1 (Embedding)      (None, 100, 300)          9031200   \n",
      "_________________________________________________________________\n",
      "gru_13 (GRU)                 (None, 100, 64)           70080     \n",
      "_________________________________________________________________\n",
      "global_max_pooling1d_30 (Glo (None, 64)                0         \n",
      "_________________________________________________________________\n",
      "dense_30 (Dense)             (None, 2)                 130       \n",
      "=================================================================\n",
      "Total params: 9,101,410\n",
      "Trainable params: 70,210\n",
      "Non-trainable params: 9,031,200\n",
      "_________________________________________________________________\n",
      "None\n"
     ]
    }
   ],
   "source": [
    "rnn_gru = Sequential()\n",
    "rnn_gru.add(embedding_layer)\n",
    "rnn_gru.add(GRU(64,dropout=0.2, recurrent_dropout=0.2,activation='relu',return_sequences=True))\n",
    "rnn_gru.add(GlobalMaxPool1D())\n",
    "rnn_gru.add(Dense(NUM_CLASSES, activation='sigmoid'))\n",
    "rnn_gru.compile(loss='binary_crossentropy', \n",
    "              optimizer='adam', \n",
    "              metrics=['accuracy',f1])\n",
    "print(rnn_gru.summary())"
   ]
  },
  {
   "cell_type": "code",
   "execution_count": 90,
   "metadata": {},
   "outputs": [
    {
     "name": "stdout",
     "output_type": "stream",
     "text": [
      "Train on 26122 samples, validate on 6531 samples\n",
      "Epoch 1/12\n",
      "26122/26122 [==============================] - 48s 2ms/step - loss: 0.1997 - accuracy: 0.9378 - f1: 0.5426 - val_loss: 0.1601 - val_accuracy: 0.9397 - val_f1: 0.5902\n",
      "Epoch 2/12\n",
      "26122/26122 [==============================] - 44s 2ms/step - loss: 0.1455 - accuracy: 0.9466 - f1: 0.6727 - val_loss: 0.1486 - val_accuracy: 0.9422 - val_f1: 0.6525\n",
      "Epoch 3/12\n",
      "26122/26122 [==============================] - 44s 2ms/step - loss: 0.1347 - accuracy: 0.9488 - f1: 0.7005 - val_loss: 0.1439 - val_accuracy: 0.9439 - val_f1: 0.6876\n",
      "Epoch 4/12\n",
      "26122/26122 [==============================] - 46s 2ms/step - loss: 0.1264 - accuracy: 0.9512 - f1: 0.7211 - val_loss: 0.1423 - val_accuracy: 0.9459 - val_f1: 0.6975\n",
      "Epoch 5/12\n",
      "26122/26122 [==============================] - 42s 2ms/step - loss: 0.1213 - accuracy: 0.9529 - f1: 0.7316 - val_loss: 0.1399 - val_accuracy: 0.9478 - val_f1: 0.7074\n",
      "Epoch 6/12\n",
      "26122/26122 [==============================] - 40s 2ms/step - loss: 0.1202 - accuracy: 0.9542 - f1: 0.7414 - val_loss: 0.1393 - val_accuracy: 0.9466 - val_f1: 0.7154\n",
      "Epoch 7/12\n",
      "26122/26122 [==============================] - 47s 2ms/step - loss: 0.1124 - accuracy: 0.9572 - f1: 0.7690 - val_loss: 0.1380 - val_accuracy: 0.9485 - val_f1: 0.6942\n",
      "Epoch 8/12\n",
      "26122/26122 [==============================] - 52s 2ms/step - loss: 0.1575 - accuracy: 0.9564 - f1: 0.7595 - val_loss: 0.1435 - val_accuracy: 0.9464 - val_f1: 0.6562\n",
      "Epoch 9/12\n",
      "26122/26122 [==============================] - 58s 2ms/step - loss: 0.1050 - accuracy: 0.9595 - f1: 0.7817 - val_loss: 0.1382 - val_accuracy: 0.9478 - val_f1: 0.6950\n",
      "Epoch 10/12\n",
      "26122/26122 [==============================] - 48s 2ms/step - loss: 0.1036 - accuracy: 0.9597 - f1: 0.7811 - val_loss: 0.1381 - val_accuracy: 0.9479 - val_f1: 0.7025\n",
      "Epoch 11/12\n",
      "26122/26122 [==============================] - 46s 2ms/step - loss: 0.0995 - accuracy: 0.9621 - f1: 0.7974 - val_loss: 0.1385 - val_accuracy: 0.9494 - val_f1: 0.7152\n",
      "Epoch 12/12\n",
      "26122/26122 [==============================] - 43s 2ms/step - loss: 0.0967 - accuracy: 0.9624 - f1: 0.8003 - val_loss: 0.1385 - val_accuracy: 0.9476 - val_f1: 0.7086\n"
     ]
    },
    {
     "data": {
      "text/plain": [
       "<keras.callbacks.callbacks.History at 0x17c446eb8>"
      ]
     },
     "execution_count": 90,
     "metadata": {},
     "output_type": "execute_result"
    }
   ],
   "source": [
    "rnn_gru.fit(X_train, y_train_ohe, validation_data=(X_test, y_test_ohe), epochs=12, batch_size=128)"
   ]
  },
  {
   "cell_type": "markdown",
   "metadata": {},
   "source": [
    "After 8 epochs we can see that the GRU rnn has been converged after 9 epochs as the validation loss stay quiet stand."
   ]
  },
  {
   "cell_type": "code",
   "execution_count": 91,
   "metadata": {},
   "outputs": [
    {
     "data": {
      "image/png": "[encoded data removed]",
      "text/plain": [
       "<Figure size 432x288 with 2 Axes>"
      ]
     },
     "metadata": {
      "needs_background": "light"
     },
     "output_type": "display_data"
    }
   ],
   "source": [
    "confusion_rnn(rnn_gru, X_test, y_test_ohe, 'GRU')"
   ]
  },
  {
   "cell_type": "markdown",
   "metadata": {},
   "source": [
    "This GRU model also does not perform well for the classify the target=1(the positive value, which means the question is insincere), since we only get 0.38 true positive rate."
   ]
  },
  {
   "cell_type": "code",
   "execution_count": 92,
   "metadata": {},
   "outputs": [
    {
     "name": "stdout",
     "output_type": "stream",
     "text": [
      "6531/6531 [==============================] - 5s 729us/step\n"
     ]
    }
   ],
   "source": [
    "test_pred_gru = np.argmax(rnn_gru.predict([X_test], batch_size=128, verbose=1),axis=1)\n",
    "search_result_gru = threshold_search(y_test, test_pred_gru)"
   ]
  },
  {
   "cell_type": "code",
   "execution_count": 93,
   "metadata": {},
   "outputs": [
    {
     "name": "stdout",
     "output_type": "stream",
     "text": [
      "6531/6531 [==============================] - 4s 670us/step\n",
      "F1 score at threshold 0.0 is 0.719068393005945\n",
      "F1 score at threshold 0.01 is 0.719068393005945\n",
      "F1 score at threshold 0.02 is 0.719068393005945\n",
      "F1 score at threshold 0.03 is 0.719068393005945\n",
      "F1 score at threshold 0.04 is 0.719068393005945\n",
      "F1 score at threshold 0.05 is 0.719068393005945\n",
      "F1 score at threshold 0.06 is 0.719068393005945\n",
      "F1 score at threshold 0.07 is 0.719068393005945\n",
      "F1 score at threshold 0.08 is 0.719068393005945\n",
      "F1 score at threshold 0.09 is 0.719068393005945\n",
      "F1 score at threshold 0.1 is 0.719068393005945\n",
      "F1 score at threshold 0.11 is 0.719068393005945\n",
      "F1 score at threshold 0.12 is 0.719068393005945\n",
      "F1 score at threshold 0.13 is 0.719068393005945\n",
      "F1 score at threshold 0.14 is 0.719068393005945\n",
      "F1 score at threshold 0.15 is 0.719068393005945\n",
      "F1 score at threshold 0.16 is 0.719068393005945\n",
      "F1 score at threshold 0.17 is 0.719068393005945\n",
      "F1 score at threshold 0.18 is 0.719068393005945\n",
      "F1 score at threshold 0.19 is 0.719068393005945\n",
      "F1 score at threshold 0.2 is 0.719068393005945\n",
      "F1 score at threshold 0.21 is 0.719068393005945\n",
      "F1 score at threshold 0.22 is 0.719068393005945\n",
      "F1 score at threshold 0.23 is 0.719068393005945\n",
      "F1 score at threshold 0.24 is 0.719068393005945\n",
      "F1 score at threshold 0.25 is 0.719068393005945\n",
      "F1 score at threshold 0.26 is 0.719068393005945\n",
      "F1 score at threshold 0.27 is 0.719068393005945\n",
      "F1 score at threshold 0.28 is 0.719068393005945\n",
      "F1 score at threshold 0.29 is 0.719068393005945\n",
      "F1 score at threshold 0.3 is 0.719068393005945\n",
      "F1 score at threshold 0.31 is 0.719068393005945\n",
      "F1 score at threshold 0.32 is 0.719068393005945\n",
      "F1 score at threshold 0.33 is 0.719068393005945\n",
      "F1 score at threshold 0.34 is 0.719068393005945\n",
      "F1 score at threshold 0.35 is 0.719068393005945\n",
      "F1 score at threshold 0.36 is 0.719068393005945\n",
      "F1 score at threshold 0.37 is 0.719068393005945\n",
      "F1 score at threshold 0.38 is 0.719068393005945\n",
      "F1 score at threshold 0.39 is 0.719068393005945\n",
      "F1 score at threshold 0.4 is 0.719068393005945\n",
      "F1 score at threshold 0.41 is 0.719068393005945\n",
      "F1 score at threshold 0.42 is 0.719068393005945\n",
      "F1 score at threshold 0.43 is 0.719068393005945\n",
      "F1 score at threshold 0.44 is 0.719068393005945\n",
      "F1 score at threshold 0.45 is 0.719068393005945\n",
      "F1 score at threshold 0.46 is 0.719068393005945\n",
      "F1 score at threshold 0.47 is 0.719068393005945\n",
      "F1 score at threshold 0.48 is 0.719068393005945\n",
      "F1 score at threshold 0.49 is 0.719068393005945\n",
      "F1 score at threshold 0.5 is 0.719068393005945\n"
     ]
    }
   ],
   "source": [
    "y_test = np.argmax(y_test_ohe,axis=1)\n",
    "#All the f1\n",
    "test_pred = np.argmax(rnn_gru.predict([X_test], batch_size=128, verbose=1),axis=1)\n",
    "for thresh in np.arange(0, 0.51, 0.01):\n",
    "    thresh = np.round(thresh, 2)\n",
    "    print(\"F1 score at threshold {0} is {1}\".format(thresh, metrics.f1_score(y_test, (test_pred > thresh).astype(int),average = \"macro\")))"
   ]
  },
  {
   "cell_type": "markdown",
   "metadata": {},
   "source": [
    "## Adjust parameters"
   ]
  },
  {
   "cell_type": "code",
   "execution_count": 19,
   "metadata": {},
   "outputs": [
    {
     "name": "stdout",
     "output_type": "stream",
     "text": [
      "Train on 26122 samples, validate on 6531 samples\n",
      "Epoch 1/12\n",
      "26122/26122 [==============================] - 38s 1ms/step - loss: 0.2226 - accuracy: 0.9271 - f1: 0.5544 - val_loss: 0.1612 - val_accuracy: 0.9418 - val_f1: 0.6243\n",
      "Epoch 2/12\n",
      "26122/26122 [==============================] - 31s 1ms/step - loss: 0.1480 - accuracy: 0.9472 - f1: 0.7002 - val_loss: 0.1467 - val_accuracy: 0.9439 - val_f1: 0.6925\n",
      "Epoch 3/12\n",
      "26122/26122 [==============================] - 31s 1ms/step - loss: 0.1370 - accuracy: 0.9484 - f1: 0.7196 - val_loss: 0.1393 - val_accuracy: 0.9463 - val_f1: 0.6935\n",
      "Epoch 4/12\n",
      "26122/26122 [==============================] - 30s 1ms/step - loss: 0.1371 - accuracy: 0.9492 - f1: 0.7260 - val_loss: 0.1420 - val_accuracy: 0.9448 - val_f1: 0.6878\n",
      "Epoch 5/12\n",
      "26122/26122 [==============================] - 31s 1ms/step - loss: 0.1272 - accuracy: 0.9516 - f1: 0.7370 - val_loss: 0.1393 - val_accuracy: 0.9456 - val_f1: 0.7208\n",
      "Epoch 6/12\n",
      "26122/26122 [==============================] - 31s 1ms/step - loss: 0.1219 - accuracy: 0.9535 - f1: 0.7541 - val_loss: 0.1378 - val_accuracy: 0.9466 - val_f1: 0.7243\n",
      "Epoch 7/12\n",
      "26122/26122 [==============================] - 31s 1ms/step - loss: 0.1179 - accuracy: 0.9548 - f1: 0.7650 - val_loss: 0.1358 - val_accuracy: 0.9474 - val_f1: 0.7221\n",
      "Epoch 8/12\n",
      "26122/26122 [==============================] - 30s 1ms/step - loss: 0.1133 - accuracy: 0.9567 - f1: 0.7791 - val_loss: 0.1365 - val_accuracy: 0.9476 - val_f1: 0.7274\n",
      "Epoch 9/12\n",
      "26122/26122 [==============================] - 30s 1ms/step - loss: 0.1110 - accuracy: 0.9576 - f1: 0.7796 - val_loss: 0.1353 - val_accuracy: 0.9478 - val_f1: 0.7107\n",
      "Epoch 10/12\n",
      "26122/26122 [==============================] - 31s 1ms/step - loss: 0.1051 - accuracy: 0.9605 - f1: 0.7976 - val_loss: 0.1396 - val_accuracy: 0.9473 - val_f1: 0.7240\n",
      "Epoch 11/12\n",
      "26122/26122 [==============================] - 31s 1ms/step - loss: 0.1005 - accuracy: 0.9622 - f1: 0.8088 - val_loss: 0.1371 - val_accuracy: 0.9475 - val_f1: 0.7126\n",
      "Epoch 12/12\n",
      "26122/26122 [==============================] - 30s 1ms/step - loss: 0.0966 - accuracy: 0.9642 - f1: 0.8175 - val_loss: 0.1404 - val_accuracy: 0.9480 - val_f1: 0.7239\n",
      "<class 'keras.layers.recurrent.LSTM'> (unit=32, dropout=0.1, recurrent=0.1): Acc=0.9479405910274078, F1=0.742697395803882 \n",
      "Train on 26122 samples, validate on 6531 samples\n",
      "Epoch 1/12\n",
      "26122/26122 [==============================] - 32s 1ms/step - loss: 0.2578 - accuracy: 0.9054 - f1: 0.5009 - val_loss: 0.1643 - val_accuracy: 0.9407 - val_f1: 0.6493\n",
      "Epoch 2/12\n",
      "26122/26122 [==============================] - 31s 1ms/step - loss: 0.1564 - accuracy: 0.9435 - f1: 0.6693 - val_loss: 0.1520 - val_accuracy: 0.9430 - val_f1: 0.6446\n",
      "Epoch 3/12\n",
      "26122/26122 [==============================] - 31s 1ms/step - loss: 0.1418 - accuracy: 0.9468 - f1: 0.7019 - val_loss: 0.1437 - val_accuracy: 0.9445 - val_f1: 0.6752\n",
      "Epoch 4/12\n",
      "26122/26122 [==============================] - 31s 1ms/step - loss: 0.1340 - accuracy: 0.9500 - f1: 0.7271 - val_loss: 0.1382 - val_accuracy: 0.9473 - val_f1: 0.7097\n",
      "Epoch 5/12\n",
      "26122/26122 [==============================] - 31s 1ms/step - loss: 0.1275 - accuracy: 0.9515 - f1: 0.7400 - val_loss: 0.1365 - val_accuracy: 0.9468 - val_f1: 0.7183\n",
      "Epoch 6/12\n",
      "26122/26122 [==============================] - 31s 1ms/step - loss: 0.1228 - accuracy: 0.9538 - f1: 0.7599 - val_loss: 0.1358 - val_accuracy: 0.9460 - val_f1: 0.7210\n",
      "Epoch 7/12\n",
      "26122/26122 [==============================] - 31s 1ms/step - loss: 0.1170 - accuracy: 0.9557 - f1: 0.7677 - val_loss: 0.1347 - val_accuracy: 0.9486 - val_f1: 0.7213\n",
      "Epoch 8/12\n",
      "26122/26122 [==============================] - 31s 1ms/step - loss: 0.2854 - accuracy: 0.9581 - f1: 0.7866 - val_loss: 0.1336 - val_accuracy: 0.9474 - val_f1: 0.7065\n",
      "Epoch 9/12\n",
      "26122/26122 [==============================] - 31s 1ms/step - loss: 0.1093 - accuracy: 0.9585 - f1: 0.7833 - val_loss: 0.1348 - val_accuracy: 0.9486 - val_f1: 0.7172\n",
      "Epoch 10/12\n",
      "26122/26122 [==============================] - 31s 1ms/step - loss: 0.1039 - accuracy: 0.9604 - f1: 0.7997 - val_loss: 0.1363 - val_accuracy: 0.9466 - val_f1: 0.7347\n",
      "Epoch 11/12\n",
      "26122/26122 [==============================] - 34s 1ms/step - loss: 0.1002 - accuracy: 0.9625 - f1: 0.8090 - val_loss: 0.1378 - val_accuracy: 0.9479 - val_f1: 0.7518\n",
      "Epoch 12/12\n",
      "26122/26122 [==============================] - 30s 1ms/step - loss: 0.0950 - accuracy: 0.9637 - f1: 0.8191 - val_loss: 0.1368 - val_accuracy: 0.9479 - val_f1: 0.7234\n",
      "<class 'keras.layers.recurrent.LSTM'> (unit=32, dropout=0.1, recurrent=0.2): Acc=0.9482468228448936, F1=0.7482898361672626 \n",
      "Train on 26122 samples, validate on 6531 samples\n",
      "Epoch 1/12\n",
      "26122/26122 [==============================] - 31s 1ms/step - loss: 0.2136 - accuracy: 0.9359 - f1: 0.5544 - val_loss: 0.1590 - val_accuracy: 0.9418 - val_f1: 0.6274\n",
      "Epoch 2/12\n",
      "26122/26122 [==============================] - 30s 1ms/step - loss: 0.1532 - accuracy: 0.9433 - f1: 0.6752 - val_loss: 0.1485 - val_accuracy: 0.9443 - val_f1: 0.6508\n",
      "Epoch 3/12\n",
      "26122/26122 [==============================] - 30s 1ms/step - loss: 0.1416 - accuracy: 0.9477 - f1: 0.7097 - val_loss: 0.1402 - val_accuracy: 0.9471 - val_f1: 0.7003\n",
      "Epoch 4/12\n",
      "26122/26122 [==============================] - 30s 1ms/step - loss: 0.1341 - accuracy: 0.9492 - f1: 0.7243 - val_loss: 0.1390 - val_accuracy: 0.9465 - val_f1: 0.7319\n",
      "Epoch 5/12\n",
      "26122/26122 [==============================] - 30s 1ms/step - loss: 0.1302 - accuracy: 0.9504 - f1: 0.7357 - val_loss: 0.1368 - val_accuracy: 0.9476 - val_f1: 0.6954\n",
      "Epoch 6/12\n",
      "26122/26122 [==============================] - 31s 1ms/step - loss: 0.1236 - accuracy: 0.9526 - f1: 0.7486 - val_loss: 0.1343 - val_accuracy: 0.9484 - val_f1: 0.7186\n",
      "Epoch 7/12\n",
      "26122/26122 [==============================] - 32s 1ms/step - loss: 0.1194 - accuracy: 0.9545 - f1: 0.7632 - val_loss: 0.1331 - val_accuracy: 0.9480 - val_f1: 0.7258\n",
      "Epoch 8/12\n",
      "26122/26122 [==============================] - 30s 1ms/step - loss: 0.1154 - accuracy: 0.9550 - f1: 0.7642 - val_loss: 0.1330 - val_accuracy: 0.9474 - val_f1: 0.7163\n",
      "Epoch 9/12\n",
      "26122/26122 [==============================] - 31s 1ms/step - loss: 0.1111 - accuracy: 0.9575 - f1: 0.7763 - val_loss: 0.1346 - val_accuracy: 0.9472 - val_f1: 0.7190\n",
      "Epoch 10/12\n",
      "26122/26122 [==============================] - 34s 1ms/step - loss: 0.1072 - accuracy: 0.9595 - f1: 0.7896 - val_loss: 0.1346 - val_accuracy: 0.9475 - val_f1: 0.7329\n",
      "Epoch 11/12\n",
      "26122/26122 [==============================] - 33s 1ms/step - loss: 0.1002 - accuracy: 0.9618 - f1: 0.8027 - val_loss: 0.1368 - val_accuracy: 0.9473 - val_f1: 0.7067\n",
      "Epoch 12/12\n",
      "26122/26122 [==============================] - 34s 1ms/step - loss: 0.0983 - accuracy: 0.9621 - f1: 0.8078 - val_loss: 0.1350 - val_accuracy: 0.9492 - val_f1: 0.7456\n",
      "<class 'keras.layers.recurrent.LSTM'> (unit=32, dropout=0.2, recurrent=0.1): Acc=0.9487061705711224, F1=0.7541111285060532 \n",
      "Train on 26122 samples, validate on 6531 samples\n",
      "Epoch 1/12\n",
      "26122/26122 [==============================] - 34s 1ms/step - loss: 0.2275 - accuracy: 0.9303 - f1: 0.5493 - val_loss: 0.1685 - val_accuracy: 0.9411 - val_f1: 0.6139\n",
      "Epoch 2/12\n",
      "26122/26122 [==============================] - 31s 1ms/step - loss: 0.1552 - accuracy: 0.9430 - f1: 0.6691 - val_loss: 0.1492 - val_accuracy: 0.9423 - val_f1: 0.7030\n",
      "Epoch 3/12\n",
      "26122/26122 [==============================] - 35s 1ms/step - loss: 0.1413 - accuracy: 0.9474 - f1: 0.7059 - val_loss: 0.1417 - val_accuracy: 0.9456 - val_f1: 0.7056\n",
      "Epoch 4/12\n",
      "26122/26122 [==============================] - 32s 1ms/step - loss: 0.1343 - accuracy: 0.9493 - f1: 0.7249 - val_loss: 0.1400 - val_accuracy: 0.9463 - val_f1: 0.7308\n",
      "Epoch 5/12\n",
      "26122/26122 [==============================] - 31s 1ms/step - loss: 0.1294 - accuracy: 0.9506 - f1: 0.7382 - val_loss: 0.1375 - val_accuracy: 0.9453 - val_f1: 0.6818\n",
      "Epoch 6/12\n",
      "26122/26122 [==============================] - 31s 1ms/step - loss: 0.1272 - accuracy: 0.9504 - f1: 0.7372 - val_loss: 0.1363 - val_accuracy: 0.9458 - val_f1: 0.6787\n",
      "Epoch 7/12\n",
      "26122/26122 [==============================] - 32s 1ms/step - loss: 0.1216 - accuracy: 0.9535 - f1: 0.7531 - val_loss: 0.1345 - val_accuracy: 0.9464 - val_f1: 0.7083\n",
      "Epoch 8/12\n",
      "26122/26122 [==============================] - 30s 1ms/step - loss: 0.1193 - accuracy: 0.9536 - f1: 0.7524 - val_loss: 0.1349 - val_accuracy: 0.9464 - val_f1: 0.7241\n",
      "Epoch 9/12\n",
      "26122/26122 [==============================] - 29s 1ms/step - loss: 0.1153 - accuracy: 0.9559 - f1: 0.7710 - val_loss: 0.1343 - val_accuracy: 0.9476 - val_f1: 0.7183\n",
      "Epoch 10/12\n",
      "26122/26122 [==============================] - 28s 1ms/step - loss: 0.1108 - accuracy: 0.9585 - f1: 0.7903 - val_loss: 0.1398 - val_accuracy: 0.9476 - val_f1: 0.6829\n",
      "Epoch 11/12\n",
      "26122/26122 [==============================] - 30s 1ms/step - loss: 0.1082 - accuracy: 0.9593 - f1: 0.7953 - val_loss: 0.1368 - val_accuracy: 0.9475 - val_f1: 0.7203\n",
      "Epoch 12/12\n",
      "26122/26122 [==============================] - 30s 1ms/step - loss: 0.1039 - accuracy: 0.9597 - f1: 0.7919 - val_loss: 0.1365 - val_accuracy: 0.9469 - val_f1: 0.7384\n",
      "<class 'keras.layers.recurrent.LSTM'> (unit=32, dropout=0.2, recurrent=0.2): Acc=0.9477874751186648, F1=0.7597207238961936 \n",
      "Train on 26122 samples, validate on 6531 samples\n",
      "Epoch 1/12\n",
      "26122/26122 [==============================] - 47s 2ms/step - loss: 0.2247 - accuracy: 0.9291 - f1: 0.5376 - val_loss: 0.1587 - val_accuracy: 0.9421 - val_f1: 0.6263\n",
      "Epoch 2/12\n",
      "26122/26122 [==============================] - 58s 2ms/step - loss: 0.1492 - accuracy: 0.9454 - f1: 0.6809 - val_loss: 0.1439 - val_accuracy: 0.9447 - val_f1: 0.6599\n",
      "Epoch 3/12\n",
      "26122/26122 [==============================] - 61s 2ms/step - loss: 0.1339 - accuracy: 0.9503 - f1: 0.7269 - val_loss: 0.1377 - val_accuracy: 0.9463 - val_f1: 0.7056\n",
      "Epoch 4/12\n",
      "26122/26122 [==============================] - 58s 2ms/step - loss: 0.1243 - accuracy: 0.9530 - f1: 0.7457 - val_loss: 0.1406 - val_accuracy: 0.9456 - val_f1: 0.7526\n",
      "Epoch 5/12\n",
      "26122/26122 [==============================] - 44s 2ms/step - loss: 0.1171 - accuracy: 0.9559 - f1: 0.7662 - val_loss: 0.1373 - val_accuracy: 0.9473 - val_f1: 0.6786\n",
      "Epoch 6/12\n",
      "26122/26122 [==============================] - 53s 2ms/step - loss: 0.1070 - accuracy: 0.9600 - f1: 0.7863 - val_loss: 0.1337 - val_accuracy: 0.9473 - val_f1: 0.7238\n",
      "Epoch 7/12\n",
      "26122/26122 [==============================] - 51s 2ms/step - loss: 0.1011 - accuracy: 0.9623 - f1: 0.8058 - val_loss: 0.1362 - val_accuracy: 0.9471 - val_f1: 0.7210\n",
      "Epoch 8/12\n",
      "26122/26122 [==============================] - 57s 2ms/step - loss: 0.0930 - accuracy: 0.9659 - f1: 0.8238 - val_loss: 0.1393 - val_accuracy: 0.9488 - val_f1: 0.7203\n",
      "Epoch 9/12\n",
      "26122/26122 [==============================] - 52s 2ms/step - loss: 0.0862 - accuracy: 0.9688 - f1: 0.8418 - val_loss: 0.1449 - val_accuracy: 0.9448 - val_f1: 0.7423\n",
      "Epoch 10/12\n",
      "26122/26122 [==============================] - 53s 2ms/step - loss: 0.0786 - accuracy: 0.9719 - f1: 0.8624 - val_loss: 0.1452 - val_accuracy: 0.9474 - val_f1: 0.7352\n",
      "Epoch 11/12\n",
      "26122/26122 [==============================] - 50s 2ms/step - loss: 0.0710 - accuracy: 0.9751 - f1: 0.8787 - val_loss: 0.1532 - val_accuracy: 0.9452 - val_f1: 0.7286\n",
      "Epoch 12/12\n",
      "26122/26122 [==============================] - 48s 2ms/step - loss: 0.0654 - accuracy: 0.9766 - f1: 0.8890 - val_loss: 0.1554 - val_accuracy: 0.9475 - val_f1: 0.7244\n",
      "<class 'keras.layers.recurrent.LSTM'> (unit=64, dropout=0.1, recurrent=0.1): Acc=0.947481243301179, F1=0.7407774617533489 \n",
      "Train on 26122 samples, validate on 6531 samples\n",
      "Epoch 1/12\n",
      "26122/26122 [==============================] - 48s 2ms/step - loss: 0.2005 - accuracy: 0.9388 - f1: 0.5642 - val_loss: 0.1582 - val_accuracy: 0.9437 - val_f1: 0.6085\n",
      "Epoch 2/12\n",
      "26122/26122 [==============================] - 47s 2ms/step - loss: 0.1441 - accuracy: 0.9458 - f1: 0.6833 - val_loss: 0.1392 - val_accuracy: 0.9460 - val_f1: 0.6964\n",
      "Epoch 3/12\n",
      "26122/26122 [==============================] - 47s 2ms/step - loss: 0.1326 - accuracy: 0.9503 - f1: 0.7284 - val_loss: 0.1368 - val_accuracy: 0.9476 - val_f1: 0.6938\n",
      "Epoch 4/12\n",
      "26122/26122 [==============================] - 48s 2ms/step - loss: 0.1230 - accuracy: 0.9524 - f1: 0.7466 - val_loss: 0.1327 - val_accuracy: 0.9484 - val_f1: 0.7288\n",
      "Epoch 5/12\n",
      "26122/26122 [==============================] - 47s 2ms/step - loss: 0.1263 - accuracy: 0.9544 - f1: 0.7592 - val_loss: 0.1353 - val_accuracy: 0.9480 - val_f1: 0.7523\n",
      "Epoch 6/12\n",
      "26122/26122 [==============================] - 47s 2ms/step - loss: 0.1089 - accuracy: 0.9578 - f1: 0.7819 - val_loss: 0.1328 - val_accuracy: 0.9487 - val_f1: 0.7360\n",
      "Epoch 7/12\n",
      "26122/26122 [==============================] - 47s 2ms/step - loss: 0.1025 - accuracy: 0.9602 - f1: 0.7966 - val_loss: 0.1333 - val_accuracy: 0.9480 - val_f1: 0.7456\n",
      "Epoch 8/12\n",
      "26122/26122 [==============================] - 47s 2ms/step - loss: 0.0968 - accuracy: 0.9634 - f1: 0.8181 - val_loss: 0.1337 - val_accuracy: 0.9495 - val_f1: 0.7220\n",
      "Epoch 9/12\n",
      "26122/26122 [==============================] - 47s 2ms/step - loss: 0.0888 - accuracy: 0.9663 - f1: 0.8343 - val_loss: 0.1412 - val_accuracy: 0.9497 - val_f1: 0.7194\n",
      "Epoch 10/12\n",
      "26122/26122 [==============================] - 47s 2ms/step - loss: 0.0835 - accuracy: 0.9693 - f1: 0.8428 - val_loss: 0.1431 - val_accuracy: 0.9486 - val_f1: 0.7066\n",
      "Epoch 11/12\n",
      "26122/26122 [==============================] - 47s 2ms/step - loss: 0.0758 - accuracy: 0.9726 - f1: 0.8632 - val_loss: 0.1390 - val_accuracy: 0.9486 - val_f1: 0.7323\n",
      "Epoch 12/12\n",
      "26122/26122 [==============================] - 47s 2ms/step - loss: 0.0704 - accuracy: 0.9746 - f1: 0.8711 - val_loss: 0.1476 - val_accuracy: 0.9492 - val_f1: 0.7278\n",
      "<class 'keras.layers.recurrent.LSTM'> (unit=64, dropout=0.1, recurrent=0.2): Acc=0.949471750114837, F1=0.7411470944309928 \n",
      "Train on 26122 samples, validate on 6531 samples\n",
      "Epoch 1/12\n",
      "26122/26122 [==============================] - 47s 2ms/step - loss: 0.2419 - accuracy: 0.9340 - f1: 0.5742 - val_loss: 0.1604 - val_accuracy: 0.9418 - val_f1: 0.6694\n",
      "Epoch 2/12\n",
      "26122/26122 [==============================] - 47s 2ms/step - loss: 0.1524 - accuracy: 0.9439 - f1: 0.6744 - val_loss: 0.1456 - val_accuracy: 0.9437 - val_f1: 0.6805\n",
      "Epoch 3/12\n",
      "26122/26122 [==============================] - 47s 2ms/step - loss: 0.1390 - accuracy: 0.9472 - f1: 0.7031 - val_loss: 0.1399 - val_accuracy: 0.9450 - val_f1: 0.7270\n",
      "Epoch 4/12\n",
      "26122/26122 [==============================] - 47s 2ms/step - loss: 0.1319 - accuracy: 0.9502 - f1: 0.7275 - val_loss: 0.1380 - val_accuracy: 0.9453 - val_f1: 0.6809\n",
      "Epoch 5/12\n",
      "26122/26122 [==============================] - 47s 2ms/step - loss: 0.1261 - accuracy: 0.9516 - f1: 0.7480 - val_loss: 0.1363 - val_accuracy: 0.9455 - val_f1: 0.7368\n",
      "Epoch 6/12\n",
      "26122/26122 [==============================] - 47s 2ms/step - loss: 0.1190 - accuracy: 0.9550 - f1: 0.7607 - val_loss: 0.1344 - val_accuracy: 0.9482 - val_f1: 0.7178\n",
      "Epoch 7/12\n",
      "26122/26122 [==============================] - 47s 2ms/step - loss: 0.1138 - accuracy: 0.9570 - f1: 0.7795 - val_loss: 0.1342 - val_accuracy: 0.9475 - val_f1: 0.7190\n",
      "Epoch 8/12\n",
      "26122/26122 [==============================] - 47s 2ms/step - loss: 0.1064 - accuracy: 0.9597 - f1: 0.7916 - val_loss: 0.1328 - val_accuracy: 0.9473 - val_f1: 0.7496\n",
      "Epoch 9/12\n",
      "26122/26122 [==============================] - 47s 2ms/step - loss: 0.1032 - accuracy: 0.9610 - f1: 0.7996 - val_loss: 0.1385 - val_accuracy: 0.9485 - val_f1: 0.7293\n",
      "Epoch 10/12\n",
      "26122/26122 [==============================] - 47s 2ms/step - loss: 0.0973 - accuracy: 0.9638 - f1: 0.8155 - val_loss: 0.1414 - val_accuracy: 0.9450 - val_f1: 0.7570\n",
      "Epoch 11/12\n",
      "26122/26122 [==============================] - 47s 2ms/step - loss: 0.0900 - accuracy: 0.9662 - f1: 0.8315 - val_loss: 0.1408 - val_accuracy: 0.9459 - val_f1: 0.7526\n",
      "Epoch 12/12\n",
      "26122/26122 [==============================] - 47s 2ms/step - loss: 0.0862 - accuracy: 0.9677 - f1: 0.8408 - val_loss: 0.1467 - val_accuracy: 0.9471 - val_f1: 0.6981\n",
      "<class 'keras.layers.recurrent.LSTM'> (unit=64, dropout=0.2, recurrent=0.1): Acc=0.9470218955749502, F1=0.7157605961197875 \n",
      "Train on 26122 samples, validate on 6531 samples\n",
      "Epoch 1/12\n",
      "26122/26122 [==============================] - 48s 2ms/step - loss: 0.2094 - accuracy: 0.9347 - f1: 0.5568 - val_loss: 0.1594 - val_accuracy: 0.9406 - val_f1: 0.6622\n",
      "Epoch 2/12\n",
      "26122/26122 [==============================] - 52s 2ms/step - loss: 0.1495 - accuracy: 0.9451 - f1: 0.6853 - val_loss: 0.1441 - val_accuracy: 0.9456 - val_f1: 0.7130\n",
      "Epoch 3/12\n",
      "26122/26122 [==============================] - 53s 2ms/step - loss: 0.1371 - accuracy: 0.9484 - f1: 0.7179 - val_loss: 0.1404 - val_accuracy: 0.9459 - val_f1: 0.6684\n",
      "Epoch 4/12\n",
      "26122/26122 [==============================] - 53s 2ms/step - loss: 25899951.7716 - accuracy: 0.9495 - f1: 0.7200 - val_loss: 0.1399 - val_accuracy: 0.9468 - val_f1: 0.7084\n",
      "Epoch 5/12\n",
      "26122/26122 [==============================] - 53s 2ms/step - loss: 0.1272 - accuracy: 0.9517 - f1: 0.7409 - val_loss: 0.1373 - val_accuracy: 0.9463 - val_f1: 0.7206\n",
      "Epoch 6/12\n",
      "26122/26122 [==============================] - 58s 2ms/step - loss: 0.1579 - accuracy: 0.9525 - f1: 0.7427 - val_loss: 0.1361 - val_accuracy: 0.9475 - val_f1: 0.7214\n",
      "Epoch 7/12\n",
      "26122/26122 [==============================] - 50s 2ms/step - loss: 0.1177 - accuracy: 0.9557 - f1: 0.7629 - val_loss: 0.1351 - val_accuracy: 0.9481 - val_f1: 0.7128\n",
      "Epoch 8/12\n",
      "26122/26122 [==============================] - 47s 2ms/step - loss: 0.1163 - accuracy: 0.9564 - f1: 0.7710 - val_loss: 0.1345 - val_accuracy: 0.9479 - val_f1: 0.7283\n",
      "Epoch 9/12\n",
      "26122/26122 [==============================] - 47s 2ms/step - loss: 0.1115 - accuracy: 0.9587 - f1: 0.7848 - val_loss: 0.1354 - val_accuracy: 0.9476 - val_f1: 0.7188\n",
      "Epoch 10/12\n",
      "26122/26122 [==============================] - 56s 2ms/step - loss: 0.1090 - accuracy: 0.9588 - f1: 0.7871 - val_loss: 0.1336 - val_accuracy: 0.9471 - val_f1: 0.7430\n",
      "Epoch 11/12\n",
      "26122/26122 [==============================] - 51s 2ms/step - loss: 0.1063 - accuracy: 0.9602 - f1: 0.7982 - val_loss: 0.1343 - val_accuracy: 0.9478 - val_f1: 0.7480\n",
      "Epoch 12/12\n",
      "26122/26122 [==============================] - 52s 2ms/step - loss: 0.1014 - accuracy: 0.9623 - f1: 0.8029 - val_loss: 0.1358 - val_accuracy: 0.9476 - val_f1: 0.7333\n",
      "<class 'keras.layers.recurrent.LSTM'> (unit=64, dropout=0.2, recurrent=0.2): Acc=0.9480937069361507, F1=0.7492090318363906 \n"
     ]
    }
   ],
   "source": [
    "type_list = [LSTM]\n",
    "units_list = [32,64]\n",
    "dropout_list = [0.1, 0.2]\n",
    "recurrent_dropout_list = [0.1, 0.2]\n",
    "rnn_list = {}\n",
    "\n",
    "for (t, u, d, r) in itertools.product(type_list, units_list, dropout_list, recurrent_dropout_list):\n",
    "    rnn = Sequential()\n",
    "    rnn.add(embedding_layer)\n",
    "    rnn.add(t(u,dropout=d, recurrent_dropout=r,activation='relu',return_sequences=True))\n",
    "    rnn.add(GlobalMaxPool1D())\n",
    "    rnn.add(Dense(NUM_CLASSES, activation='sigmoid'))\n",
    "    rnn.compile(loss='binary_crossentropy', \n",
    "                optimizer='adam', \n",
    "                metrics=['accuracy',f1])\n",
    "    \n",
    "    rnn.fit(X_train, y_train_ohe, validation_data=(X_test, y_test_ohe), epochs=12, batch_size=128)\n",
    "    yhat = np.argmax(rnn.predict(X_test), axis=1)\n",
    "    y_test = np.argmax(y_test_ohe, axis = 1)\n",
    "    acc = metrics.accuracy_score(y_test, yhat)\n",
    "    f1a = metrics.f1_score(y_test, yhat, average=\"macro\")\n",
    "    log = \"{} (unit={}, dropout={}, recurrent={}): Acc={}, F1={} \".format(t, u, d, r, acc, f1a)\n",
    "    rnn_list[log] = rnn\n",
    "    print(log)"
   ]
  },
  {
   "cell_type": "code",
   "execution_count": 20,
   "metadata": {},
   "outputs": [
    {
     "name": "stdout",
     "output_type": "stream",
     "text": [
      "Train on 26122 samples, validate on 6531 samples\n",
      "Epoch 1/12\n",
      "26122/26122 [==============================] - 32s 1ms/step - loss: 0.2189 - accuracy: 0.9338 - f1: 0.5373 - val_loss: 0.1627 - val_accuracy: 0.9411 - val_f1: 0.6040\n",
      "Epoch 2/12\n",
      "26122/26122 [==============================] - 38s 1ms/step - loss: 0.1487 - accuracy: 0.9448 - f1: 0.6792 - val_loss: 0.1477 - val_accuracy: 0.9433 - val_f1: 0.6545\n",
      "Epoch 3/12\n",
      "26122/26122 [==============================] - 32s 1ms/step - loss: 0.1363 - accuracy: 0.9486 - f1: 0.7138 - val_loss: 0.1413 - val_accuracy: 0.9456 - val_f1: 0.7021\n",
      "Epoch 4/12\n",
      "26122/26122 [==============================] - 32s 1ms/step - loss: 0.1285 - accuracy: 0.9507 - f1: 0.7321 - val_loss: 0.1440 - val_accuracy: 0.9447 - val_f1: 0.6641\n",
      "Epoch 5/12\n",
      "26122/26122 [==============================] - 33s 1ms/step - loss: 0.1228 - accuracy: 0.9538 - f1: 0.7522 - val_loss: 0.1367 - val_accuracy: 0.9472 - val_f1: 0.7140\n",
      "Epoch 6/12\n",
      "26122/26122 [==============================] - 35s 1ms/step - loss: 0.1184 - accuracy: 0.9547 - f1: 0.7666 - val_loss: 0.1374 - val_accuracy: 0.9468 - val_f1: 0.6970\n",
      "Epoch 7/12\n",
      "26122/26122 [==============================] - 37s 1ms/step - loss: 0.1132 - accuracy: 0.9566 - f1: 0.7741 - val_loss: 0.1369 - val_accuracy: 0.9480 - val_f1: 0.7115\n",
      "Epoch 8/12\n",
      "26122/26122 [==============================] - 33s 1ms/step - loss: 0.1081 - accuracy: 0.9593 - f1: 0.7894 - val_loss: 0.1358 - val_accuracy: 0.9476 - val_f1: 0.7044\n",
      "Epoch 9/12\n",
      "26122/26122 [==============================] - 33s 1ms/step - loss: 0.1017 - accuracy: 0.9621 - f1: 0.8084 - val_loss: 0.1347 - val_accuracy: 0.9479 - val_f1: 0.7362\n",
      "Epoch 10/12\n",
      "26122/26122 [==============================] - 34s 1ms/step - loss: 0.0979 - accuracy: 0.9630 - f1: 0.8086 - val_loss: 0.1343 - val_accuracy: 0.9488 - val_f1: 0.7363\n",
      "Epoch 11/12\n",
      "26122/26122 [==============================] - 34s 1ms/step - loss: 0.0951 - accuracy: 0.9639 - f1: 0.8181 - val_loss: 0.1415 - val_accuracy: 0.9489 - val_f1: 0.7144\n",
      "Epoch 12/12\n",
      "26122/26122 [==============================] - 33s 1ms/step - loss: 0.0904 - accuracy: 0.9664 - f1: 0.8327 - val_loss: 0.1386 - val_accuracy: 0.9462 - val_f1: 0.7242\n",
      "<class 'keras.layers.recurrent.GRU'> (unit=32, dropout=0.1, recurrent=0.1): Acc=0.9468687796662073, F1=0.7419300509328581 \n",
      "Train on 26122 samples, validate on 6531 samples\n",
      "Epoch 1/12\n",
      "26122/26122 [==============================] - 34s 1ms/step - loss: 0.2117 - accuracy: 0.9374 - f1: 0.5368 - val_loss: 0.1665 - val_accuracy: 0.9395 - val_f1: 0.6657\n",
      "Epoch 2/12\n",
      "26122/26122 [==============================] - 31s 1ms/step - loss: 0.1502 - accuracy: 0.9436 - f1: 0.6813 - val_loss: 0.1492 - val_accuracy: 0.9424 - val_f1: 0.6815\n",
      "Epoch 3/12\n",
      "26122/26122 [==============================] - 33s 1ms/step - loss: 0.1391 - accuracy: 0.9468 - f1: 0.7061 - val_loss: 0.1436 - val_accuracy: 0.9444 - val_f1: 0.6627\n",
      "Epoch 4/12\n",
      "26122/26122 [==============================] - 33s 1ms/step - loss: 0.1299 - accuracy: 0.9507 - f1: 0.7277 - val_loss: 0.1440 - val_accuracy: 0.9449 - val_f1: 0.6381\n",
      "Epoch 5/12\n",
      "26122/26122 [==============================] - 34s 1ms/step - loss: 0.1259 - accuracy: 0.9516 - f1: 0.7390 - val_loss: 0.1381 - val_accuracy: 0.9456 - val_f1: 0.7033\n",
      "Epoch 6/12\n",
      "26122/26122 [==============================] - 34s 1ms/step - loss: 0.1208 - accuracy: 0.9528 - f1: 0.7479 - val_loss: 0.1386 - val_accuracy: 0.9476 - val_f1: 0.6819\n",
      "Epoch 7/12\n",
      "26122/26122 [==============================] - 33s 1ms/step - loss: 0.1163 - accuracy: 0.9564 - f1: 0.7727 - val_loss: 0.1370 - val_accuracy: 0.9469 - val_f1: 0.6911\n",
      "Epoch 8/12\n",
      "26122/26122 [==============================] - 32s 1ms/step - loss: 0.1122 - accuracy: 0.9567 - f1: 0.7759 - val_loss: 0.1386 - val_accuracy: 0.9479 - val_f1: 0.6833\n",
      "Epoch 9/12\n",
      "26122/26122 [==============================] - 32s 1ms/step - loss: 0.1088 - accuracy: 0.9584 - f1: 0.7866 - val_loss: 0.1361 - val_accuracy: 0.9474 - val_f1: 0.6968\n",
      "Epoch 10/12\n",
      "26122/26122 [==============================] - 33s 1ms/step - loss: 0.1052 - accuracy: 0.9600 - f1: 0.7939 - val_loss: 0.1361 - val_accuracy: 0.9483 - val_f1: 0.7127\n",
      "Epoch 11/12\n",
      "26122/26122 [==============================] - 34s 1ms/step - loss: 0.1026 - accuracy: 0.9613 - f1: 0.7981 - val_loss: 0.1442 - val_accuracy: 0.9466 - val_f1: 0.6673\n",
      "Epoch 12/12\n",
      "26122/26122 [==============================] - 34s 1ms/step - loss: 0.0998 - accuracy: 0.9621 - f1: 0.8113 - val_loss: 0.1367 - val_accuracy: 0.9479 - val_f1: 0.7076\n",
      "<class 'keras.layers.recurrent.GRU'> (unit=32, dropout=0.1, recurrent=0.2): Acc=0.9477874751186648, F1=0.7251573692314661 \n",
      "Train on 26122 samples, validate on 6531 samples\n",
      "Epoch 1/12\n",
      "26122/26122 [==============================] - 35s 1ms/step - loss: 0.2588 - accuracy: 0.9045 - f1: 0.4885 - val_loss: 0.1702 - val_accuracy: 0.9384 - val_f1: 0.6001\n",
      "Epoch 2/12\n",
      "26122/26122 [==============================] - 35s 1ms/step - loss: 0.1584 - accuracy: 0.9428 - f1: 0.6638 - val_loss: 0.1519 - val_accuracy: 0.9417 - val_f1: 0.6231\n",
      "Epoch 3/12\n",
      "26122/26122 [==============================] - 34s 1ms/step - loss: 0.1427 - accuracy: 0.9459 - f1: 0.6927 - val_loss: 0.1464 - val_accuracy: 0.9443 - val_f1: 0.6381\n",
      "Epoch 4/12\n",
      "26122/26122 [==============================] - 38s 1ms/step - loss: 0.1345 - accuracy: 0.9485 - f1: 0.7213 - val_loss: 0.1396 - val_accuracy: 0.9460 - val_f1: 0.6834\n",
      "Epoch 5/12\n",
      "26122/26122 [==============================] - 40s 2ms/step - loss: 0.1283 - accuracy: 0.9511 - f1: 0.7364 - val_loss: 0.1368 - val_accuracy: 0.9476 - val_f1: 0.7136\n",
      "Epoch 6/12\n",
      "26122/26122 [==============================] - 37s 1ms/step - loss: 0.1243 - accuracy: 0.9525 - f1: 0.7515 - val_loss: 0.1365 - val_accuracy: 0.9473 - val_f1: 0.7034\n",
      "Epoch 7/12\n",
      "26122/26122 [==============================] - 37s 1ms/step - loss: 0.1200 - accuracy: 0.9543 - f1: 0.7546 - val_loss: 0.1359 - val_accuracy: 0.9474 - val_f1: 0.7135\n",
      "Epoch 8/12\n",
      "26122/26122 [==============================] - 32s 1ms/step - loss: 0.1154 - accuracy: 0.9549 - f1: 0.7619 - val_loss: 0.1390 - val_accuracy: 0.9479 - val_f1: 0.6845\n",
      "Epoch 9/12\n",
      "26122/26122 [==============================] - 34s 1ms/step - loss: 0.1136 - accuracy: 0.9566 - f1: 0.7740 - val_loss: 0.1371 - val_accuracy: 0.9481 - val_f1: 0.6876\n",
      "Epoch 10/12\n",
      "26122/26122 [==============================] - 36s 1ms/step - loss: 0.1087 - accuracy: 0.9583 - f1: 0.7818 - val_loss: 0.1343 - val_accuracy: 0.9469 - val_f1: 0.7437\n",
      "Epoch 11/12\n",
      "26122/26122 [==============================] - 32s 1ms/step - loss: 0.1047 - accuracy: 0.9598 - f1: 0.7910 - val_loss: 0.1358 - val_accuracy: 0.9489 - val_f1: 0.7185\n",
      "Epoch 12/12\n",
      "26122/26122 [==============================] - 29s 1ms/step - loss: 0.1014 - accuracy: 0.9620 - f1: 0.8069 - val_loss: 0.1347 - val_accuracy: 0.9485 - val_f1: 0.7196\n",
      "<class 'keras.layers.recurrent.GRU'> (unit=32, dropout=0.2, recurrent=0.1): Acc=0.9490124023886082, F1=0.7361933914402041 \n",
      "Train on 26122 samples, validate on 6531 samples\n",
      "Epoch 1/12\n",
      "26122/26122 [==============================] - 36s 1ms/step - loss: 0.2275 - accuracy: 0.9272 - f1: 0.5150 - val_loss: 0.1711 - val_accuracy: 0.9372 - val_f1: 0.5452\n",
      "Epoch 2/12\n",
      "26122/26122 [==============================] - 38s 1ms/step - loss: 0.1607 - accuracy: 0.9411 - f1: 0.6325 - val_loss: 0.1545 - val_accuracy: 0.9413 - val_f1: 0.6233\n",
      "Epoch 3/12\n",
      "26122/26122 [==============================] - 34s 1ms/step - loss: 0.1451 - accuracy: 0.9453 - f1: 0.6861 - val_loss: 0.1497 - val_accuracy: 0.9417 - val_f1: 0.6190\n",
      "Epoch 4/12\n",
      "26122/26122 [==============================] - 32s 1ms/step - loss: 0.1416 - accuracy: 0.9477 - f1: 0.6989 - val_loss: 0.1451 - val_accuracy: 0.9435 - val_f1: 0.6568\n",
      "Epoch 5/12\n",
      "26122/26122 [==============================] - 35s 1ms/step - loss: 0.1368 - accuracy: 0.9475 - f1: 0.7126 - val_loss: 0.1417 - val_accuracy: 0.9446 - val_f1: 0.6697\n",
      "Epoch 6/12\n",
      "26122/26122 [==============================] - 36s 1ms/step - loss: 0.1307 - accuracy: 0.9508 - f1: 0.7419 - val_loss: 0.1404 - val_accuracy: 0.9461 - val_f1: 0.6795\n",
      "Epoch 7/12\n",
      "26122/26122 [==============================] - 36s 1ms/step - loss: 0.1272 - accuracy: 0.9511 - f1: 0.7376 - val_loss: 0.1402 - val_accuracy: 0.9459 - val_f1: 0.6726\n",
      "Epoch 8/12\n",
      "26122/26122 [==============================] - 37s 1ms/step - loss: 0.1247 - accuracy: 0.9516 - f1: 0.7437 - val_loss: 0.1376 - val_accuracy: 0.9473 - val_f1: 0.7008\n",
      "Epoch 9/12\n",
      "26122/26122 [==============================] - 32s 1ms/step - loss: 0.1216 - accuracy: 0.9551 - f1: 0.7600 - val_loss: 0.1408 - val_accuracy: 0.9470 - val_f1: 0.6817\n",
      "Epoch 10/12\n",
      "26122/26122 [==============================] - 38s 1ms/step - loss: 0.1196 - accuracy: 0.9543 - f1: 0.7551 - val_loss: 0.1428 - val_accuracy: 0.9473 - val_f1: 0.6718\n",
      "Epoch 11/12\n",
      "26122/26122 [==============================] - 38s 1ms/step - loss: 0.1176 - accuracy: 0.9567 - f1: 0.7729 - val_loss: 0.1363 - val_accuracy: 0.9479 - val_f1: 0.7097\n",
      "Epoch 12/12\n",
      "26122/26122 [==============================] - 33s 1ms/step - loss: 0.1132 - accuracy: 0.9570 - f1: 0.7812 - val_loss: 0.1409 - val_accuracy: 0.9474 - val_f1: 0.6875\n",
      "<class 'keras.layers.recurrent.GRU'> (unit=32, dropout=0.2, recurrent=0.2): Acc=0.9471750114836932, F1=0.6972165278861213 \n",
      "Train on 26122 samples, validate on 6531 samples\n",
      "Epoch 1/12\n",
      "26122/26122 [==============================] - 42s 2ms/step - loss: 0.2044 - accuracy: 0.9313 - f1: 0.5643 - val_loss: 0.1524 - val_accuracy: 0.9412 - val_f1: 0.6569\n",
      "Epoch 2/12\n",
      "26122/26122 [==============================] - 42s 2ms/step - loss: 0.1421 - accuracy: 0.9463 - f1: 0.6962 - val_loss: 0.1419 - val_accuracy: 0.9450 - val_f1: 0.6606\n",
      "Epoch 3/12\n",
      "26122/26122 [==============================] - 41s 2ms/step - loss: 0.1307 - accuracy: 0.9498 - f1: 0.7226 - val_loss: 0.1394 - val_accuracy: 0.9443 - val_f1: 0.7239\n",
      "Epoch 4/12\n",
      "26122/26122 [==============================] - 40s 2ms/step - loss: 0.1227 - accuracy: 0.9531 - f1: 0.7543 - val_loss: 0.1336 - val_accuracy: 0.9470 - val_f1: 0.7016\n",
      "Epoch 5/12\n",
      "26122/26122 [==============================] - 41s 2ms/step - loss: 0.1145 - accuracy: 0.9557 - f1: 0.7632 - val_loss: 0.1346 - val_accuracy: 0.9473 - val_f1: 0.7448\n",
      "Epoch 6/12\n",
      "26122/26122 [==============================] - 40s 2ms/step - loss: 0.1082 - accuracy: 0.9581 - f1: 0.7832 - val_loss: 0.1299 - val_accuracy: 0.9480 - val_f1: 0.7170\n",
      "Epoch 7/12\n",
      "26122/26122 [==============================] - 40s 2ms/step - loss: 0.1006 - accuracy: 0.9622 - f1: 0.8073 - val_loss: 0.1331 - val_accuracy: 0.9483 - val_f1: 0.7164\n",
      "Epoch 8/12\n",
      "26122/26122 [==============================] - 41s 2ms/step - loss: 0.0946 - accuracy: 0.9638 - f1: 0.8164 - val_loss: 0.1384 - val_accuracy: 0.9466 - val_f1: 0.6767\n",
      "Epoch 9/12\n",
      "26122/26122 [==============================] - 40s 2ms/step - loss: 0.0848 - accuracy: 0.9685 - f1: 0.8501 - val_loss: 0.1341 - val_accuracy: 0.9477 - val_f1: 0.7181\n",
      "Epoch 10/12\n",
      "26122/26122 [==============================] - 40s 2ms/step - loss: 0.0788 - accuracy: 0.9706 - f1: 0.8581 - val_loss: 0.1408 - val_accuracy: 0.9482 - val_f1: 0.7064\n",
      "Epoch 11/12\n",
      "26122/26122 [==============================] - 41s 2ms/step - loss: 0.0725 - accuracy: 0.9733 - f1: 0.8713 - val_loss: 0.1437 - val_accuracy: 0.9464 - val_f1: 0.7016\n",
      "Epoch 12/12\n",
      "26122/26122 [==============================] - 41s 2ms/step - loss: 0.0647 - accuracy: 0.9770 - f1: 0.8889 - val_loss: 0.1434 - val_accuracy: 0.9453 - val_f1: 0.7407\n",
      "<class 'keras.layers.recurrent.GRU'> (unit=64, dropout=0.1, recurrent=0.1): Acc=0.9445720410350635, F1=0.7413731315853958 \n",
      "Train on 26122 samples, validate on 6531 samples\n",
      "Epoch 1/12\n",
      "26122/26122 [==============================] - 42s 2ms/step - loss: 0.2114 - accuracy: 0.9368 - f1: 0.5510 - val_loss: 0.1605 - val_accuracy: 0.9405 - val_f1: 0.6169\n",
      "Epoch 2/12\n",
      "26122/26122 [==============================] - 41s 2ms/step - loss: 0.1487 - accuracy: 0.9439 - f1: 0.6727 - val_loss: 0.1472 - val_accuracy: 0.9422 - val_f1: 0.6474\n",
      "Epoch 3/12\n",
      "26122/26122 [==============================] - 40s 2ms/step - loss: 0.1361 - accuracy: 0.9481 - f1: 0.7159 - val_loss: 0.1473 - val_accuracy: 0.9438 - val_f1: 0.6303\n",
      "Epoch 4/12\n",
      "26122/26122 [==============================] - 41s 2ms/step - loss: 0.1294 - accuracy: 0.9502 - f1: 0.7293 - val_loss: 0.1385 - val_accuracy: 0.9467 - val_f1: 0.6915\n",
      "Epoch 5/12\n",
      "26122/26122 [==============================] - 42s 2ms/step - loss: 0.1220 - accuracy: 0.9539 - f1: 0.7597 - val_loss: 0.1359 - val_accuracy: 0.9476 - val_f1: 0.7024\n",
      "Epoch 6/12\n",
      "26122/26122 [==============================] - 41s 2ms/step - loss: 0.1161 - accuracy: 0.9560 - f1: 0.7674 - val_loss: 0.1361 - val_accuracy: 0.9489 - val_f1: 0.7050\n",
      "Epoch 7/12\n",
      "26122/26122 [==============================] - 41s 2ms/step - loss: 0.1106 - accuracy: 0.9574 - f1: 0.7816 - val_loss: 0.1352 - val_accuracy: 0.9483 - val_f1: 0.6946\n",
      "Epoch 8/12\n",
      "26122/26122 [==============================] - 41s 2ms/step - loss: 0.1073 - accuracy: 0.9594 - f1: 0.7898 - val_loss: 0.1333 - val_accuracy: 0.9488 - val_f1: 0.7130\n",
      "Epoch 9/12\n",
      "26122/26122 [==============================] - 41s 2ms/step - loss: 0.1208 - accuracy: 0.9593 - f1: 0.7843 - val_loss: 0.1328 - val_accuracy: 0.9490 - val_f1: 0.7211\n",
      "Epoch 10/12\n",
      "26122/26122 [==============================] - 41s 2ms/step - loss: 0.0978 - accuracy: 0.9630 - f1: 0.8141 - val_loss: 0.1330 - val_accuracy: 0.9493 - val_f1: 0.7224\n",
      "Epoch 11/12\n",
      "26122/26122 [==============================] - 41s 2ms/step - loss: 0.0933 - accuracy: 0.9649 - f1: 0.8226 - val_loss: 0.1341 - val_accuracy: 0.9488 - val_f1: 0.7191\n",
      "Epoch 12/12\n",
      "26122/26122 [==============================] - 41s 2ms/step - loss: 0.0928 - accuracy: 0.9661 - f1: 0.8295 - val_loss: 0.1349 - val_accuracy: 0.9494 - val_f1: 0.7288\n",
      "<class 'keras.layers.recurrent.GRU'> (unit=64, dropout=0.1, recurrent=0.2): Acc=0.949318634206094, F1=0.7450225842730424 \n",
      "Train on 26122 samples, validate on 6531 samples\n",
      "Epoch 1/12\n",
      "26122/26122 [==============================] - 42s 2ms/step - loss: 0.2125 - accuracy: 0.9291 - f1: 0.5524 - val_loss: 0.1552 - val_accuracy: 0.9405 - val_f1: 0.6356\n",
      "Epoch 2/12\n",
      "26122/26122 [==============================] - 41s 2ms/step - loss: 0.1462 - accuracy: 0.9446 - f1: 0.6856 - val_loss: 0.1439 - val_accuracy: 0.9437 - val_f1: 0.6708\n",
      "Epoch 3/12\n",
      "26122/26122 [==============================] - 41s 2ms/step - loss: 0.1353 - accuracy: 0.9485 - f1: 0.7158 - val_loss: 0.1400 - val_accuracy: 0.9456 - val_f1: 0.6732\n",
      "Epoch 4/12\n",
      "26122/26122 [==============================] - 41s 2ms/step - loss: 0.1278 - accuracy: 0.9512 - f1: 0.7408 - val_loss: 0.1363 - val_accuracy: 0.9464 - val_f1: 0.6949\n",
      "Epoch 5/12\n",
      "26122/26122 [==============================] - 46s 2ms/step - loss: 0.1214 - accuracy: 0.9529 - f1: 0.7555 - val_loss: 0.1379 - val_accuracy: 0.9460 - val_f1: 0.6769\n",
      "Epoch 6/12\n",
      "26122/26122 [==============================] - 45s 2ms/step - loss: 0.1141 - accuracy: 0.9566 - f1: 0.7756 - val_loss: 0.1325 - val_accuracy: 0.9491 - val_f1: 0.7142\n",
      "Epoch 7/12\n",
      "26122/26122 [==============================] - 46s 2ms/step - loss: 0.1103 - accuracy: 0.9582 - f1: 0.7794 - val_loss: 0.1320 - val_accuracy: 0.9486 - val_f1: 0.7191\n",
      "Epoch 8/12\n",
      "26122/26122 [==============================] - 45s 2ms/step - loss: 0.1033 - accuracy: 0.9611 - f1: 0.8037 - val_loss: 0.1324 - val_accuracy: 0.9493 - val_f1: 0.7252\n",
      "Epoch 9/12\n",
      "26122/26122 [==============================] - 46s 2ms/step - loss: 0.0970 - accuracy: 0.9636 - f1: 0.8145 - val_loss: 0.1340 - val_accuracy: 0.9492 - val_f1: 0.7292\n",
      "Epoch 10/12\n",
      "26122/26122 [==============================] - 46s 2ms/step - loss: 0.0923 - accuracy: 0.9657 - f1: 0.8266 - val_loss: 0.1353 - val_accuracy: 0.9489 - val_f1: 0.7377\n",
      "Epoch 11/12\n",
      "26122/26122 [==============================] - 45s 2ms/step - loss: 0.0859 - accuracy: 0.9684 - f1: 0.8440 - val_loss: 0.1374 - val_accuracy: 0.9491 - val_f1: 0.7462\n",
      "Epoch 12/12\n",
      "26122/26122 [==============================] - 50s 2ms/step - loss: 0.0806 - accuracy: 0.9701 - f1: 0.8496 - val_loss: 0.1402 - val_accuracy: 0.9493 - val_f1: 0.7278\n",
      "<class 'keras.layers.recurrent.GRU'> (unit=64, dropout=0.2, recurrent=0.1): Acc=0.9497779819323228, F1=0.7455784962991818 \n",
      "Train on 26122 samples, validate on 6531 samples\n",
      "Epoch 1/12\n",
      "26122/26122 [==============================] - 48s 2ms/step - loss: 0.2286 - accuracy: 0.9301 - f1: 0.5399 - val_loss: 0.1615 - val_accuracy: 0.9421 - val_f1: 0.6371\n",
      "Epoch 2/12\n",
      "26122/26122 [==============================] - 41s 2ms/step - loss: 0.1507 - accuracy: 0.9445 - f1: 0.6806 - val_loss: 0.1494 - val_accuracy: 0.9430 - val_f1: 0.6418\n",
      "Epoch 3/12\n",
      "26122/26122 [==============================] - 41s 2ms/step - loss: 0.1714 - accuracy: 0.9471 - f1: 0.7059 - val_loss: 0.1469 - val_accuracy: 0.9446 - val_f1: 0.6508\n",
      "Epoch 4/12\n",
      "26122/26122 [==============================] - 40s 2ms/step - loss: 0.1346 - accuracy: 0.9498 - f1: 0.7237 - val_loss: 0.1454 - val_accuracy: 0.9456 - val_f1: 0.6676\n",
      "Epoch 5/12\n",
      "26122/26122 [==============================] - 40s 2ms/step - loss: 0.1286 - accuracy: 0.9509 - f1: 0.7337 - val_loss: 0.1452 - val_accuracy: 0.9456 - val_f1: 0.6588\n",
      "Epoch 6/12\n",
      "26122/26122 [==============================] - 41s 2ms/step - loss: 0.1245 - accuracy: 0.9532 - f1: 0.7467 - val_loss: 0.1413 - val_accuracy: 0.9468 - val_f1: 0.6785\n",
      "Epoch 7/12\n",
      "26122/26122 [==============================] - 41s 2ms/step - loss: 0.1221 - accuracy: 0.9538 - f1: 0.7555 - val_loss: 0.1382 - val_accuracy: 0.9467 - val_f1: 0.7014\n",
      "Epoch 8/12\n",
      "26122/26122 [==============================] - 42s 2ms/step - loss: 0.1157 - accuracy: 0.9556 - f1: 0.7654 - val_loss: 0.1408 - val_accuracy: 0.9469 - val_f1: 0.6749\n",
      "Epoch 9/12\n",
      "26122/26122 [==============================] - 41s 2ms/step - loss: 0.1138 - accuracy: 0.9566 - f1: 0.7766 - val_loss: 0.1370 - val_accuracy: 0.9483 - val_f1: 0.6968\n",
      "Epoch 10/12\n",
      "26122/26122 [==============================] - 41s 2ms/step - loss: 0.1114 - accuracy: 0.9576 - f1: 0.7843 - val_loss: 0.1393 - val_accuracy: 0.9489 - val_f1: 0.6989\n",
      "Epoch 11/12\n",
      "26122/26122 [==============================] - 41s 2ms/step - loss: 0.1056 - accuracy: 0.9600 - f1: 0.7961 - val_loss: 0.1352 - val_accuracy: 0.9485 - val_f1: 0.7061\n",
      "Epoch 12/12\n",
      "26122/26122 [==============================] - 41s 2ms/step - loss: 0.1025 - accuracy: 0.9615 - f1: 0.7993 - val_loss: 0.1371 - val_accuracy: 0.9477 - val_f1: 0.6949\n",
      "<class 'keras.layers.recurrent.GRU'> (unit=64, dropout=0.2, recurrent=0.2): Acc=0.9479405910274078, F1=0.7173360693300203 \n"
     ]
    }
   ],
   "source": [
    "type_list = [GRU]\n",
    "units_list = [32, 64]\n",
    "dropout_list = [0.1, 0.2]\n",
    "recurrent_dropout_list = [0.1, 0.2]\n",
    "rnn_list = {}\n",
    "\n",
    "for (t, u, d, r) in itertools.product(type_list, units_list, dropout_list, recurrent_dropout_list):\n",
    "    rnn = Sequential()\n",
    "    rnn.add(embedding_layer)\n",
    "    rnn.add(t(u,dropout=d, recurrent_dropout=r,activation='relu',return_sequences=True))\n",
    "    rnn.add(GlobalMaxPool1D())\n",
    "    rnn.add(Dense(NUM_CLASSES, activation='sigmoid'))\n",
    "    rnn.compile(loss='binary_crossentropy', \n",
    "                optimizer='adam', \n",
    "                metrics=['accuracy',f1])\n",
    "    \n",
    "    rnn.fit(X_train, y_train_ohe, validation_data=(X_test, y_test_ohe), epochs=12, batch_size=128)\n",
    "    yhat = np.argmax(rnn.predict(X_test), axis=1)\n",
    "    y_test = np.argmax(y_test_ohe, axis = 1)\n",
    "    acc = metrics.accuracy_score(y_test, yhat)\n",
    "    f1b = metrics.f1_score(y_test, yhat, average=\"macro\")\n",
    "    log = \"{} (unit={}, dropout={}, recurrent={}): Acc={}, F1={} \".format(t, u, d, r, acc, f1b)\n",
    "    rnn_list[log] = rnn\n",
    "    print(log)"
   ]
  },
  {
   "cell_type": "markdown",
   "metadata": {},
   "source": [
    "For LSTM, unit = 32, dropout = 0.2, recurrent = 0.2 are the best model, with F1 score 0.75972. For GRU,unit = 64, dropout = 0.2, recurrent = 0.1 are the best model, with F1 score 0.74558."
   ]
  },
  {
   "cell_type": "markdown",
   "metadata": {},
   "source": [
    "## 2.2 Second Chain RNN ( 20 points)"
   ]
  },
  {
   "cell_type": "markdown",
   "metadata": {},
   "source": [
    "## Add a second recurrent chain to Best Model"
   ]
  },
  {
   "cell_type": "code",
   "execution_count": 21,
   "metadata": {},
   "outputs": [
    {
     "name": "stdout",
     "output_type": "stream",
     "text": [
      "Model: \"sequential_18\"\n",
      "_________________________________________________________________\n",
      "Layer (type)                 Output Shape              Param #   \n",
      "=================================================================\n",
      "embedding_1 (Embedding)      (None, 100, 300)          9015000   \n",
      "_________________________________________________________________\n",
      "lstm_10 (LSTM)               (None, 100, 32)           42624     \n",
      "_________________________________________________________________\n",
      "lstm_11 (LSTM)               (None, 100, 32)           8320      \n",
      "_________________________________________________________________\n",
      "global_max_pooling1d_18 (Glo (None, 32)                0         \n",
      "_________________________________________________________________\n",
      "dense_18 (Dense)             (None, 2)                 66        \n",
      "=================================================================\n",
      "Total params: 9,066,010\n",
      "Trainable params: 51,010\n",
      "Non-trainable params: 9,015,000\n",
      "_________________________________________________________________\n",
      "None\n"
     ]
    }
   ],
   "source": [
    "rnn_add = Sequential()\n",
    "rnn_add.add(embedding_layer)\n",
    "rnn_add.add(LSTM(32,dropout=0.2, recurrent_dropout=0.2,activation='relu',return_sequences=True))\n",
    "rnn_add.add(LSTM(32,dropout=0.2, recurrent_dropout=0.2,activation='relu',return_sequences=True))\n",
    "rnn_add.add(GlobalMaxPool1D())\n",
    "rnn_add.add(Dense(NUM_CLASSES, activation='sigmoid'))\n",
    "rnn_add.compile(loss='binary_crossentropy', \n",
    "              optimizer='adam', \n",
    "              metrics=['accuracy',f1])\n",
    "print(rnn_add.summary())"
   ]
  },
  {
   "cell_type": "code",
   "execution_count": 34,
   "metadata": {},
   "outputs": [
    {
     "name": "stdout",
     "output_type": "stream",
     "text": [
      "Train on 26122 samples, validate on 6531 samples\n",
      "Epoch 1/15\n",
      "26122/26122 [==============================] - 85s 3ms/step - loss: 0.2346 - accuracy: 0.9335 - f1: 0.4834 - val_loss: 0.1761 - val_accuracy: 0.9391 - val_f1: 0.5194\n",
      "Epoch 2/15\n",
      "26122/26122 [==============================] - 100s 4ms/step - loss: 0.1632 - accuracy: 0.9423 - f1: 0.5822 - val_loss: 0.1545 - val_accuracy: 0.9427 - val_f1: 0.6362\n",
      "Epoch 3/15\n",
      "26122/26122 [==============================] - 103s 4ms/step - loss: 0.1461 - accuracy: 0.9453 - f1: 0.6508 - val_loss: 0.1491 - val_accuracy: 0.9450 - val_f1: 0.6340\n",
      "Epoch 4/15\n",
      "26122/26122 [==============================] - 106s 4ms/step - loss: 0.1372 - accuracy: 0.9481 - f1: 0.6951 - val_loss: 0.1549 - val_accuracy: 0.9443 - val_f1: 0.6416\n",
      "Epoch 5/15\n",
      "26122/26122 [==============================] - 98s 4ms/step - loss: 0.1335 - accuracy: 0.9495 - f1: 0.6958 - val_loss: 0.1421 - val_accuracy: 0.9463 - val_f1: 0.7068\n",
      "Epoch 6/15\n",
      "26122/26122 [==============================] - 80s 3ms/step - loss: 0.1237 - accuracy: 0.9519 - f1: 0.7258 - val_loss: 0.1428 - val_accuracy: 0.9461 - val_f1: 0.6864\n",
      "Epoch 7/15\n",
      "26122/26122 [==============================] - 80s 3ms/step - loss: 0.1177 - accuracy: 0.9527 - f1: 0.7302 - val_loss: 0.1451 - val_accuracy: 0.9470 - val_f1: 0.6910\n",
      "Epoch 8/15\n",
      "26122/26122 [==============================] - 83s 3ms/step - loss: 0.1149 - accuracy: 0.9538 - f1: 0.7529 - val_loss: 0.1410 - val_accuracy: 0.9480 - val_f1: 0.6938\n",
      "Epoch 9/15\n",
      "26122/26122 [==============================] - 82s 3ms/step - loss: 0.1123 - accuracy: 0.9567 - f1: 0.7687 - val_loss: 0.1409 - val_accuracy: 0.9451 - val_f1: 0.7042\n",
      "Epoch 10/15\n",
      "26122/26122 [==============================] - 84s 3ms/step - loss: 0.1037 - accuracy: 0.9575 - f1: 0.7732 - val_loss: 0.1538 - val_accuracy: 0.9404 - val_f1: 0.7371\n",
      "Epoch 11/15\n",
      "26122/26122 [==============================] - 79s 3ms/step - loss: 0.0994 - accuracy: 0.9589 - f1: 0.7851 - val_loss: 0.1475 - val_accuracy: 0.9426 - val_f1: 0.7355\n",
      "Epoch 12/15\n",
      "26122/26122 [==============================] - 80s 3ms/step - loss: 0.0945 - accuracy: 0.9612 - f1: 0.7971 - val_loss: 0.1476 - val_accuracy: 0.9452 - val_f1: 0.7233\n",
      "Epoch 13/15\n",
      "26122/26122 [==============================] - 80s 3ms/step - loss: 0.0898 - accuracy: 0.9625 - f1: 0.8068 - val_loss: 0.1475 - val_accuracy: 0.9449 - val_f1: 0.7380\n",
      "Epoch 14/15\n",
      "26122/26122 [==============================] - 81s 3ms/step - loss: 0.0838 - accuracy: 0.9658 - f1: 0.8306 - val_loss: 0.1760 - val_accuracy: 0.9461 - val_f1: 0.7162\n",
      "Epoch 15/15\n",
      "26122/26122 [==============================] - 80s 3ms/step - loss: 0.0776 - accuracy: 0.9687 - f1: 0.8460 - val_loss: 0.1689 - val_accuracy: 0.9455 - val_f1: 0.7067\n"
     ]
    }
   ],
   "source": [
    "history = rnn_add.fit(X_train, y_train_ohe, validation_data=(X_test, y_test_ohe), epochs=15, batch_size=128)"
   ]
  },
  {
   "cell_type": "code",
   "execution_count": 35,
   "metadata": {},
   "outputs": [
    {
     "data": {
      "image/png": "[encoded data removed]",
      "text/plain": [
       "<Figure size 432x288 with 2 Axes>"
      ]
     },
     "metadata": {
      "needs_background": "light"
     },
     "output_type": "display_data"
    }
   ],
   "source": [
    "confusion_rnn(rnn_add, X_test, y_test_ohe, 'Two Chains')"
   ]
  },
  {
   "cell_type": "markdown",
   "metadata": {},
   "source": [
    "## Visualize "
   ]
  },
  {
   "cell_type": "code",
   "execution_count": 36,
   "metadata": {},
   "outputs": [
    {
     "data": {
      "image/png": "[encoded data removed]",
      "text/plain": [
       "<Figure size 432x288 with 1 Axes>"
      ]
     },
     "metadata": {
      "needs_background": "light"
     },
     "output_type": "display_data"
    }
   ],
   "source": [
    "# Plot training & validation F1\n",
    "plt.plot(history.history['f1'])\n",
    "plt.plot(history.history['val_f1'])\n",
    "plt.title('Model F1 Score')\n",
    "plt.ylabel('F1 score')\n",
    "plt.xlabel('Epoch')\n",
    "plt.legend(['Train', 'Test'], loc='upper left')\n",
    "plt.show()"
   ]
  },
  {
   "cell_type": "markdown",
   "metadata": {},
   "source": [
    "From the F1 score vs. epoch, we see that the F1 score continues to increase on the trainin data, but stops increasing by epoch 6 of test data. This means we have enough epochs as we are experiencing the beginning of overfitting. Overfitting occurrs when the training data improves but the test data actually begins to decrease. That does not really happen here, but if we had more training it might have happened."
   ]
  },
  {
   "cell_type": "code",
   "execution_count": 37,
   "metadata": {},
   "outputs": [
    {
     "data": {
      "image/png": "[encoded data removed]",
      "text/plain": [
       "<Figure size 432x288 with 1 Axes>"
      ]
     },
     "metadata": {
      "needs_background": "light"
     },
     "output_type": "display_data"
    }
   ],
   "source": [
    "# Plot training & validation accuracy values\n",
    "plt.plot(history.history['accuracy'])\n",
    "plt.plot(history.history['val_accuracy'])\n",
    "plt.title('Model accuracy')\n",
    "plt.ylabel('Accuracy')\n",
    "plt.xlabel('Epoch')\n",
    "plt.legend(['Train', 'Test'], loc='upper left')\n",
    "plt.show()"
   ]
  },
  {
   "cell_type": "markdown",
   "metadata": {},
   "source": [
    "The accuracy shows a similar pattern to the f1 score."
   ]
  },
  {
   "cell_type": "code",
   "execution_count": 39,
   "metadata": {},
   "outputs": [
    {
     "data": {
      "image/png": "[encoded data removed]",
      "text/plain": [
       "<Figure size 432x288 with 1 Axes>"
      ]
     },
     "metadata": {
      "needs_background": "light"
     },
     "output_type": "display_data"
    }
   ],
   "source": [
    "# Plot training & validation loss values\n",
    "plt.plot(history.history['loss'])\n",
    "plt.plot(history.history['val_loss'])\n",
    "plt.title('Model loss')\n",
    "plt.ylabel('Loss')\n",
    "plt.xlabel('Epoch')\n",
    "plt.legend(['Train', 'Test'], loc='upper left')\n",
    "plt.show()"
   ]
  },
  {
   "cell_type": "markdown",
   "metadata": {},
   "source": [
    "Again, this shows a similar pattern. The loss continually decreases for the training data, but at around epoch 6, the test data stops improving."
   ]
  },
  {
   "cell_type": "markdown",
   "metadata": {},
   "source": [
    "## 2.3 Compare our best LSTM and best GRU ( 20 points)"
   ]
  },
  {
   "cell_type": "code",
   "execution_count": 43,
   "metadata": {},
   "outputs": [],
   "source": [
    "def contingency_column_rnn(rnn, X_test, y_test):\n",
    "    yhat_rnn = np.argmax(rnn.predict(X_test), axis = 1)\n",
    "    y_rnn = np.argmax(y_test, axis = 1)\n",
    "    \n",
    "    print(yhat_rnn)\n",
    "    print(y_rnn)\n",
    "    return [yhat_rnn[i] == y_rnn[i] for i in range(len(yhat_rnn))]"
   ]
  },
  {
   "cell_type": "markdown",
   "metadata": {},
   "source": [
    "## Our best model using lstm"
   ]
  },
  {
   "cell_type": "code",
   "execution_count": 22,
   "metadata": {},
   "outputs": [
    {
     "name": "stdout",
     "output_type": "stream",
     "text": [
      "Model: \"sequential_19\"\n",
      "_________________________________________________________________\n",
      "Layer (type)                 Output Shape              Param #   \n",
      "=================================================================\n",
      "embedding_1 (Embedding)      (None, 100, 300)          9015000   \n",
      "_________________________________________________________________\n",
      "lstm_12 (LSTM)               (None, 100, 32)           42624     \n",
      "_________________________________________________________________\n",
      "global_max_pooling1d_19 (Glo (None, 32)                0         \n",
      "_________________________________________________________________\n",
      "dense_19 (Dense)             (None, 2)                 66        \n",
      "=================================================================\n",
      "Total params: 9,057,690\n",
      "Trainable params: 42,690\n",
      "Non-trainable params: 9,015,000\n",
      "_________________________________________________________________\n",
      "None\n"
     ]
    }
   ],
   "source": [
    "rnn_lstm = Sequential()\n",
    "rnn_lstm.add(embedding_layer)\n",
    "rnn_lstm.add(LSTM(32,dropout=0.2, recurrent_dropout=0.2,activation='relu',return_sequences=True))\n",
    "rnn_lstm.add(GlobalMaxPool1D())\n",
    "rnn_lstm.add(Dense(NUM_CLASSES, activation='sigmoid'))\n",
    "rnn_lstm.compile(loss='binary_crossentropy', \n",
    "              optimizer='adam', \n",
    "              metrics=['accuracy',f1])\n",
    "print(rnn_lstm.summary())"
   ]
  },
  {
   "cell_type": "code",
   "execution_count": 61,
   "metadata": {},
   "outputs": [
    {
     "name": "stdout",
     "output_type": "stream",
     "text": [
      "Train on 26122 samples, validate on 6531 samples\n",
      "Epoch 1/15\n",
      "26122/26122 [==============================] - 62s 2ms/step - loss: 0.0589 - accuracy: 0.9789 - f1: 0.8930 - val_loss: 0.1632 - val_accuracy: 0.9443 - val_f1: 0.7261\n",
      "Epoch 2/15\n",
      "26122/26122 [==============================] - 51s 2ms/step - loss: 0.0557 - accuracy: 0.9809 - f1: 0.9005 - val_loss: 0.1673 - val_accuracy: 0.9448 - val_f1: 0.7097\n",
      "Epoch 3/15\n",
      "26122/26122 [==============================] - 45s 2ms/step - loss: 0.0505 - accuracy: 0.9824 - f1: 0.9131 - val_loss: 0.1720 - val_accuracy: 0.9449 - val_f1: 0.7090\n",
      "Epoch 4/15\n",
      "26122/26122 [==============================] - 44s 2ms/step - loss: 0.0450 - accuracy: 0.9838 - f1: 0.9186 - val_loss: 0.1823 - val_accuracy: 0.9445 - val_f1: 0.7172\n",
      "Epoch 5/15\n",
      "26122/26122 [==============================] - 45s 2ms/step - loss: 0.0434 - accuracy: 0.9849 - f1: 0.9268 - val_loss: 0.1811 - val_accuracy: 0.9440 - val_f1: 0.7305\n",
      "Epoch 6/15\n",
      "26122/26122 [==============================] - 45s 2ms/step - loss: 0.0431 - accuracy: 0.9846 - f1: 0.9278 - val_loss: 0.1836 - val_accuracy: 0.9457 - val_f1: 0.7030\n",
      "Epoch 7/15\n",
      "26122/26122 [==============================] - 45s 2ms/step - loss: 0.0364 - accuracy: 0.9882 - f1: 0.9379 - val_loss: 0.1988 - val_accuracy: 0.9437 - val_f1: 0.7142\n",
      "Epoch 8/15\n",
      "26122/26122 [==============================] - 45s 2ms/step - loss: 0.0347 - accuracy: 0.9884 - f1: 0.9441 - val_loss: 0.1926 - val_accuracy: 0.9438 - val_f1: 0.7025\n",
      "Epoch 9/15\n",
      "26122/26122 [==============================] - 45s 2ms/step - loss: 0.0320 - accuracy: 0.9895 - f1: 0.9462 - val_loss: 0.2088 - val_accuracy: 0.9446 - val_f1: 0.7091\n",
      "Epoch 10/15\n",
      "26122/26122 [==============================] - 45s 2ms/step - loss: 0.0300 - accuracy: 0.9902 - f1: 0.9532 - val_loss: 0.2153 - val_accuracy: 0.9422 - val_f1: 0.7242\n",
      "Epoch 11/15\n",
      "26122/26122 [==============================] - 45s 2ms/step - loss: 0.0277 - accuracy: 0.9908 - f1: 0.9557 - val_loss: 0.2145 - val_accuracy: 0.9438 - val_f1: 0.6984\n",
      "Epoch 12/15\n",
      "26122/26122 [==============================] - 44s 2ms/step - loss: 0.0262 - accuracy: 0.9912 - f1: 0.9571 - val_loss: 0.2241 - val_accuracy: 0.9439 - val_f1: 0.7219\n",
      "Epoch 13/15\n",
      "26122/26122 [==============================] - 53s 2ms/step - loss: 0.0230 - accuracy: 0.9924 - f1: 0.9620 - val_loss: 0.2287 - val_accuracy: 0.9446 - val_f1: 0.7029\n",
      "Epoch 14/15\n",
      "26122/26122 [==============================] - 51s 2ms/step - loss: 0.0219 - accuracy: 0.9931 - f1: 0.9643 - val_loss: 0.2364 - val_accuracy: 0.9412 - val_f1: 0.7199\n",
      "Epoch 15/15\n",
      "26122/26122 [==============================] - 54s 2ms/step - loss: 0.0210 - accuracy: 0.9930 - f1: 0.9673 - val_loss: 0.2435 - val_accuracy: 0.9441 - val_f1: 0.7171\n"
     ]
    }
   ],
   "source": [
    "lstm_history = rnn_lstm.fit(X_train, y_train_ohe, validation_data=(X_test, y_test_ohe), epochs=15, batch_size=128)"
   ]
  },
  {
   "cell_type": "code",
   "execution_count": 62,
   "metadata": {},
   "outputs": [
    {
     "name": "stdout",
     "output_type": "stream",
     "text": [
      "[0 0 0 ... 0 0 0]\n",
      "[0 0 0 ... 0 0 0]\n"
     ]
    }
   ],
   "source": [
    "classifier_lstm = contingency_column_rnn(rnn_lstm, X_test, y_test_ohe)"
   ]
  },
  {
   "cell_type": "code",
   "execution_count": 64,
   "metadata": {},
   "outputs": [
    {
     "data": {
      "image/png": "[encoded data removed]",
      "text/plain": [
       "<Figure size 432x288 with 2 Axes>"
      ]
     },
     "metadata": {
      "needs_background": "light"
     },
     "output_type": "display_data"
    }
   ],
   "source": [
    "confusion_rnn(rnn_lstm, X_test, y_test_ohe, 'lstm')"
   ]
  },
  {
   "cell_type": "markdown",
   "metadata": {},
   "source": [
    "## Our best model using gru"
   ]
  },
  {
   "cell_type": "code",
   "execution_count": 23,
   "metadata": {},
   "outputs": [
    {
     "name": "stdout",
     "output_type": "stream",
     "text": [
      "Model: \"sequential_20\"\n",
      "_________________________________________________________________\n",
      "Layer (type)                 Output Shape              Param #   \n",
      "=================================================================\n",
      "embedding_1 (Embedding)      (None, 100, 300)          9015000   \n",
      "_________________________________________________________________\n",
      "gru_9 (GRU)                  (None, 100, 64)           70080     \n",
      "_________________________________________________________________\n",
      "global_max_pooling1d_20 (Glo (None, 64)                0         \n",
      "_________________________________________________________________\n",
      "dense_20 (Dense)             (None, 2)                 130       \n",
      "=================================================================\n",
      "Total params: 9,085,210\n",
      "Trainable params: 70,210\n",
      "Non-trainable params: 9,015,000\n",
      "_________________________________________________________________\n",
      "None\n"
     ]
    }
   ],
   "source": [
    "rnn_gru = Sequential()\n",
    "rnn_gru.add(embedding_layer)\n",
    "rnn_gru.add(GRU(64,dropout=0.2, recurrent_dropout=0.1,activation='relu',return_sequences=True))\n",
    "rnn_gru.add(GlobalMaxPool1D())\n",
    "rnn_gru.add(Dense(NUM_CLASSES, activation='sigmoid'))\n",
    "rnn_gru.compile(loss='binary_crossentropy', \n",
    "              optimizer='adam', \n",
    "              metrics=['accuracy',f1])\n",
    "print(rnn_gru.summary())"
   ]
  },
  {
   "cell_type": "code",
   "execution_count": 66,
   "metadata": {},
   "outputs": [
    {
     "name": "stdout",
     "output_type": "stream",
     "text": [
      "Train on 26122 samples, validate on 6531 samples\n",
      "Epoch 1/15\n",
      "26122/26122 [==============================] - 52s 2ms/step - loss: 0.2201 - accuracy: 0.9257 - f1: 0.5100 - val_loss: 0.1607 - val_accuracy: 0.9384 - val_f1: 0.5932\n",
      "Epoch 2/15\n",
      "26122/26122 [==============================] - 47s 2ms/step - loss: 0.1612 - accuracy: 0.9461 - f1: 0.6570 - val_loss: 0.1511 - val_accuracy: 0.9412 - val_f1: 0.6229\n",
      "Epoch 3/15\n",
      "26122/26122 [==============================] - 42s 2ms/step - loss: 0.1437 - accuracy: 0.9480 - f1: 0.6955 - val_loss: 0.1515 - val_accuracy: 0.9416 - val_f1: 0.6905\n",
      "Epoch 4/15\n",
      "26122/26122 [==============================] - 48s 2ms/step - loss: 0.1314 - accuracy: 0.9508 - f1: 0.7147 - val_loss: 0.1460 - val_accuracy: 0.9441 - val_f1: 0.6338\n",
      "Epoch 5/15\n",
      "26122/26122 [==============================] - 48s 2ms/step - loss: 0.1261 - accuracy: 0.9521 - f1: 0.7210 - val_loss: 0.1419 - val_accuracy: 0.9460 - val_f1: 0.6614\n",
      "Epoch 6/15\n",
      "26122/26122 [==============================] - 41s 2ms/step - loss: 0.1212 - accuracy: 0.9542 - f1: 0.7451 - val_loss: 0.1399 - val_accuracy: 0.9461 - val_f1: 0.6886\n",
      "Epoch 7/15\n",
      "26122/26122 [==============================] - 42s 2ms/step - loss: 0.1163 - accuracy: 0.9552 - f1: 0.7517 - val_loss: 0.1459 - val_accuracy: 0.9446 - val_f1: 0.6259\n",
      "Epoch 8/15\n",
      "26122/26122 [==============================] - 42s 2ms/step - loss: 0.1127 - accuracy: 0.9572 - f1: 0.7575 - val_loss: 0.1432 - val_accuracy: 0.9463 - val_f1: 0.6528\n",
      "Epoch 9/15\n",
      "26122/26122 [==============================] - 39s 1ms/step - loss: 0.1075 - accuracy: 0.9590 - f1: 0.7772 - val_loss: 0.1397 - val_accuracy: 0.9475 - val_f1: 0.6767\n",
      "Epoch 10/15\n",
      "26122/26122 [==============================] - 39s 1ms/step - loss: 0.1053 - accuracy: 0.9603 - f1: 0.7878 - val_loss: 0.1410 - val_accuracy: 0.9466 - val_f1: 0.6708\n",
      "Epoch 11/15\n",
      "26122/26122 [==============================] - 39s 2ms/step - loss: 0.1011 - accuracy: 0.9617 - f1: 0.7890 - val_loss: 0.1393 - val_accuracy: 0.9472 - val_f1: 0.6866\n",
      "Epoch 12/15\n",
      "26122/26122 [==============================] - 39s 1ms/step - loss: 0.0942 - accuracy: 0.9646 - f1: 0.8066 - val_loss: 0.1399 - val_accuracy: 0.9465 - val_f1: 0.7090\n",
      "Epoch 13/15\n",
      "26122/26122 [==============================] - 39s 1ms/step - loss: 0.0912 - accuracy: 0.9658 - f1: 0.8153 - val_loss: 0.1413 - val_accuracy: 0.9473 - val_f1: 0.6998\n",
      "Epoch 14/15\n",
      "26122/26122 [==============================] - 49s 2ms/step - loss: 0.0871 - accuracy: 0.9668 - f1: 0.8205 - val_loss: 0.1426 - val_accuracy: 0.9451 - val_f1: 0.7166\n",
      "Epoch 15/15\n",
      "26122/26122 [==============================] - 40s 2ms/step - loss: 0.0821 - accuracy: 0.9695 - f1: 0.8414 - val_loss: 0.1444 - val_accuracy: 0.9456 - val_f1: 0.6912\n"
     ]
    }
   ],
   "source": [
    "gru_history = rnn_gru.fit(X_train, y_train_ohe, validation_data=(X_test, y_test_ohe), epochs=15, batch_size=128)"
   ]
  },
  {
   "cell_type": "code",
   "execution_count": 67,
   "metadata": {},
   "outputs": [
    {
     "name": "stdout",
     "output_type": "stream",
     "text": [
      "[0 0 0 ... 0 0 0]\n",
      "[0 0 0 ... 0 0 0]\n"
     ]
    }
   ],
   "source": [
    "classifier_gru = contingency_column_rnn(rnn_gru, X_test, y_test_ohe)"
   ]
  },
  {
   "cell_type": "code",
   "execution_count": 69,
   "metadata": {},
   "outputs": [
    {
     "data": {
      "image/png": "[encoded data removed]",
      "text/plain": [
       "<Figure size 432x288 with 2 Axes>"
      ]
     },
     "metadata": {
      "needs_background": "light"
     },
     "output_type": "display_data"
    }
   ],
   "source": [
    "confusion_rnn(rnn_gru, X_test, y_test_ohe, 'gru')"
   ]
  },
  {
   "cell_type": "markdown",
   "metadata": {},
   "source": []
  },
  {
   "cell_type": "markdown",
   "metadata": {},
   "source": [
    "## Mcnemara's Test"
   ]
  },
  {
   "cell_type": "markdown",
   "metadata": {},
   "source": [
    "In statistics, McNemar's test is a statistical test used on paired nominal data. It is applied to 2 × 2 contingency tables with a dichotomous trait, with matched pairs of subjects, to determine whether the row and column marginal frequencies are equal (that is, whether there is \"marginal homogeneity\")\n",
    "\n",
    "The test is applied to a 2 × 2 contingency table, which tabulates the outcomes of two tests on a sample of n subjects, as follows."
   ]
  },
  {
   "cell_type": "markdown",
   "metadata": {},
   "source": [
    "</h2><table class='table table-striped'> <thead> <tr> <th></th> <th>Test 2 positive</th> <th>Test 2 negative</th> <th>Rowtotal</th> </tr> </thead> <tbody> <tr> <th scope='row'>Test 1 positive</th> <td>a</td> <td>b</td> <td>a+b</td> </tr> <tr> <th scope='row'>Test 1 negative</th> <td>c</td> <td>d</td> <td>c+d</td> </tr> <tr> <th scope='row'>Column total</th> <td>a+c</td> <td>b+d</td> <td>n</td> </tr> </tbody> </table>"
   ]
  },
  {
   "cell_type": "markdown",
   "metadata": {},
   "source": [
    "The null hypothesis of marginal homogeneity states that the two marginal probabilities for each outcome are the same, i.e. \\begin{aligned}~p_{a}+p_{b}=p_{b} + p_{c}~and~p_{c} + p_{d}=p_{b} + p_{d}\\end{aligned}\n",
    "\n",
    "Thus the null and alternative hypotheses are[1]\n",
    "\n",
    "\\begin{aligned}H_{0}&:~p_{b}=p_{c}\\\\H_{1}&:~p_{b}\\neq p_{c}\\end{aligned}\n",
    "Here $p_{a}$, etc., denote the theoretical probability of occurrences in cells with the corresponding label.\n",
    "\n",
    "The McNemar test statistic is:\n",
    "\\begin{aligned}{\\chi^2} = \\frac{(b-c)^2}{b-c}\\end{aligned}\n",
    "\n",
    "Under the null hypothesis, with a sufficiently large number of discordants (cells b and c), $\\chi^2$ has a chi-squared distribution with 1 degree of freedom. If the $\\chi^2$ result is significant, this provides sufficient evidence to reject the null hypothesis, in favour of the alternative hypothesis that $p_{b} ≠ p_{c}$, which would mean that the marginal proportions are significantly different from each other."
   ]
  },
  {
   "cell_type": "markdown",
   "metadata": {},
   "source": [
    "## Reference \n",
    "“McNemar's Test.” Wikipedia, Wikimedia Foundation, 22 Nov. 2019, https://en.wikipedia.org/wiki/McNemar's_test."
   ]
  },
  {
   "cell_type": "code",
   "execution_count": 70,
   "metadata": {},
   "outputs": [],
   "source": [
    "def make_contingency_table(classifier_1, classifier_2):\n",
    "    '''\n",
    "    input: classifier 1 right or wrong, classifier 2 right or wrong\n",
    "    '''\n",
    "    table = [[0, 0],[0,0]]\n",
    "    for i in range(len(classifier_1)):\n",
    "        if classifier_1[i]:\n",
    "            i_ans = 0\n",
    "        else:\n",
    "            i_ans = 1\n",
    "        if classifier_2[i]:\n",
    "            j_ans = 0\n",
    "        else:\n",
    "            j_ans = 1\n",
    "        table[i_ans][j_ans] += 1\n",
    "    return table"
   ]
  },
  {
   "cell_type": "code",
   "execution_count": 71,
   "metadata": {},
   "outputs": [],
   "source": [
    "#!pip install statsmodels"
   ]
  },
  {
   "cell_type": "code",
   "execution_count": 72,
   "metadata": {},
   "outputs": [
    {
     "name": "stdout",
     "output_type": "stream",
     "text": [
      "statistic=2.000, p-value=1.000\n",
      "Same proportions of errors (fail to reject H0)\n"
     ]
    }
   ],
   "source": [
    "# Code taken form https://machinelearningmastery.com/mcnemars-test-for-machine-learning/\n",
    "\n",
    "# Example of calculating the mcnemar test\n",
    "from statsmodels.stats.contingency_tables import mcnemar\n",
    "# define contingency table\n",
    "table = [[4, 2], [2,4]]\n",
    "def print_mcnemar(table):         \n",
    "    # calculate mcnemar test\n",
    "    result = mcnemar(table, exact=True)\n",
    "    # summarize the finding\n",
    "    print('statistic=%.3f, p-value=%.3f' % (result.statistic, result.pvalue))\n",
    "    # interpret the p-value\n",
    "    alpha = 0.05\n",
    "    if result.pvalue > alpha:\n",
    "        print('Same proportions of errors (fail to reject H0)')\n",
    "    else:\n",
    "        print('Different proportions of errors (reject H0)')\n",
    "\n",
    "print_mcnemar(table)"
   ]
  },
  {
   "cell_type": "code",
   "execution_count": 73,
   "metadata": {},
   "outputs": [],
   "source": [
    "# Example of calculating the mcnemar test\n",
    "from statsmodels.stats.contingency_tables import mcnemar\n",
    "# define contingency table\n",
    "table = [[4, 2], [2,4]]"
   ]
  },
  {
   "cell_type": "code",
   "execution_count": 74,
   "metadata": {},
   "outputs": [
    {
     "data": {
      "text/plain": [
       "[[6068, 96], [108, 259]]"
      ]
     },
     "execution_count": 74,
     "metadata": {},
     "output_type": "execute_result"
    }
   ],
   "source": [
    "make_contingency_table(classifier_lstm,  classifier_gru)"
   ]
  },
  {
   "cell_type": "markdown",
   "metadata": {},
   "source": [
    "From the contigency table, we can see that gru model got 108 prediction right that lstm model got wrong. Vice versa, lstm model got 96 prediction right that gru model got wrong."
   ]
  },
  {
   "cell_type": "code",
   "execution_count": 75,
   "metadata": {},
   "outputs": [
    {
     "name": "stdout",
     "output_type": "stream",
     "text": [
      "statistic=96.000, p-value=0.441\n",
      "Same proportions of errors (fail to reject H0)\n"
     ]
    }
   ],
   "source": [
    "print_mcnemar(make_contingency_table(classifier_lstm,classifier_gru))"
   ]
  },
  {
   "cell_type": "code",
   "execution_count": 79,
   "metadata": {
    "scrolled": true
   },
   "outputs": [
    {
     "data": {
      "text/plain": [
       "Text(0.5, 1.0, 'Comparison of f1 Score for best lstm and best gru')"
      ]
     },
     "execution_count": 79,
     "metadata": {},
     "output_type": "execute_result"
    },
    {
     "data": {
      "image/png": "[encoded data removed]",
      "text/plain": [
       "<Figure size 432x288 with 1 Axes>"
      ]
     },
     "metadata": {
      "needs_background": "light"
     },
     "output_type": "display_data"
    }
   ],
   "source": [
    "#Compare our best model \n",
    "plt.plot(lstm_history.history['val_f1'])\n",
    "plt.plot(gru_history.history['val_f1'])\n",
    "plt.legend(['lstm','gru'])\n",
    "plt.ylabel('f1_score %')\n",
    "plt.xlabel('epochs')\n",
    "plt.title('Comparison of f1 Score for best lstm and best gru')"
   ]
  },
  {
   "cell_type": "markdown",
   "metadata": {},
   "source": [
    "Based on the plots above, lstm model performs better on almost every epoch. We visualized the results of all the RNNs we trained in confusion matrix."
   ]
  }
 ],
 "metadata": {
  "kernelspec": {
   "display_name": "Python 3",
   "language": "python",
   "name": "python3"
  },
  "language_info": {
   "codemirror_mode": {
    "name": "ipython",
    "version": 3
   },
   "file_extension": ".py",
   "mimetype": "text/x-python",
   "name": "python",
   "nbconvert_exporter": "python",
   "pygments_lexer": "ipython3",
   "version": "3.7.4"
  }
 },
 "nbformat": 4,
 "nbformat_minor": 2
}
