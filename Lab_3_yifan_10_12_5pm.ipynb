{
 "cells": [
  {
   "cell_type": "markdown",
   "metadata": {},
   "source": [
    "# Lab 3: Extending Logistic Regression"
   ]
  },
  {
   "cell_type": "markdown",
   "metadata": {},
   "source": [
    "By Yifan Ding"
   ]
  },
  {
   "cell_type": "markdown",
   "metadata": {},
   "source": [
    "# Preparation and Overview (30 Points Total)"
   ]
  },
  {
   "cell_type": "markdown",
   "metadata": {},
   "source": [
    "## Business Understanding (20 Points)"
   ]
  },
  {
   "cell_type": "markdown",
   "metadata": {},
   "source": [
    "This dataset, “Chess Game Dataset Lichess,” is obtained from Kaggle under the CC0: Public Domain license.  Lichess.org is a website where users can play live chess games; the information in the dataset contains information from approximately 21,000 games and includes variables such as outcome (white win, black win, or draw), chess rating for black and white, moves (which allows for a complete record of the game), and time increment.  Lichess has an API which allows for relatively easy collection of the data.\n",
    "\n",
    "Among the questions that can be explored using this dataset include: (1) “What (if any) is the white advantage given relative ratings and opening position?”, (2) “What are the best moves after a specific opening that lead to victory?”, (3) “Will this position result in a draw?”, and (4) “Who is going to win after the opening?”  The white advantage question can be answered with data visualization.  The best moves question is best answered with a chess engine such as Stockfish.  The draw question is a probability question.  \n",
    "\n",
    "For this assignment, our question is “Who is most likely to win the game after 5 moves (10 half-moves) of a chess game?”\n",
    "\n",
    "The prediction task is to predict the winner of a chess match while it is on-going.  The model will be given the metadata of the match, the type of opening, and the first ten half moves of a chess game.  The most obvious use for our data is by gambling websites to set true odds of matches or, alternatively, by individual gamblers to find attractive bets.  The “while on-going” is because many websites are starting to implement live gambling.  If this innovation comes to chess, than similar models will become necessary by gambling websites to update the true odds of who will win.  While the data was compiled on Lichess.com with its own rating system, our model could on any game where the ratings of the players come from the FIDE (International Chess Federation), USCF (United States Chess Federation), and the popular website Chess.Com as these ratings are highly correlated.  We know this because there even exists a rating comparison site, https://chessgoals.com/rating-comparison/, that can be used to convert between Lichess.com, Chess.com, FIDE, and USCF chess ratings.  Thus, if a gambler knows the maximum time of the match, a viable chess rating for black or white, and the opening ten moves—he should be able to predict who will win.  If a real-time betting site exists, he will have an idea of whether to make a bet.  Or alternatively, the gambling website will be able to update the true odds so that the website can make money.  If used, our model would be deployed for real-time analysis."
   ]
  },
  {
   "cell_type": "markdown",
   "metadata": {},
   "source": [
    "Our model would be helpful if knowing the opening ten moves, which player is white, and the time increment (how much time was allowed on the chess clock) provides useful information beyond just the rating of the player.  Using just the rating, there is a formula which predicts who should win the match.  From Wikipedia, the formula for an ELO rating system is as follows: "
   ]
  },
  {
   "cell_type": "markdown",
   "metadata": {},
   "source": [
    "$$\n",
    "P_{white} + \\frac{1}{2}P_{draw}= \\frac{1}{1+10^{\\frac{black_{rating}-white_{rating}}{400}}}\n",
    "$$"
   ]
  },
  {
   "cell_type": "markdown",
   "metadata": {},
   "source": [
    " \n",
    "Where $P_{white}$ is the probability that white will win, $P_{draw}$ is the probability of a draw, $black_{rating}$ is the rating of black under FIDE, and $white_{rating}$ is the rating of white under FIDE.  Note that the rating formula is only taken for FIDE, as FIDE uses the ELO rating formula.  The rating system for Lichess.com uses the Glicko-2 rating system.  As mentioned above, however, these rating systems are highly correlated and thus can be converted between one another with a technique like linear regression.\n",
    "\n",
    "For example, if is there a 200 point difference between two players, the higher rated player is expected to win approximately 75% of the available points ($P_{win}$ + 1/2 $P_{draw}$).  Note that this formula does not know the draw probability and does not attempt to find it. However, we can estimate the $P_{draw}$  as the sample $P_{draw}$ of 4.74%.  Plugging $P_{draw}$ into the equation we can write a formula that predicts the probability of a white win, probability of a black win, and probability of a draw based only on the rating.  "
   ]
  },
  {
   "cell_type": "markdown",
   "metadata": {},
   "source": [
    "$$\n",
    "P_{white} = \\frac{1}{1+10^{\\frac{black_{rating}-white_{rating}}{400}}}-0.024\n",
    "$$"
   ]
  },
  {
   "cell_type": "markdown",
   "metadata": {},
   "source": [
    "$$\n",
    "P_{black} = \\frac{1}{1+10^{\\frac{white_{rating}-black_{rating}}{400}}}-0.024\n",
    "$$"
   ]
  },
  {
   "cell_type": "markdown",
   "metadata": {},
   "source": [
    "$$\n",
    "P_{draw} = 0.048\n",
    "$$"
   ]
  },
  {
   "cell_type": "markdown",
   "metadata": {},
   "source": [
    "Using these three formulas, we can create a classifier that predicts $P_{white}$, $P_{black}$, and $P_{draw}$ based on which probability is larger.  Our model is trying to be better than this simple classifier. "
   ]
  },
  {
   "cell_type": "markdown",
   "metadata": {},
   "source": [
    "We can write a more sophisticated predictor for $P_{draw}$ as $P_{draw}$ depends on both the average ratings of the player and the absolute value of the difference of the ratings.  The average rating of the player is positively correlated with $P_{draw}$, while the absolute value of the difference is negatively correlated with $P_{draw}$.  The following graph is from chess-db.com which is a database which includes over eight million chess games. From the graph below, you can see that the slope is negative($P_{draw}$ decreases as the difference increases) and that higher lines have higher average ratings(better players have a higher $P_{draw}$ overall.<img src=\"draw_vs_rating.PNG\">\n",
    "\n",
    "https://chess-db.com/public/research/draw_rate.html\n",
    "\n",
    "Last, we see that Pdraw is much higher overall than it is for lichess.com.  This can probably be explained by how serious the players are taking the game—lichess.com probably has many people who are playing casually—which will result in a lower draw rate than a draw rate under different circumstances."
   ]
  },
  {
   "cell_type": "markdown",
   "metadata": {},
   "source": [
    "## Citations for Business Understanding\n",
    "\n",
    "En.wikipedia.org. (2019). Chess notation. [online] Available at: https://en.wikipedia.org/wiki/Chess_notation [Accessed 14 Sep. 2019].\n",
    "\n",
    "En.wikipedia.org. (2019). Chess rating system. [online] Available at: https://en.wikipedia.org/wiki/Chess_rating_system [Accessed 14 Sep. 2019].\n",
    "\n",
    "Chess-db.com. (2019). Draw Rate in Chess Tournaments. [online] Available at: https://chess-db.com/public/research/draw_rate.html [Accessed 14 Sep. 2019].\n",
    "\n",
    "En.wikipedia.org. (2019). Elo rating system. [online] Available at: https://en.wikipedia.org/wiki/Elo_rating_system [Accessed 14 Sep. 2019].\n",
    "\n",
    "En.wikipedia.org. (2019). First-move advantage in chess. [online] Available at: https://en.wikipedia.org/wiki/First-move_advantage_in_chess [Accessed 14 Sep. 2019].\n",
    "\n",
    "En.wikipedia.org. (2019). List of chess openings. [online] Available at: https://en.wikipedia.org/wiki/List_of_chess_openings [Accessed 14 Sep. 2019]."
   ]
  },
  {
   "cell_type": "markdown",
   "metadata": {},
   "source": [
    "# Data Understanding (5 Points Total)"
   ]
  },
  {
   "cell_type": "markdown",
   "metadata": {},
   "source": [
    "## Define Data Types"
   ]
  },
  {
   "cell_type": "markdown",
   "metadata": {},
   "source": [
    "### Reading in File"
   ]
  },
  {
   "cell_type": "code",
   "execution_count": 82,
   "metadata": {},
   "outputs": [],
   "source": [
    "# Reading Data from CSV with Pandas\n",
    "from sklearn.linear_model import LinearRegression\n",
    "import matplotlib.pyplot as plt\n",
    "import matplotlib.pylab as plt1\n",
    "from sklearn.manifold import TSNE\n",
    "import seaborn as sns\n",
    "import missingno as mn\n",
    "import pandas as pd\n",
    "import numpy as np\n",
    "import math\n",
    "from sklearn.metrics import accuracy_score\n",
    "from scipy.special import expit\n",
    "from numpy.linalg import pinv\n",
    "\n",
    "def get_csv_from_file(file):\n",
    "    '''\n",
    "    Input: file name\n",
    "    Output: csv of file\n",
    "    '''\n",
    "    with open(file) as f:\n",
    "       csv1 = pd.read_csv(f)\n",
    "    return csv1\n",
    "\n",
    "# original dataset is from https://www.kaggle.com/datasnaek/chess\n",
    "file = '/Users/yifan/Desktop/games.csv'\n",
    "chess_original = get_csv_from_file(file)\n",
    "\n",
    "chess_regression = pd.read_csv(file)\n",
    "chess_pd = pd.read_csv(file)\n",
    "chess_tsne = pd.read_csv(file) # we will add one-hot encoding to a dataframe used for TSNE\n",
    "\n",
    "def remove_feature(dataframe, feature):\n",
    "    '''\n",
    "    Input: dataframe, feature to remove\n",
    "    Output: dataframe without feature\n",
    "    '''\n",
    "    if feature in dataframe:\n",
    "        dataframe = dataframe.drop(feature, axis = 1)\n",
    "    return dataframe\n",
    "\n",
    "def add_feature(df, name, data):\n",
    "    '''\n",
    "    Input: dataframe, name of feaure, data\n",
    "    Ouput: dataframe with feature added\n",
    "    '''\n",
    "    df[name] = data\n",
    "    return df\n",
    "\n",
    "def one_hot_encode(df, name, cat_columns):\n",
    "    '''\n",
    "    Input: dataframe, name of feaure, categories of the column\n",
    "    Output: dataframe with one hot encoded feature added\n",
    "    '''\n",
    "    if name in df:\n",
    "        name = pd.get_dummies(df[name],prefix_sep='_',columns=cat_columns)\n",
    "    return name\n",
    "\n",
    "#Preview the first five lines of the data\n",
    "#chess_original.head()"
   ]
  },
  {
   "cell_type": "markdown",
   "metadata": {},
   "source": [
    "## Remove Unnecessary Variables"
   ]
  },
  {
   "cell_type": "code",
   "execution_count": 83,
   "metadata": {},
   "outputs": [
    {
     "name": "stdout",
     "output_type": "stream",
     "text": [
      "<class 'pandas.core.frame.DataFrame'>\n",
      "RangeIndex: 20058 entries, 0 to 20057\n",
      "Data columns (total 16 columns):\n",
      "id                20058 non-null object\n",
      "rated             20058 non-null bool\n",
      "created_at        20058 non-null float64\n",
      "last_move_at      20058 non-null float64\n",
      "turns             20058 non-null int64\n",
      "victory_status    20058 non-null object\n",
      "winner            20058 non-null object\n",
      "increment_code    20058 non-null object\n",
      "white_id          20058 non-null object\n",
      "white_rating      20058 non-null int64\n",
      "black_id          20058 non-null object\n",
      "black_rating      20058 non-null int64\n",
      "moves             20058 non-null object\n",
      "opening_eco       20058 non-null object\n",
      "opening_name      20058 non-null object\n",
      "opening_ply       20058 non-null int64\n",
      "dtypes: bool(1), float64(2), int64(4), object(9)\n",
      "memory usage: 2.3+ MB\n",
      "None\n"
     ]
    }
   ],
   "source": [
    "# Print Original data types\n",
    "print(chess_original.info())"
   ]
  },
  {
   "cell_type": "code",
   "execution_count": 84,
   "metadata": {},
   "outputs": [],
   "source": [
    "#We will get rid of id(id of game,white id and black id) as these names are not necessary for prediction\n",
    "chess_regression = remove_feature(chess_regression, 'id') \n",
    "chess_regression = remove_feature(chess_regression, 'white_id') \n",
    "chess_regression = remove_feature(chess_regression, 'black_id')\n",
    "\n",
    "#For 'opening_eco' and 'opening_name', We will only use 'opening_eco' and drop opening_name\n",
    "chess_regression = remove_feature(chess_regression, 'opening_name')\n",
    "\n",
    "#Created at and last move at are not known at time of prediction part-way through the game\n",
    "chess_regression = remove_feature(chess_regression, 'created_at')\n",
    "chess_regression = remove_feature(chess_regression, 'last_move_at')\n",
    "\n",
    "#victory_status not known at time of prediction\n",
    "chess_regression = remove_feature(chess_regression, 'victory_status')\n"
   ]
  },
  {
   "cell_type": "code",
   "execution_count": 85,
   "metadata": {},
   "outputs": [],
   "source": [
    "#We will get rid of id(id of game,white id and black id) as these names are not necessary for prediction\n",
    "chess_pd = remove_feature(chess_pd, 'id') \n",
    "chess_pd = remove_feature(chess_pd, 'white_id') \n",
    "chess_pd = remove_feature(chess_pd, 'black_id')\n",
    "\n",
    "chess_tsne = remove_feature(chess_tsne, 'id')\n",
    "chess_tsne = remove_feature(chess_tsne, 'white_id') \n",
    "chess_tsne = remove_feature(chess_tsne, 'black_id')\n",
    "\n",
    "#For 'opening_eco' and 'opening_name', We will only use 'opening_eco' and drop opening_name\n",
    "chess_pd = remove_feature(chess_pd, 'opening_name')\n",
    "\n",
    "chess_tsne = remove_feature(chess_tsne, 'opening_name')\n",
    "\n",
    "#chess_pd.head()  #verify features have been removed"
   ]
  },
  {
   "cell_type": "code",
   "execution_count": 86,
   "metadata": {},
   "outputs": [],
   "source": [
    "#Created at and last move at are not known at time of prediction part-way through the game\n",
    "chess_pd = remove_feature(chess_pd, 'created_at')\n",
    "chess_pd = remove_feature(chess_pd, 'last_move_at')\n",
    "\n",
    "chess_tsne = remove_feature(chess_tsne, 'created_at')\n",
    "chess_tsne = remove_feature(chess_tsne, 'last_move_at')\n",
    "#chess_pd.head()  #verify features have been removed"
   ]
  },
  {
   "cell_type": "code",
   "execution_count": 87,
   "metadata": {},
   "outputs": [],
   "source": [
    "#victory_status not known at time of prediction\n",
    "chess_pd = remove_feature(chess_pd, 'victory_status')\n",
    "chess_tsne = remove_feature(chess_tsne, 'victory_status')"
   ]
  },
  {
   "cell_type": "code",
   "execution_count": 88,
   "metadata": {},
   "outputs": [
    {
     "name": "stdout",
     "output_type": "stream",
     "text": [
      "<class 'pandas.core.frame.DataFrame'>\n",
      "RangeIndex: 20058 entries, 0 to 20057\n",
      "Data columns (total 9 columns):\n",
      "rated             20058 non-null bool\n",
      "turns             20058 non-null int64\n",
      "winner            20058 non-null object\n",
      "increment_code    20058 non-null object\n",
      "white_rating      20058 non-null int64\n",
      "black_rating      20058 non-null int64\n",
      "moves             20058 non-null object\n",
      "opening_eco       20058 non-null object\n",
      "opening_ply       20058 non-null int64\n",
      "dtypes: bool(1), int64(4), object(4)\n",
      "memory usage: 1.2+ MB\n",
      "None\n"
     ]
    }
   ],
   "source": [
    "# Verify variables have been removed from working copy\n",
    "print(chess_regression.info())"
   ]
  },
  {
   "cell_type": "code",
   "execution_count": 89,
   "metadata": {},
   "outputs": [],
   "source": [
    "#print(chess_tsne.info())"
   ]
  },
  {
   "cell_type": "markdown",
   "metadata": {},
   "source": [
    "### Rated Variable Type\n",
    "\n",
    "Rated variable: Whether the game result will affect the players' rating score. For not rated games, the result will not be recorded. The 'Rated' variable matters since the player will be more motivated to win the game. Our hypothesis is that rated games are treated seriously--so there will be fewer upsets."
   ]
  },
  {
   "cell_type": "code",
   "execution_count": 90,
   "metadata": {},
   "outputs": [
    {
     "name": "stdout",
     "output_type": "stream",
     "text": [
      "Rated should be a boolean: <class 'numpy.bool_'>\n"
     ]
    }
   ],
   "source": [
    "#From above 'rated' is a boolean. For True is a rated game while False is non-rated.\n",
    "print('Rated should be a boolean: ' + str(type(chess_regression.rated[0])))\n",
    "\n",
    "# Rated should be one-hot encoded for chess_tsne\n",
    "rated_dummy = one_hot_encode(chess_regression, 'rated' , [True, False])\n",
    "chess_regression = pd.concat([chess_regression, rated_dummy], axis=1)\n",
    "chess_regression = remove_feature(chess_regression, 'rated')\n",
    "\n",
    "\n",
    "rated_dummy = one_hot_encode(chess_pd, 'rated' , [True, False])\n",
    "chess_tsne = pd.concat([chess_tsne, rated_dummy], axis=1)\n",
    "chess_tsne = remove_feature(chess_tsne, 'rated')\n",
    "#print(chess_tsne.head())\n",
    "\n",
    "#print(chess_tsne)"
   ]
  },
  {
   "cell_type": "markdown",
   "metadata": {},
   "source": [
    "### Winner Variable Type\n",
    "Winner Variable: The winner variable represents whether the outcome of the game is a white win, black win, or a draw. Since white will move first in a chess game, white is traditionaly considered to have a small advantage over black. A draw is a tie and probbaly occurs between players with similar ratings. This is the feature that we are trying to predict: White, Black, or Draw.  This is a categorical variable that will be represented by integers."
   ]
  },
  {
   "cell_type": "code",
   "execution_count": 91,
   "metadata": {},
   "outputs": [
    {
     "name": "stdout",
     "output_type": "stream",
     "text": [
      "Original data type is a string: <class 'str'>\n",
      "New data type is category: <class 'str'>\n",
      "   turns increment_code  white_rating  black_rating  \\\n",
      "0     13           15+2          1500          1191   \n",
      "1     16           5+10          1322          1261   \n",
      "2     61           5+10          1496          1500   \n",
      "3     61           20+0          1439          1454   \n",
      "4     95           30+3          1523          1469   \n",
      "\n",
      "                                               moves opening_eco  opening_ply  \\\n",
      "0  d4 d5 c4 c6 cxd5 e6 dxe6 fxe6 Nf3 Bb4+ Nc3 Ba5...         D10            5   \n",
      "1  d4 Nc6 e4 e5 f4 f6 dxe5 fxe5 fxe5 Nxe5 Qd4 Nc6...         B00            4   \n",
      "2  e4 e5 d3 d6 Be3 c6 Be2 b5 Nd2 a5 a4 c5 axb5 Nc...         C20            3   \n",
      "3  d4 d5 Nf3 Bf5 Nc3 Nf6 Bf4 Ng4 e3 Nc6 Be2 Qd7 O...         D02            3   \n",
      "4  e4 e5 Nf3 d6 d4 Nc6 d5 Nb4 a3 Na6 Nc3 Be7 b4 N...         C41            5   \n",
      "\n",
      "   False  True  black  draw  white  \n",
      "0      1     0      0     0      1  \n",
      "1      0     1      1     0      0  \n",
      "2      0     1      0     0      1  \n",
      "3      0     1      0     0      1  \n",
      "4      0     1      0     0      1  \n"
     ]
    }
   ],
   "source": [
    "###From above the winner is a categorical\n",
    "print('Original data type is a string: ' + str(type(chess_pd.winner[0]))) #Str\n",
    "\n",
    "#So convert to categorical\n",
    "chess_pd.winner = pd.Categorical(chess_pd.winner)\n",
    "\n",
    "#check if it is categorical\n",
    "print('New data type is category: ' + str(type(chess_pd.winner[0]))) \n",
    "\n",
    "# Winner should be one-hot encoded for chess_tsne \n",
    "\n",
    "#chess_tsne=add_feature(chess_tsne, pd.get_dummies(chess_pd.winner,prefix_sep=\"_\",columns=cat_columns))\n",
    "#print(chess_tsne)\n",
    "\n",
    "cat_columns=[\"white\",\"black\",\"draw\"]\n",
    "winner_dummy = one_hot_encode(chess_pd, 'winner' , cat_columns)\n",
    "chess_tsne = pd.concat([chess_tsne, winner_dummy], axis=1)\n",
    "chess_tsne = remove_feature(chess_tsne, 'winner')\n",
    "print(chess_tsne.head())"
   ]
  },
  {
   "cell_type": "markdown",
   "metadata": {},
   "source": [
    "### White Rating Variable Type\n",
    "White Rating Variable: The White Rating variable is a rating score that reflects the performance of a player when playing in rated chess games versus other players. It is an estimate of a person's tournament playing strength. A higher Rating Variable means the player usually have a better performance. Obviously, this variable will be correlated with the outcome."
   ]
  },
  {
   "cell_type": "code",
   "execution_count": 92,
   "metadata": {},
   "outputs": [
    {
     "name": "stdout",
     "output_type": "stream",
     "text": [
      "White Rating is an integer: <class 'numpy.int64'>\n"
     ]
    }
   ],
   "source": [
    "###From above the White Rating is a ordinal\n",
    "print('White Rating is an integer: ' + str(type(chess_pd.white_rating[0]))) "
   ]
  },
  {
   "cell_type": "markdown",
   "metadata": {},
   "source": [
    "### Black Rating Variable Type\n",
    "Black Rating Variable: The Black Rating variable is a rating score that reflects the performance of a player when playing in rated chess games versus other players. It is an estimate of a person's tournament playing strength. A higher Rating Variable means the player usually have a better performance. Obviously, this variable will be correlated with the outcome."
   ]
  },
  {
   "cell_type": "code",
   "execution_count": 93,
   "metadata": {},
   "outputs": [
    {
     "name": "stdout",
     "output_type": "stream",
     "text": [
      "Black rating is an integer: <class 'numpy.int64'>\n"
     ]
    }
   ],
   "source": [
    "###From above the Black Rating is a ordinal\n",
    "print('Black rating is an integer: ' + str(type(chess_pd.black_rating[0]))) "
   ]
  },
  {
   "cell_type": "markdown",
   "metadata": {},
   "source": [
    "### First 10 Moves\n",
    "Moves- First 10 moves variable: This variable consistes of a list of strings that records the first ten moves of a game. Our prediction is to predict the outcome after the first ten moves. "
   ]
  },
  {
   "cell_type": "code",
   "execution_count": 94,
   "metadata": {},
   "outputs": [],
   "source": [
    "#To Use moves, we would use the first ten moves to predict the win and lose\n",
    "total_moves = chess_pd.moves\n",
    "\n",
    "def moves():\n",
    "    '''\n",
    "    Input: none\n",
    "    Output a list of moves\n",
    "    '''\n",
    "    move_record=[]\n",
    "    count=0\n",
    "    for count in range(len(total_moves)):\n",
    "        move_split=total_moves[count].split(\" \")\n",
    "        move_record.append(move_split)\n",
    "    return np.array(move_record)"
   ]
  },
  {
   "cell_type": "code",
   "execution_count": 95,
   "metadata": {},
   "outputs": [],
   "source": [
    "def number_of_moves(all_moves, x):\n",
    "    '''\n",
    "    Input:\n",
    "    moves_list is the list of moves as string\n",
    "    x is number of moves you want to keep\n",
    "    Output: list of moves up to x\n",
    "    '''\n",
    "    moves_given = []\n",
    "    for idx, all_moves in enumerate(all_moves):\n",
    "        # Output up to x\n",
    "        if len(all_moves) > x :\n",
    "            moves_given.append(all_moves[0:x])\n",
    "        # Output entire game\n",
    "        else:\n",
    "            moves_given.append(all_moves)\n",
    "    return moves_given\n",
    "\n",
    "move_list = moves()\n",
    "#print(move_list)\n",
    "ten_moves = number_of_moves(move_list, 10)\n",
    "#print(ten_moves)"
   ]
  },
  {
   "cell_type": "markdown",
   "metadata": {},
   "source": [
    "### Add ten moves to dataframe"
   ]
  },
  {
   "cell_type": "code",
   "execution_count": 96,
   "metadata": {},
   "outputs": [],
   "source": [
    "chess_pd = add_feature(chess_pd, 'ten_moves', ten_moves)"
   ]
  },
  {
   "cell_type": "code",
   "execution_count": 97,
   "metadata": {},
   "outputs": [
    {
     "name": "stdout",
     "output_type": "stream",
     "text": [
      "Moves is a list of strings: <class 'list'> <class 'str'>\n"
     ]
    }
   ],
   "source": [
    "###From above the moves is a list of strings\n",
    "outer_object = str(type(chess_pd.ten_moves[0]))\n",
    "inner_object = str(type(chess_pd.ten_moves[0][0]))\n",
    "\n",
    "print('Moves is a list of strings: ' + outer_object + ' ' + inner_object) "
   ]
  },
  {
   "cell_type": "markdown",
   "metadata": {},
   "source": [
    "### Remove all moves from TSNE"
   ]
  },
  {
   "cell_type": "code",
   "execution_count": 98,
   "metadata": {},
   "outputs": [],
   "source": [
    "chess_tsne = remove_feature(chess_tsne, 'moves')\n",
    "chess_regression = remove_feature(chess_regression, 'moves')"
   ]
  },
  {
   "cell_type": "markdown",
   "metadata": {},
   "source": [
    "### Opening_eco\n",
    "Opening_eco variable: This variable corresponds with a specific kind of the opening for a chess game. We will skip the opening_name since the opening eco is a classification of the opening name. There are 365 different types of openings in the sample of 20,058 games.  There are three portions of a chess game: the opening, the midgame, and the endgame. There exists a field of study that is just opening plays in a chess game and at the higher levels of chess these openings are scripted.  Furthermore, some openings are open and some are closed and it is quite probable that closed openings result in more draws than dynamic openings. \n"
   ]
  },
  {
   "cell_type": "code",
   "execution_count": 99,
   "metadata": {},
   "outputs": [
    {
     "name": "stdout",
     "output_type": "stream",
     "text": [
      "opening_eco is a string: <class 'str'>\n"
     ]
    }
   ],
   "source": [
    "###From above the Opening_eco is a categorical, but we cannot one hot encoding because there are too many types\n",
    "print('opening_eco is a string: ' +  str(type(chess_pd.opening_eco[0])))\n",
    "\n",
    "# remove from chess_tsne as 365 is too large for opening eco\n",
    "chess_regression = remove_feature(chess_regression, 'opening_eco')\n",
    "chess_tsne = remove_feature(chess_tsne, 'opening_eco')"
   ]
  },
  {
   "cell_type": "markdown",
   "metadata": {},
   "source": [
    "## Feature Engineering"
   ]
  },
  {
   "cell_type": "markdown",
   "metadata": {},
   "source": [
    "### Classify Openings as one of five Types:\n",
    "A: Flank Openings\n",
    "\n",
    "B: Semi-Open Games\n",
    "\n",
    "C: Open Games and French Defence\n",
    "\n",
    "D: Closed Games and Semi-Closed Games\n",
    "\n",
    "E: Indian Defence\n",
    "\n",
    "Since there are five different kinds of openings, we will use [A, B, C, D, E] instead of the original categories of the opening_eco.  This categorical variable will be used for visualization and potentially as an input into a ML algorithm.\n",
    "\n",
    "######  Classifications are the same as those described in the \"List of Chess Openings\" on Wikipedia"
   ]
  },
  {
   "cell_type": "code",
   "execution_count": 100,
   "metadata": {},
   "outputs": [
    {
     "name": "stdout",
     "output_type": "stream",
     "text": [
      "There are 365 openings\n"
     ]
    }
   ],
   "source": [
    "#For opening moves, we will only use ABCDE to classify it\n",
    "\n",
    "def count_all_opening(opening_codes):\n",
    "    '''\n",
    "    Input: The opening type of the game\n",
    "    Output: Count the number of opening types\n",
    "    '''\n",
    "    opening_dict = {}\n",
    "    for opening in opening_codes:\n",
    "        if opening in opening_dict:\n",
    "            opening_dict[opening] += 1\n",
    "        else:\n",
    "            opening_dict[opening] = 1\n",
    "    return len(opening_dict.keys())\n",
    "\n",
    "count_opening = count_all_opening(chess_pd['opening_eco'])\n",
    "print('There are ' + str(count_opening) + ' openings')"
   ]
  },
  {
   "cell_type": "code",
   "execution_count": 101,
   "metadata": {},
   "outputs": [],
   "source": [
    "def classify_opening_moves(dataframe,opening_eco):\n",
    "    '''\n",
    "    Input: the dataframe you use and the opening type of the game\n",
    "    Output: The opening type with only ABCDE cla\n",
    "    '''\n",
    "    opening_class = []\n",
    "    for opening in dataframe.opening_eco:\n",
    "        opening_class.append(opening[0])       \n",
    "    return opening_class\n",
    "\n",
    "opening_category = classify_opening_moves(chess_pd, 'opening_eco')"
   ]
  },
  {
   "cell_type": "markdown",
   "metadata": {},
   "source": [
    "### Add opening_category"
   ]
  },
  {
   "cell_type": "code",
   "execution_count": 102,
   "metadata": {},
   "outputs": [],
   "source": [
    "chess_regression = add_feature(chess_regression, 'opening_category', opening_category)\n",
    "\n",
    "chess_pd = add_feature(chess_pd, 'opening_category', opening_category) \n",
    "chess_tsne = add_feature(chess_tsne, 'opening_category', opening_category)\n"
   ]
  },
  {
   "cell_type": "code",
   "execution_count": 103,
   "metadata": {},
   "outputs": [
    {
     "name": "stdout",
     "output_type": "stream",
     "text": [
      "opening_category is a string: <class 'str'>\n"
     ]
    }
   ],
   "source": [
    "# opening category is of type string\n",
    "print('opening_category is a string: ' +  str(type(chess_pd.opening_category[0])))\n",
    "\n",
    "# add opening category to chess_tsne\n",
    "cat_columns=[\"A\",\"B\",\"C\", 'D', 'E']\n",
    "winner_dummy = one_hot_encode(chess_tsne, 'opening_category' , cat_columns)\n",
    "chess_tsne = pd.concat([chess_tsne, winner_dummy], axis=1)\n",
    "chess_tsne = remove_feature(chess_tsne, 'opening_category')\n",
    "\n",
    "# add opening category to chess_regression\n",
    "cat_columns=[\"A\",\"B\",\"C\", 'D', 'E']\n",
    "winner_dummy = one_hot_encode(chess_regression, 'opening_category' , cat_columns)\n",
    "chess_regression = pd.concat([chess_regression, winner_dummy], axis=1)\n",
    "chess_regression = remove_feature(chess_regression, 'opening_category')\n",
    "#print(chess_tsne.head())"
   ]
  },
  {
   "cell_type": "markdown",
   "metadata": {},
   "source": [
    "### Create a Base, Increment, Maxtime\n",
    "\n",
    "Increment code: In the form of XX+YY where XX is number in minutes and YY is the increment in seconds.  \n",
    "Base: The amount of time in minutes that is on the chess clock. We will use an integer.\n",
    "Increment: The seconds added to chess clock after each move. We wil use an integer.\n",
    "\n",
    "In order to normalize the above data into one variable that can be visualized and potentially used by the ML algorithm, we combine Base and Increment into a new variable 'Maxtime.'  A chess clock is used to add stress and, in some sense, puts a maximum time on the chess match.  Thus, we can find the maximum time for the average chess match by the following equation:  \n",
    "\n",
    "$$Maxtime = Base + \\frac{mean(turns)*Increment}{60}$$\n",
    "\n",
    "For Maxtime we will use a float."
   ]
  },
  {
   "cell_type": "code",
   "execution_count": 104,
   "metadata": {},
   "outputs": [
    {
     "name": "stdout",
     "output_type": "stream",
     "text": [
      "base is an integer: <class 'numpy.int64'>\n"
     ]
    }
   ],
   "source": [
    "def get_base(increment_code):\n",
    "    '''\n",
    "    input:increment_code\n",
    "    output:base\n",
    "    '''\n",
    "    base = []\n",
    "    for clock in increment_code:\n",
    "        minutes, seconds = clock.split(\"+\")\n",
    "        base.append(int(minutes))\n",
    "    return base\n",
    "\n",
    "base = get_base(chess_pd.increment_code)\n",
    "\n",
    "chess_regression = add_feature(chess_regression, 'base', base)\n",
    "chess_pd = add_feature(chess_pd,'base',base)\n",
    "chess_tsne = add_feature(chess_tsne, 'base', base)\n",
    "\n",
    "# Base is a category of type string\n",
    "print('base is an integer: ' +  str(type(chess_pd.base[0])))"
   ]
  },
  {
   "cell_type": "code",
   "execution_count": 105,
   "metadata": {},
   "outputs": [
    {
     "name": "stdout",
     "output_type": "stream",
     "text": [
      "base is an integer: <class 'numpy.int64'>\n"
     ]
    }
   ],
   "source": [
    "def get_increment(increment_code):\n",
    "    '''\n",
    "    input:increment_code\n",
    "    output:increment\n",
    "    '''\n",
    "    increment = []\n",
    "    for clock in increment_code:\n",
    "        minutes, seconds = clock.split(\"+\")\n",
    "        increment.append(int(seconds))\n",
    "    return increment\n",
    "\n",
    "increment = get_increment(chess_pd.increment_code)\n",
    "increment = get_increment(chess_regression.increment_code)\n",
    "\n",
    "chess_regression = add_feature(chess_regression, 'increment', increment)\n",
    "chess_pd = add_feature(chess_pd,'increment',increment)\n",
    "chess_tsne = add_feature(chess_tsne, 'increment', increment)\n",
    "\n",
    "# Increment is a category of type integer\n",
    "print('base is an integer: ' +  str(type(chess_pd.increment[0])))"
   ]
  },
  {
   "cell_type": "code",
   "execution_count": 106,
   "metadata": {},
   "outputs": [
    {
     "name": "stdout",
     "output_type": "stream",
     "text": [
      "The number of turns of maxtime is 60 moves.\n",
      " is a int: <class 'numpy.int64'>\n"
     ]
    }
   ],
   "source": [
    "#import math\n",
    "def get_maxtime(base, increment, num_turns):\n",
    "    '''\n",
    "    input:base,increment and the number of turns\n",
    "    output:maxtime\n",
    "    '''\n",
    "    maxtime = []\n",
    "    for idx, val in enumerate(base):\n",
    "        maxtime_val = base[idx] + num_turns*increment[idx]/60\n",
    "        maxtime_val = math.floor(maxtime_val)\n",
    "        maxtime.append(maxtime_val)\n",
    "\n",
    "    #Retain 1 decimal for maxtime\n",
    "    #maxtime = list(math.floor((np.array(maxtime),1)))\n",
    "    return maxtime\n",
    "\n",
    "mean_turns = int(np.round(np.mean(chess_original.turns)))\n",
    "print('The number of turns of maxtime is ' + str(mean_turns) + ' moves.' )\n",
    "maxtime = get_maxtime(base, increment, mean_turns)\n",
    "\n",
    "#Add max_time to dataframe\n",
    "chess_pd = add_feature(chess_pd,'maxtime',maxtime)\n",
    "\n",
    "# make maxtime integer\n",
    "chess_tsne = add_feature(chess_tsne, 'maxtime', maxtime)\n",
    "\n",
    "chess_regression = add_feature(chess_regression, 'maxtime', maxtime)\n",
    "# Maxtime is a category of type float\n",
    "print(' is a int: ' +  str(type(chess_pd.maxtime[0])))"
   ]
  },
  {
   "cell_type": "markdown",
   "metadata": {},
   "source": [
    "### Remove Increment code from TSNEm Turns"
   ]
  },
  {
   "cell_type": "code",
   "execution_count": 107,
   "metadata": {},
   "outputs": [],
   "source": [
    "chess_tsne = remove_feature(chess_tsne, 'increment_code')\n",
    "chess_regression = remove_feature(chess_regression, 'increment_code')"
   ]
  },
  {
   "cell_type": "markdown",
   "metadata": {},
   "source": [
    "### Create FIDE Linear Regression \n",
    "To find the ratings-only classifier, it is first necessary to convert to FIDE from Lichess.com.  This is because the formul relies on ELO which is used by FIDE but not Lichess.com. In this case, however, it is unnecessary to find the FIDE rating because the Classification predicter collapses to simply predicting white if the white rating is larger and black if black rating is larger.  This is largely because $P_{draw}$ is so small.  Otherwise, there would be a possibility of $P_{draw}$ if black rating and white rating were close together.  Nevertheless, we have included the linear regression below that would find the FIDE rating. However, we will not use this data elsewhere in the assignment."
   ]
  },
  {
   "cell_type": "markdown",
   "metadata": {},
   "source": [
    "### Import Data (manually copy table data)"
   ]
  },
  {
   "cell_type": "code",
   "execution_count": 108,
   "metadata": {},
   "outputs": [],
   "source": [
    "# Data copied from https://chessgoals.com/rating-comparison/\n",
    "lichess_bullett = [1335, 1355, 1380, 1405, 1430, 1455, 1485, 1520, \\\n",
    "                   1550, 1585, 1620, 1660, 1700, 1740, 1785, 1830, \\\n",
    "                   1875, 1925, 1975, 2025, 2080, 2135, 2190, 2245, 2305]\n",
    "\n",
    "FIDE =            [1370, 1380, 1390, 1405, 1425, 1440, 1460, 1480, \\\n",
    "                   1500, 1525, 1550, 1575, 1605, 1635, 1665, 1695, \\\n",
    "                   1730, 1765, 1800, 1840, 1880, 1920, 1965, 2010, 2055]"
   ]
  },
  {
   "cell_type": "markdown",
   "metadata": {},
   "source": [
    "### Create Linear Regression"
   ]
  },
  {
   "cell_type": "code",
   "execution_count": 109,
   "metadata": {},
   "outputs": [
    {
     "name": "stdout",
     "output_type": "stream",
     "text": [
      "Mean Square Error is: 55.43846284030775\n",
      "Model Coefficients are: [0.         0.70834372]\n",
      "Model Intercept is: 407.5318911749589\n"
     ]
    }
   ],
   "source": [
    "#from sklearn.linear_model import LinearRegression\n",
    "\n",
    "# Create numpy arrays\n",
    "lichess_bullett = np.asmatrix(lichess_bullett)\n",
    "lichess_bullett = np.transpose(lichess_bullett)\n",
    "FIDE = np.asarray(FIDE)\n",
    "\n",
    "# Add bias column of 1's to X\n",
    "X = lichess_bullett\n",
    "X_bias = np.hstack((np.ones((len(X),1)), X))\n",
    "y = FIDE\n",
    "\n",
    "model = LinearRegression().fit(X_bias,y)\n",
    "FIDE_hat = model.predict(X_bias)\n",
    "mse = np.square(np.subtract(FIDE, FIDE_hat)).mean()\n",
    "\n",
    "print('Mean Square Error is: ' + str(mse))\n",
    "print('Model Coefficients are: ' + str(model.coef_))\n",
    "print('Model Intercept is: ' + str(model.intercept_))"
   ]
  },
  {
   "cell_type": "code",
   "execution_count": 110,
   "metadata": {},
   "outputs": [
    {
     "data": {
      "text/plain": [
       "<matplotlib.legend.Legend at 0x1a313880f0>"
      ]
     },
     "execution_count": 110,
     "metadata": {},
     "output_type": "execute_result"
    },
    {
     "data": {
      "image/png": "[encoded data removed]",
      "text/plain": [
       "<Figure size 432x288 with 1 Axes>"
      ]
     },
     "metadata": {},
     "output_type": "display_data"
    }
   ],
   "source": [
    "#import matplotlib.pyplot as plt\n",
    "plt.plot(X, y, 'o',color='blue',label=\"FIDE\")\n",
    "plt.plot(X, FIDE_hat, '-k',color='gray',label=\"Linear Regression\")\n",
    "plt.title(\"FIDE Rating vs Lichess.com Rating\")\n",
    "plt.xlabel(\"Lichess.com Rating\")\n",
    "plt.ylabel(\"FIDE Rating\")\n",
    "plt.legend(loc=4)"
   ]
  },
  {
   "cell_type": "markdown",
   "metadata": {},
   "source": [
    "### Create and Add Rating Difference\n",
    "From the formula that we see that there is a difference in the absolute value, so we should use the difference to measure the rating. For Rating_Difference = white_rating - black_rating."
   ]
  },
  {
   "cell_type": "code",
   "execution_count": 111,
   "metadata": {},
   "outputs": [
    {
     "name": "stdout",
     "output_type": "stream",
     "text": [
      "Rating_Difference is an integer: <class 'numpy.int64'>\n"
     ]
    }
   ],
   "source": [
    "rating_difference = chess_pd.white_rating - chess_pd.black_rating\n",
    "chess_pd = add_feature(chess_pd,'Rating_Difference',rating_difference)\n",
    "\n",
    "chess_regression = add_feature(chess_regression, 'rating_difference', rating_difference)\n",
    "\n",
    "# Rating_Difference is a category of type integer\n",
    "print('Rating_Difference is an integer: ' +  str(type(chess_pd.Rating_Difference[0])))"
   ]
  },
  {
   "cell_type": "markdown",
   "metadata": {},
   "source": [
    "### Create Ratings Only Classification Predicter\n",
    "\n",
    "As mentioned in the introduction, there is a simple predicter that only takes consideration of black rating and white rating.  We will now define the predicter in code as follows to find the accuracy.\n",
    "\n"
   ]
  },
  {
   "cell_type": "code",
   "execution_count": 112,
   "metadata": {},
   "outputs": [
    {
     "name": "stdout",
     "output_type": "stream",
     "text": [
      "The accuracy of the ratings-only classifier is: 0.6205504038288961\n"
     ]
    }
   ],
   "source": [
    "def p_draw(white_rating, black_rating):\n",
    "    '''\n",
    "    Input: white_rating, black_rating\n",
    "    Output: 0.048\n",
    "    '''\n",
    "    # In theory, p_draw is a function of white rating and black rating\n",
    "    # For this assignment, however, we will have p_draw as sample draw rate\n",
    "    return 0.048\n",
    "\n",
    "def p_white(white_rating, black_rating):\n",
    "    '''\n",
    "    Input: white_rating, black_rating\n",
    "    Output: Probability of white\n",
    "    '''\n",
    "    denominator = 1.0+10.0**((black_rating-white_rating)/400.0)\n",
    "    p_white = 1.0/denominator - p_draw(white_rating, black_rating)/2.0\n",
    "    return p_white\n",
    "\n",
    "def p_black(white_rating, black_rating):\n",
    "    '''\n",
    "    Input: white_rating, black_rating\n",
    "    Output: Probability of black wins\n",
    "    '''\n",
    "    denominator = 1.0+10.0**((white_rating-black_rating)/400.0)\n",
    "    p_black = 1.0/denominator - p_draw(white_rating, black_rating)/2.0\n",
    "    return p_black\n",
    "\n",
    "\n",
    "def get_prediction(pwhite, pblack, pdraw):\n",
    "    '''\n",
    "    Input: probability of white will win, black will win, or draw\n",
    "    Output: data type of largest probability (white, black, or draw)\n",
    "    '''\n",
    "    #prediction = []\n",
    "    if (pwhite >= pblack) and (pwhite >= pdraw):\n",
    "        return 'white'\n",
    "    elif (pblack >= pwhite) and (pblack >= pdraw):\n",
    "        return 'black'\n",
    "    else:\n",
    "        return 'draw'\n",
    "    return prediction\n",
    "\n",
    "    \n",
    "def get_simple_prediction(white_rating, black_rating):\n",
    "    '''\n",
    "    Input: list of white rating, list of black rating, probability of draw,\n",
    "    actual outcome\n",
    "    Output: list of simple predictions\n",
    "    '''\n",
    "    simple_prediction = []\n",
    "    for i ,val in enumerate(white_rating):\n",
    "        pwhite = p_white(white_rating[i], black_rating[i])\n",
    "        pblack = p_black(white_rating[i], black_rating[i])\n",
    "        pdraw = p_draw(white_rating[i], black_rating[i])\n",
    "        \n",
    "        predict = get_prediction(pwhite, pblack, pdraw)\n",
    "        simple_prediction.append(predict)\n",
    "    return simple_prediction\n",
    "        \n",
    "def get_accuracy(prediction, actual):\n",
    "    '''\n",
    "    Input: list of predictions, list of outcomes\n",
    "    Output: accuracy in decimal\n",
    "    '''\n",
    "    num_correct = 0\n",
    "    num_total = 0\n",
    "    for idx, val in enumerate(prediction):\n",
    "        if prediction[idx] == actual[idx]:\n",
    "            num_correct += 1\n",
    "            num_total += 1\n",
    "        else:\n",
    "            num_total += 1\n",
    "    return num_correct / num_total\n",
    "    \n",
    "simple_prediction = get_simple_prediction(chess_pd.white_rating, chess_pd.black_rating)\n",
    "simple_accuracy = get_accuracy(simple_prediction, chess_pd.winner)\n",
    "\n",
    "print('The accuracy of the ratings-only classifier is: ' + str(simple_accuracy))"
   ]
  },
  {
   "cell_type": "markdown",
   "metadata": {},
   "source": [
    "### Add Ratings Only Classifier Predictions\n"
   ]
  },
  {
   "cell_type": "code",
   "execution_count": 113,
   "metadata": {},
   "outputs": [
    {
     "name": "stdout",
     "output_type": "stream",
     "text": [
      "Ratings_Only_Prediction is a string: <class 'str'>\n"
     ]
    }
   ],
   "source": [
    "chess_pd = add_feature(chess_pd,'Ratings_Only_Prediction', simple_prediction)\n",
    "\n",
    "# Don't add ratings only classifier to tsne\n",
    "print('Ratings_Only_Prediction is a string: ' +  str(type(chess_pd.Ratings_Only_Prediction[0])))"
   ]
  },
  {
   "cell_type": "markdown",
   "metadata": {},
   "source": [
    "## Data Quality"
   ]
  },
  {
   "cell_type": "markdown",
   "metadata": {},
   "source": [
    "### Filter out Turns less than 10\n",
    "\n",
    "If the game has less than 10 turns, it will end after 10 moves. Since we want to predict the result after first 10 moves, we have to filter out turns that less than 10."
   ]
  },
  {
   "cell_type": "code",
   "execution_count": 114,
   "metadata": {},
   "outputs": [
    {
     "name": "stdout",
     "output_type": "stream",
     "text": [
      "Original number of games: 20058\n",
      "New number of games: 19377\n"
     ]
    }
   ],
   "source": [
    "def filter_short_games(df, name, num_turns):\n",
    "    '''\n",
    "    Input:dataframe, name of feature turns, number of turns \n",
    "    Output: dataframe, number of turns less than 10\n",
    "    '''\n",
    "    df = df[df[name] > num_turns]\n",
    "    return df\n",
    "\n",
    "chess_pd = filter_short_games(chess_pd, 'turns', 10)\n",
    "chess_tsne = filter_short_games(chess_tsne, 'turns', 10)\n",
    "chess_tsne = remove_feature(chess_tsne, 'turns')\n",
    "\n",
    "print('Original number of games: ' + str(len(chess_original.rated)))\n",
    "print('New number of games: ' + str(len(chess_pd.rated)))"
   ]
  },
  {
   "cell_type": "markdown",
   "metadata": {},
   "source": [
    "### Filter out Openings longer than 10\n",
    "\n",
    "If the opening is longer than 10 moves, it may not be possible to classify.  Also, the scripted opening may not provide any value to the ML algorithm. Thus as a precuation, we will filter out all games where the opening lasts longer than the given input.\n"
   ]
  },
  {
   "cell_type": "code",
   "execution_count": 115,
   "metadata": {},
   "outputs": [
    {
     "name": "stdout",
     "output_type": "stream",
     "text": [
      "Original number of games: 20058\n",
      "New number of games: 18047\n",
      "New number of games: 18047\n"
     ]
    }
   ],
   "source": [
    "def filter_long_opening(df, name, num_turns):\n",
    "    '''\n",
    "    Input:dataframe,number of turns \n",
    "    Output: dataframe, number of turns less than 10\n",
    "    '''\n",
    "    df = df[df[name]<num_turns]\n",
    "    return df\n",
    "\n",
    "#chess_pd = chess_pd[-chess_pd['opening_ply']>10]\n",
    "chess_pd = filter_long_opening(chess_pd, 'opening_ply', 10) \n",
    "chess_tsne = filter_long_opening(chess_tsne, 'opening_ply', 10)\n",
    "print('Original number of games: ' + str(len(chess_original.rated)))\n",
    "print('New number of games: ' + str(len(chess_pd.rated)))\n",
    "print('New number of games: ' + str(len(chess_tsne.white_rating)))"
   ]
  },
  {
   "cell_type": "code",
   "execution_count": 116,
   "metadata": {},
   "outputs": [
    {
     "name": "stdout",
     "output_type": "stream",
     "text": [
      "Series([], Name: opening_ply, dtype: int64)\n"
     ]
    }
   ],
   "source": [
    "chess_pd_2 = chess_pd[chess_pd['opening_ply'] > 10]\n",
    "print(chess_pd_2['opening_ply'])\n",
    "#print(count_all_opening(chess_pd_2['ten_moves']))"
   ]
  },
  {
   "cell_type": "markdown",
   "metadata": {},
   "source": [
    "### Examine Missing Data using Missingno\n"
   ]
  },
  {
   "cell_type": "code",
   "execution_count": 117,
   "metadata": {},
   "outputs": [
    {
     "data": {
      "text/plain": [
       "<matplotlib.axes._subplots.AxesSubplot at 0x1a20f71be0>"
      ]
     },
     "execution_count": 117,
     "metadata": {},
     "output_type": "execute_result"
    },
    {
     "data": {
      "image/png": "[encoded data removed]",
      "text/plain": [
       "<Figure size 1800x720 with 2 Axes>"
      ]
     },
     "metadata": {},
     "output_type": "display_data"
    }
   ],
   "source": [
    "# This code is taken from course notebook \n",
    "#import missingno as mn\n",
    "mn.matrix(chess_original.sort_values(by=[\"id\",]))"
   ]
  },
  {
   "cell_type": "markdown",
   "metadata": {},
   "source": [
    "To understand the data, the first thing to do would be to check whether there is any \"NA\" in the dataset. Based on the plot above, there is no missing value in the data, which is ideal for analysis."
   ]
  },
  {
   "cell_type": "markdown",
   "metadata": {},
   "source": [
    "### Add 10 Moves Separately to TSNE dataframe for visualization"
   ]
  },
  {
   "cell_type": "code",
   "execution_count": 118,
   "metadata": {},
   "outputs": [],
   "source": [
    "def get_move_titles(move_list, idx):\n",
    "    unique_game_openings_title=[]\n",
    "    unique= np.unique(move_list)\n",
    "    for game_num in range(len(unique)):\n",
    "        name = str(game_num)\n",
    "        name = idx + name\n",
    "        unique_game_openings_title.append(name)\n",
    "    return unique_game_openings_title\n",
    "\n",
    "ten_moves = chess_pd.ten_moves\n",
    "\n",
    "def get_x_move(move_list, num_move):\n",
    "    move = []\n",
    "    for game in move_list:\n",
    "        move.append(game[num_move])\n",
    "    return move\n",
    "\n",
    "first = get_x_move(ten_moves, 0)\n",
    "#print(first)\n",
    "second = get_x_move(ten_moves, 1)\n",
    "#print(second)\n",
    "third = get_x_move(ten_moves, 2)\n",
    "fourth = get_x_move(ten_moves, 3)\n",
    "fifth = get_x_move(ten_moves, 4)\n",
    "sixth = get_x_move(ten_moves, 5)\n",
    "seventh = get_x_move(ten_moves, 6)\n",
    "eighth = get_x_move(ten_moves, 7)\n",
    "ninth = get_x_move(ten_moves, 8)\n",
    "tenth = get_x_move(ten_moves, 9)          "
   ]
  },
  {
   "cell_type": "code",
   "execution_count": 119,
   "metadata": {},
   "outputs": [
    {
     "name": "stdout",
     "output_type": "stream",
     "text": [
      "<class 'pandas.core.frame.DataFrame'>\n",
      "Int64Index: 18047 entries, 0 to 20057\n",
      "Data columns (total 16 columns):\n",
      "white_rating    18047 non-null int64\n",
      "black_rating    18047 non-null int64\n",
      "opening_ply     18047 non-null int64\n",
      "False           18047 non-null uint8\n",
      "True            18047 non-null uint8\n",
      "black           18047 non-null uint8\n",
      "draw            18047 non-null uint8\n",
      "white           18047 non-null uint8\n",
      "A               18047 non-null uint8\n",
      "B               18047 non-null uint8\n",
      "C               18047 non-null uint8\n",
      "D               18047 non-null uint8\n",
      "E               18047 non-null uint8\n",
      "base            18047 non-null int64\n",
      "increment       18047 non-null int64\n",
      "maxtime         18047 non-null int64\n",
      "dtypes: int64(6), uint8(10)\n",
      "memory usage: 1.1 MB\n",
      "None\n",
      "['Na3' 'Nc3' 'Nf3' 'Nh3' 'a3' 'a4' 'b3' 'b4' 'c3' 'c4' 'd3' 'd4' 'e3' 'e4'\n",
      " 'f3' 'f4' 'g3' 'g4' 'h3' 'h4']\n"
     ]
    }
   ],
   "source": [
    "chess_tsne_each_move = chess_tsne\n",
    "print(chess_tsne_each_move.info())\n",
    "print(np.unique(first))"
   ]
  },
  {
   "cell_type": "code",
   "execution_count": 120,
   "metadata": {},
   "outputs": [
    {
     "name": "stdout",
     "output_type": "stream",
     "text": [
      "<class 'pandas.core.frame.DataFrame'>\n",
      "Int64Index: 18047 entries, 0 to 20057\n",
      "Data columns (total 16 columns):\n",
      "white_rating    18047 non-null int64\n",
      "black_rating    18047 non-null int64\n",
      "opening_ply     18047 non-null int64\n",
      "False           18047 non-null uint8\n",
      "True            18047 non-null uint8\n",
      "black           18047 non-null uint8\n",
      "draw            18047 non-null uint8\n",
      "white           18047 non-null uint8\n",
      "A               18047 non-null uint8\n",
      "B               18047 non-null uint8\n",
      "C               18047 non-null uint8\n",
      "D               18047 non-null uint8\n",
      "E               18047 non-null uint8\n",
      "base            18047 non-null int64\n",
      "increment       18047 non-null int64\n",
      "maxtime         18047 non-null int64\n",
      "dtypes: int64(6), uint8(10)\n",
      "memory usage: 1.1 MB\n",
      "None\n"
     ]
    }
   ],
   "source": [
    "# one hot encode for each move\n",
    "one_hot_encode(chess_tsne_each_move,\"first\",get_move_titles(first, '1'))\n",
    "#print(chess_tsne_each_move)\n",
    "one_hot_encode(chess_tsne_each_move,\"second\",get_move_titles(second, '2'))\n",
    "one_hot_encode(chess_tsne_each_move,\"third\",get_move_titles(third, '3'))\n",
    "one_hot_encode(chess_tsne_each_move,\"fourth\",get_move_titles(fourth, '4'))\n",
    "one_hot_encode(chess_tsne_each_move,\"fifth\",get_move_titles(fifth, '5'))\n",
    "one_hot_encode(chess_tsne_each_move,\"sixth\",get_move_titles(sixth, '6'))\n",
    "one_hot_encode(chess_tsne_each_move,\"seventh\",get_move_titles(seventh, '7'))\n",
    "one_hot_encode(chess_tsne_each_move,\"eighth\",get_move_titles(eighth, '8'))\n",
    "one_hot_encode(chess_tsne_each_move,\"ninth\",get_move_titles(ninth, '9'))\n",
    "one_hot_encode(chess_tsne_each_move,\"tenth\",get_move_titles(tenth, '10'))\n",
    "\n",
    "#print(len(unique_game_openings_title)) \n",
    "print(chess_tsne_each_move.info())"
   ]
  },
  {
   "cell_type": "markdown",
   "metadata": {},
   "source": [
    "# NEW FOR LAB 3"
   ]
  },
  {
   "cell_type": "markdown",
   "metadata": {},
   "source": [
    "# ADD SCORE OF TEN MOVES\n",
    "\n",
    "In order to better understand who is curently winning the game, we will use a chess engine, Stockfish, to tell who is currently winning the game.  By importing stockfish and giving it the moves, Stockfish should be able to give us a positive score if white is winning and a negative score if black is winning-with the value of 1 equivalent to 1 pawn ahead. In chess, a pawn is traditionally worth 1 point, bishops and knights 3 points, rooks 5 points, and queen 9 points. For Stockfish, a positive number is good for white, while a negative number is good for black"
   ]
  },
  {
   "cell_type": "code",
   "execution_count": 123,
   "metadata": {},
   "outputs": [],
   "source": [
    "# Read in Scores made Earlier different computer\n",
    "chess_pd3 = pd.read_excel('/Users/yifan/Desktop/chess_pd_moves.xlsx')"
   ]
  },
  {
   "cell_type": "markdown",
   "metadata": {},
   "source": [
    "# Code that was Used to create Score Data"
   ]
  },
  {
   "cell_type": "code",
   "execution_count": 124,
   "metadata": {},
   "outputs": [],
   "source": [
    "# The following code is adapted from the documentation for python chess\n",
    "# For this code to run, you have to have installed stockfish on your computer\n",
    "#https://python-chess.readthedocs.io/en/latest/engine.html#analysing-and-evaluating-a-position\n",
    "#import chess             \n",
    "#import chess.engine                      \n",
    "\n",
    "file_engine = '/Users/chandlerjburke/Documents/SMU_Masters/Fall_2019/ML_Python/stockfish-10-mac/src/stockfish'\n",
    "#engine = chess.engine.SimpleEngine.popen_uci(file_engine)\n",
    "def create_score(moves_list, engine, time):\n",
    "    '''\n",
    "    Input: moves as a list, \n",
    "    Output: score from the engine\n",
    "    '''\n",
    "    #engine = chess.engine.SimpleEngine.popen_uci(file_engine)\n",
    "    score = []\n",
    "    if (idx % 1000 == 0):\n",
    "        print(idx)\n",
    "    for idx, moves in enumerate(moves_list):\n",
    "        board = chess.Board()\n",
    "        for move in moves:\n",
    "            board.push_san(move)\n",
    "        info = engine.analyse(board, chess.engine.Limit(time=time))\n",
    "        score.append(info['score'])\n",
    "    return score\n",
    "\n",
    "#score = create_score(ten_moves, engine, 0.05)\n",
    "#print(\"Score:\", info[\"score\"])\n",
    "\n",
    "# Score: +20"
   ]
  },
  {
   "cell_type": "code",
   "execution_count": 125,
   "metadata": {},
   "outputs": [],
   "source": [
    "def convert_pov_int(score):\n",
    "    '''\n",
    "    Input: score from stockfish\n",
    "    Output: integer\n",
    "    '''\n",
    "    if ('#' in str(score)):\n",
    "        return 0\n",
    "    else:\n",
    "        return int(str(score))"
   ]
  },
  {
   "cell_type": "code",
   "execution_count": 126,
   "metadata": {},
   "outputs": [],
   "source": [
    "def convert_all_scores(scores):\n",
    "    '''\n",
    "    Input: scores as a chess engine mov object\n",
    "    Output: scores as a list of integers\n",
    "    '''\n",
    "    scores_int = []\n",
    "    for score in scores:\n",
    "        scores_int.append(convert_pov_int(score))\n",
    "    return scores_int\n",
    "\n",
    "#score_int = convert_all_scores(score)\n"
   ]
  },
  {
   "cell_type": "markdown",
   "metadata": {},
   "source": [
    "# Add 10 Moves Score to chess pd, tsne"
   ]
  },
  {
   "cell_type": "code",
   "execution_count": 127,
   "metadata": {},
   "outputs": [],
   "source": [
    "def filter_short_games(df, name, num_turns):\n",
    "    '''\n",
    "    Input:dataframe, name of feature turns, number of turns \n",
    "    Output: dataframe, number of turns less than 10\n",
    "    '''\n",
    "    df = df[df[name] > num_turns]\n",
    "    return df"
   ]
  },
  {
   "cell_type": "code",
   "execution_count": 128,
   "metadata": {},
   "outputs": [],
   "source": [
    "def filter_long_opening(df, name, num_turns):\n",
    "    '''\n",
    "    Input:dataframe,number of turns \n",
    "    Output: dataframe, number of turns less than 10\n",
    "    '''\n",
    "    df = df[df[name]<num_turns]\n",
    "    return df"
   ]
  },
  {
   "cell_type": "code",
   "execution_count": 129,
   "metadata": {},
   "outputs": [
    {
     "name": "stdout",
     "output_type": "stream",
     "text": [
      "<class 'pandas.core.frame.DataFrame'>\n",
      "RangeIndex: 20058 entries, 0 to 20057\n",
      "Data columns (total 12 columns):\n",
      "Unnamed: 0        20058 non-null int64\n",
      "rated             20058 non-null bool\n",
      "turns             20058 non-null int64\n",
      "winner            20058 non-null object\n",
      "increment_code    20058 non-null object\n",
      "white_rating      20058 non-null int64\n",
      "black_rating      20058 non-null int64\n",
      "moves             20058 non-null object\n",
      "opening_eco       20058 non-null object\n",
      "opening_ply       20058 non-null int64\n",
      "ten_moves         20058 non-null object\n",
      "stockfish         20058 non-null int64\n",
      "dtypes: bool(1), int64(6), object(5)\n",
      "memory usage: 1.7+ MB\n"
     ]
    }
   ],
   "source": [
    "chess_pd3.info()"
   ]
  },
  {
   "cell_type": "code",
   "execution_count": 130,
   "metadata": {},
   "outputs": [],
   "source": [
    "for (idx, val) in enumerate(chess_pd3['stockfish']):\n",
    "    #print(idx)\n",
    "    #print(val)\n",
    "    arra = chess_pd3['winner']\n",
    "    #print(arra[idx] == 'white')"
   ]
  },
  {
   "cell_type": "markdown",
   "metadata": {},
   "source": [
    "# Calculate Statistics of Winner vs Score"
   ]
  },
  {
   "cell_type": "code",
   "execution_count": 132,
   "metadata": {},
   "outputs": [
    {
     "name": "stdout",
     "output_type": "stream",
     "text": [
      "Number of games White won: 10001\n",
      "Number of games Black won: 9107\n",
      "Number of games drawn: 950\n",
      "White Win Average Score: 117.0\n",
      "Black Win Average Score: 43.0\n",
      "Draw Average Score: 81.0\n"
     ]
    }
   ],
   "source": [
    "white_win_score = []\n",
    "black_win_score = []\n",
    "draw_score = []\n",
    "\n",
    "for (idx, val) in enumerate(chess_pd3['stockfish']):\n",
    "    if (chess_pd3['winner'][idx] == 'white'):\n",
    "        white_win_score.append(chess_pd3['stockfish'][idx])\n",
    "    elif (chess_pd3['winner'][idx] == 'black'):\n",
    "        black_win_score.append(chess_pd3['stockfish'][idx])\n",
    "    else:\n",
    "        draw_score.append(chess_pd3['stockfish'][idx])\n",
    "\n",
    "print('Number of games White won: ' + str(len(white_win_score)))\n",
    "print('Number of games Black won: ' + str(len(black_win_score)))\n",
    "print('Number of games drawn: ' + str(len(draw_score)))\n",
    "\n",
    "print('White Win Average Score: ' + str(np.round(np.mean(white_win_score))))\n",
    "print('Black Win Average Score: ' + str(np.round(np.mean(black_win_score))))\n",
    "print('Draw Average Score: ' + str(np.round(np.mean(draw_score))))"
   ]
  },
  {
   "cell_type": "markdown",
   "metadata": {},
   "source": [
    "This data is eactly as we expected.  When white wins, white has an advantage and is a large positive number.  When black wins the score is close to zero.  When there is a draw, the average score is between when black wins and when white wins."
   ]
  },
  {
   "cell_type": "markdown",
   "metadata": {},
   "source": [
    "# Boxplot of White Win vs. Black Win vs. Draw"
   ]
  },
  {
   "cell_type": "code",
   "execution_count": 133,
   "metadata": {},
   "outputs": [
    {
     "data": {
      "text/plain": [
       "{'whiskers': [<matplotlib.lines.Line2D at 0x1a29fa7f28>,\n",
       "  <matplotlib.lines.Line2D at 0x1a29fa7fd0>],\n",
       " 'caps': [<matplotlib.lines.Line2D at 0x1a29fc03c8>,\n",
       "  <matplotlib.lines.Line2D at 0x1a29fc0710>],\n",
       " 'boxes': [<matplotlib.lines.Line2D at 0x1a29fa7be0>],\n",
       " 'medians': [<matplotlib.lines.Line2D at 0x1a29fc0a58>],\n",
       " 'fliers': [<matplotlib.lines.Line2D at 0x1a29fc0da0>],\n",
       " 'means': []}"
      ]
     },
     "execution_count": 133,
     "metadata": {},
     "output_type": "execute_result"
    },
    {
     "data": {
      "image/png": "[encoded data removed]",
      "text/plain": [
       "<Figure size 432x288 with 3 Axes>"
      ]
     },
     "metadata": {},
     "output_type": "display_data"
    }
   ],
   "source": [
    "# Documentation for box plot https://matplotlib.org/api/_as_gen/matplotlib.pyplot.boxplot.html#matplotlib.pyplot.boxplot\n",
    "\n",
    "plt.figure()\n",
    "#fig, (ax1, ax2, ax3) = plt.subplots(1,3, sharey = True)\n",
    "\n",
    "plt.subplot(1,3,1)\n",
    "plt.ylim([-2000, 2000])\n",
    "plt.boxplot(white_win_score)\n",
    "plt.title('White Win')\n",
    "\n",
    "plt.subplot(1,3,2)\n",
    "plt.ylim([-2000, 2000])\n",
    "plt.title('Black Win')\n",
    "plt.boxplot(black_win_score)\n",
    "\n",
    "plt.subplot(1,3,3)\n",
    "plt.ylim([-2000, 2000])\n",
    "plt.title('Draw')\n",
    "plt.boxplot(draw_score)"
   ]
  },
  {
   "cell_type": "markdown",
   "metadata": {},
   "source": [
    "From this boxplot we can see that when White wins, the scores skew positive. When black wins the scores skew negative. When there is a draw the scores tend to be around zero and there are fewer outliers. This is exactly what we would expect.  Thus, this data is correlated with a white win and should be helpful to predict the outcome of the chess match."
   ]
  },
  {
   "cell_type": "markdown",
   "metadata": {},
   "source": [
    "# Verify Length of Dataframe is correct"
   ]
  },
  {
   "cell_type": "code",
   "execution_count": 134,
   "metadata": {},
   "outputs": [
    {
     "name": "stdout",
     "output_type": "stream",
     "text": [
      "20058\n",
      "19377\n",
      "18047\n"
     ]
    }
   ],
   "source": [
    "print(len(chess_pd3['stockfish']))\n",
    "chess_pd3 = filter_short_games(chess_pd3, 'turns', 10)\n",
    "print(len(chess_pd3['turns']))\n",
    "\n",
    "chess_pd3 = filter_long_opening(chess_pd3, 'opening_ply', 10)\n",
    "print(len(chess_pd3['turns']))\n"
   ]
  },
  {
   "cell_type": "markdown",
   "metadata": {},
   "source": [
    "# Divide Data into 80% train test split (5 Points)"
   ]
  },
  {
   "cell_type": "code",
   "execution_count": 135,
   "metadata": {},
   "outputs": [
    {
     "name": "stdout",
     "output_type": "stream",
     "text": [
      "       turns winner  white_rating  black_rating  opening_ply  False  True  A  \\\n",
      "0         13  white          1500          1191            5      1     0  0   \n",
      "1         16  black          1322          1261            4      0     1  0   \n",
      "2         61  white          1496          1500            3      0     1  0   \n",
      "3         61  white          1439          1454            3      0     1  0   \n",
      "4         95  white          1523          1469            5      0     1  0   \n",
      "5          5   draw          1250          1002            4      1     0  0   \n",
      "6         33  white          1520          1423           10      0     1  0   \n",
      "7          9  black          1413          2108            5      1     0  0   \n",
      "8         66  black          1439          1392            6      0     1  0   \n",
      "9        119  white          1381          1209            4      0     1  0   \n",
      "10        39  white          1381          1272            1      1     0  1   \n",
      "11        38  black          1381          1867            9      1     0  0   \n",
      "12        60  black          1381          1936            3      1     0  0   \n",
      "13        31  black          1381          1607            2      1     0  0   \n",
      "14        31  white          1094          1141            8      1     0  0   \n",
      "15        43  black          1141          1094            7      1     0  0   \n",
      "16        52  black          1094          1141            8      1     0  0   \n",
      "17        66  black          1141          1094            8      1     0  0   \n",
      "18       101  black          1094          1300            5      1     0  0   \n",
      "19        25  white          1500          1094            2      1     0  0   \n",
      "20        14  black          1094          1676            6      1     0  0   \n",
      "21         3  white          1094          1068            2      1     0  1   \n",
      "22        17  white          1500          1094            3      1     0  0   \n",
      "23        36  white          1307          1106            4      0     1  1   \n",
      "24        13  black          1113          1423            3      0     1  0   \n",
      "25        69  white          1078          1219            4      0     1  0   \n",
      "26        43  white          1825          1079            8      0     1  0   \n",
      "27        54  black          1328          1038            4      0     1  0   \n",
      "28        53  black          1056          1156            4      0     1  0   \n",
      "29        66  black          1077          1148            4      0     1  0   \n",
      "...      ...    ...           ...           ...          ...    ...   ... ..   \n",
      "20028    115  white          1878          1720            2      0     1  1   \n",
      "20029     37  black          1890          1866            2      0     1  1   \n",
      "20030     82  black          1876          1879            5      0     1  1   \n",
      "20031     50  black          1267          1616            4      0     1  1   \n",
      "20032     53  white          1253          1267            5      1     0  0   \n",
      "20033     36  black          1267          1253            2      1     0  1   \n",
      "20034    100   draw          1258          1620            6      0     1  1   \n",
      "20035     59  white          1427          1265            5      0     1  0   \n",
      "20036     43  white          1247          1436            3      0     1  1   \n",
      "20037     32  black          1156          1238            2      0     1  0   \n",
      "20038     36  black          1247          1359            4      0     1  1   \n",
      "20039     57  white          1550          1250           10      0     1  0   \n",
      "20040     87  black          1261          1461            6      0     1  0   \n",
      "20041     58  black          1263          1770            3      0     1  0   \n",
      "20042     53  white          1759          1265            8      0     1  0   \n",
      "20043     11  white          1252          1290            4      0     1  1   \n",
      "20044     37  white          1523          1256            5      0     1  0   \n",
      "20045     70  white          1246          1201            3      0     1  0   \n",
      "20046     36  black          1250          1235            4      0     1  0   \n",
      "20047     73  white          1222          1262            2      0     1  1   \n",
      "20048     25  white          1252          1233            5      0     1  0   \n",
      "20049     43  white          1328          1252            5      0     1  0   \n",
      "20050      9  white          1243          1142            2      0     1  1   \n",
      "20051     58  black          1237          1231            3      0     1  0   \n",
      "20052     37  white          1219          1250            4      0     1  1   \n",
      "20053     24  white          1691          1220            2      0     1  1   \n",
      "20054     82  black          1233          1196            2      0     1  1   \n",
      "20055     35  white          1219          1286            3      0     1  0   \n",
      "20056    109  white          1360          1227            4      0     1  0   \n",
      "20057     78  black          1235          1339            3      0     1  0   \n",
      "\n",
      "       B  C  D  E  base  increment  maxtime  rating_difference  \n",
      "0      0  0  1  0    15          2       17                309  \n",
      "1      1  0  0  0     5         10       15                 61  \n",
      "2      0  1  0  0     5         10       15                 -4  \n",
      "3      0  0  1  0    20          0       20                -15  \n",
      "4      0  1  0  0    30          3       33                 54  \n",
      "5      1  0  0  0    10          0       10                248  \n",
      "6      0  0  1  0    10          0       10                 97  \n",
      "7      1  0  0  0    15         30       45               -695  \n",
      "8      0  1  0  0    15          0       15                 47  \n",
      "9      1  0  0  0    10          0       10                172  \n",
      "10     0  0  0  0    20         60       80                109  \n",
      "11     0  1  0  0    20         60       80               -486  \n",
      "12     0  1  0  0     5         40       45               -555  \n",
      "13     0  1  0  0     8          0        8               -226  \n",
      "14     0  1  0  0    15         15       30                -47  \n",
      "15     0  1  0  0    15         15       30                 47  \n",
      "16     0  1  0  0    15         15       30                -47  \n",
      "17     0  1  0  0    15         16       31                 47  \n",
      "18     0  1  0  0    15         15       30               -206  \n",
      "19     0  0  1  0    11          0       11                406  \n",
      "20     0  1  0  0    15         15       30               -582  \n",
      "21     0  0  0  0    30         60       90                 26  \n",
      "22     1  0  0  0    15          5       20                406  \n",
      "23     0  0  0  0    10          0       10                201  \n",
      "24     1  0  0  0    10          0       10               -310  \n",
      "25     0  0  1  0    10         10       20               -141  \n",
      "26     0  1  0  0    10         10       20                746  \n",
      "27     0  0  1  0    10         10       20                290  \n",
      "28     0  0  1  0    10         10       20               -100  \n",
      "29     0  0  1  0    10         10       20                -71  \n",
      "...   .. .. .. ..   ...        ...      ...                ...  \n",
      "20028  0  0  0  0    10          0       10                158  \n",
      "20029  0  0  0  0    15         15       30                 24  \n",
      "20030  0  0  0  0    15         15       30                 -3  \n",
      "20031  0  0  0  0    45         45       90               -349  \n",
      "20032  1  0  0  0    15         15       30                -14  \n",
      "20033  0  0  0  0    15         15       30                 14  \n",
      "20034  0  0  0  0    45         45       90               -362  \n",
      "20035  1  0  0  0    10          0       10                162  \n",
      "20036  0  0  0  0    10          0       10               -189  \n",
      "20037  1  0  0  0    10          0       10                -82  \n",
      "20038  0  0  0  0    15         15       30               -112  \n",
      "20039  0  1  0  0    45         45       90                300  \n",
      "20040  0  0  0  1    10         10       20               -200  \n",
      "20041  0  0  1  0    10         10       20               -507  \n",
      "20042  1  0  0  0    10         10       20                494  \n",
      "20043  0  0  0  0    10         10       20                -38  \n",
      "20044  0  1  0  0    10         10       20                267  \n",
      "20045  1  0  0  0    45         45       90                 45  \n",
      "20046  1  0  0  0    10         10       20                 15  \n",
      "20047  0  0  0  0    10         10       20                -40  \n",
      "20048  0  1  0  0    10         10       20                 19  \n",
      "20049  0  1  0  0    10          0       10                 76  \n",
      "20050  0  0  0  0    10          0       10                101  \n",
      "20051  0  1  0  0    10         10       20                  6  \n",
      "20052  0  0  0  0    10         10       20                -31  \n",
      "20053  0  0  0  0    10         10       20                471  \n",
      "20054  0  0  0  0    10          0       10                 37  \n",
      "20055  0  0  1  0    10          0       10                -67  \n",
      "20056  1  0  0  0    10          0       10                133  \n",
      "20057  0  0  1  0    10          0       10               -104  \n",
      "\n",
      "[20058 rows x 16 columns]\n"
     ]
    }
   ],
   "source": [
    "print(chess_regression)"
   ]
  },
  {
   "cell_type": "markdown",
   "metadata": {},
   "source": [
    "# Create Dataframes for Logistic Regression Dataframe"
   ]
  },
  {
   "cell_type": "markdown",
   "metadata": {},
   "source": [
    "## Create Dataframe that includes all variables"
   ]
  },
  {
   "cell_type": "markdown",
   "metadata": {},
   "source": [
    "The chess_regression dataframe inlcudes all information that would be known to a gambler after 10 moves of a chess game. These include the rating of the white player, rating of the black player, length of opening, true if rated game, false if non-rated game, the category of the opening, the base time, the increment time, the maxtime which is the average maximum time for the game, the ratings difference between white and black, and the score of the game from stockfish where score is positive if white is winning and negative if black is winnning. "
   ]
  },
  {
   "cell_type": "code",
   "execution_count": 136,
   "metadata": {},
   "outputs": [],
   "source": [
    "chess_regression = chess_tsne\n",
    "\n",
    "# Actual Values\n",
    "chess_regression = remove_feature(chess_regression, 'black')\n",
    "chess_regression = remove_feature(chess_regression, 'draw')\n",
    "chess_regression = remove_feature(chess_regression, 'white')\n",
    "chess_regression = remove_feature(chess_regression, 'winner')\n",
    "\n",
    "chess_regression = add_feature(chess_regression, 'opening_ply', chess_pd['opening_ply'])\n",
    "chess_regression = add_feature(chess_regression, \"ratings_difference\", chess_pd['Rating_Difference'])\n",
    "\n",
    "chess_regression = add_feature(chess_regression, 'stockfish', chess_pd3['stockfish'])\n",
    "\n",
    "#chess_regression = remove_feature(chess_regression, '0')\n",
    "#chess_regression = remove_feature(chess_regression, 'turns')\n",
    "#chess_regression = remove_feature(chess_regression, 'winner')\n",
    "#chess_regression = remove_feature(chess_regression, 'moves')\n",
    "#chess_regression = remove_feature(chess_regression, 'opening_eco'"
   ]
  },
  {
   "cell_type": "code",
   "execution_count": 137,
   "metadata": {},
   "outputs": [
    {
     "name": "stdout",
     "output_type": "stream",
     "text": [
      "<class 'pandas.core.frame.DataFrame'>\n",
      "Int64Index: 18047 entries, 0 to 20057\n",
      "Data columns (total 15 columns):\n",
      "white_rating          18047 non-null int64\n",
      "black_rating          18047 non-null int64\n",
      "opening_ply           18047 non-null int64\n",
      "False                 18047 non-null uint8\n",
      "True                  18047 non-null uint8\n",
      "A                     18047 non-null uint8\n",
      "B                     18047 non-null uint8\n",
      "C                     18047 non-null uint8\n",
      "D                     18047 non-null uint8\n",
      "E                     18047 non-null uint8\n",
      "base                  18047 non-null int64\n",
      "increment             18047 non-null int64\n",
      "maxtime               18047 non-null int64\n",
      "ratings_difference    18047 non-null int64\n",
      "stockfish             18047 non-null int64\n",
      "dtypes: int64(8), uint8(7)\n",
      "memory usage: 1.4 MB\n",
      "None\n"
     ]
    }
   ],
   "source": [
    "print(chess_regression.info())"
   ]
  },
  {
   "cell_type": "markdown",
   "metadata": {},
   "source": [
    "# Standardize"
   ]
  },
  {
   "cell_type": "code",
   "execution_count": 138,
   "metadata": {},
   "outputs": [],
   "source": [
    "# Scale the data\n",
    "from sklearn.preprocessing import StandardScaler\n",
    "scaler = StandardScaler()\n",
    "scale_var = [\"white_rating\",\"black_rating\",\"base\",\"increment\",\"maxtime\",\"ratings_difference\",\"stockfish\"]\n",
    "scaler.fit(chess_regression[scale_var])\n",
    "chess_scale = pd.DataFrame(scaler.transform(chess_regression[scale_var]),columns=scale_var) \n",
    "\n",
    "for i in range(len(scale_var)):\n",
    "    chess_regression=remove_feature(chess_regression,scale_var[i])\n",
    "\n",
    "# rename index \n",
    "chess_scale.index = chess_regression.index\n",
    "chess_regression = pd.concat([chess_regression,chess_scale],axis=1)"
   ]
  },
  {
   "cell_type": "markdown",
   "metadata": {},
   "source": [
    "## Create Dataframe that only has 7 variables (it runs faster)"
   ]
  },
  {
   "cell_type": "markdown",
   "metadata": {},
   "source": [
    "We also made a simple dataframe that includes smaller number of variables of only the variables that we suspect actually matter. We know that the ratings of the players matter, and we hope that the other variables assist in making an accurate prediction. \n",
    "The chess_simple dataframe again inlcudes some information that would be known to a gambler after 10 moves of a chess game. These include the rating of the white player, rating of the black player, true if rated game, false if non-rated game, the maxtime which is the average maximum time for the game, the ratings difference between white and black, and the score of the game from stockfish where score is positive if white is winning and negative if black is winnning. "
   ]
  },
  {
   "cell_type": "code",
   "execution_count": 139,
   "metadata": {},
   "outputs": [
    {
     "name": "stdout",
     "output_type": "stream",
     "text": [
      "<class 'pandas.core.frame.DataFrame'>\n",
      "Int64Index: 18047 entries, 0 to 20057\n",
      "Data columns (total 7 columns):\n",
      "False                 18047 non-null uint8\n",
      "True                  18047 non-null uint8\n",
      "white_rating          18047 non-null float64\n",
      "black_rating          18047 non-null float64\n",
      "maxtime               18047 non-null float64\n",
      "ratings_difference    18047 non-null float64\n",
      "stockfish             18047 non-null float64\n",
      "dtypes: float64(5), uint8(2)\n",
      "memory usage: 881.2 KB\n"
     ]
    }
   ],
   "source": [
    "chess_simple = chess_regression\n",
    "chess_simple = remove_feature(chess_simple, 'opening_ply')\n",
    "chess_simple = remove_feature(chess_simple, 'False')\n",
    "chess_simple = remove_feature(chess_simple, 'True')\n",
    "chess_simple = remove_feature(chess_simple, 'A')\n",
    "chess_simple = remove_feature(chess_simple, 'B')\n",
    "chess_simple = remove_feature(chess_simple, 'C')\n",
    "chess_simple = remove_feature(chess_simple, 'D')\n",
    "chess_simple = remove_feature(chess_simple, 'E')\n",
    "chess_simple = remove_feature(chess_simple, 'base')\n",
    "chess_simple = remove_feature(chess_simple, 'increment')\n",
    "chess_simple.info()"
   ]
  },
  {
   "cell_type": "markdown",
   "metadata": {},
   "source": [
    "## Create Dataframe with only 3 variables for testing (it runs faster)\n",
    "  \n",
    "We also made an even simpler dataframe that includes just the chess_rating differnce. We know that the ratings of the players matter, and we hope that the other variables assist in making an accurate prediction, as a classifier only using the ratings of the players performs 62%. \n",
    "The chess_rating dataframe aonly includes rating difference."
   ]
  },
  {
   "cell_type": "code",
   "execution_count": 140,
   "metadata": {},
   "outputs": [
    {
     "name": "stdout",
     "output_type": "stream",
     "text": [
      "<class 'pandas.core.frame.DataFrame'>\n",
      "Int64Index: 18047 entries, 0 to 20057\n",
      "Data columns (total 2 columns):\n",
      "ratings_difference    18047 non-null float64\n",
      "stockfish             18047 non-null float64\n",
      "dtypes: float64(2)\n",
      "memory usage: 423.0 KB\n"
     ]
    }
   ],
   "source": [
    "df1 = chess_simple['ratings_difference']\n",
    "df2 = chess_simple['stockfish']\n",
    "\n",
    "chess_rating = pd.concat([df1, df2],axis=1)\n",
    "chess_rating.info()"
   ]
  },
  {
   "cell_type": "code",
   "execution_count": 302,
   "metadata": {},
   "outputs": [],
   "source": [
    "def get_labels(feature):\n",
    "\n",
    "    labels = []\n",
    "    for dirc in feature:\n",
    "        if dirc == \"white\" :\n",
    "            label = 1\n",
    "        elif dirc ==\"black\" :\n",
    "            label = -1\n",
    "        elif dirc ==\"draw\" :\n",
    "            label = 0\n",
    "        labels.append(label)\n",
    "    labels = np.array(labels)\n",
    "    return labels\n",
    "chess_labels = get_labels(chess_pd3['winner'])"
   ]
  },
  {
   "cell_type": "markdown",
   "metadata": {},
   "source": [
    "## Train Test split for full model"
   ]
  },
  {
   "cell_type": "code",
   "execution_count": 368,
   "metadata": {},
   "outputs": [],
   "source": [
    "X_train, X_test, y_train, y_test = train_test_split(chess_regression,chess_labels,test_size=0.2)"
   ]
  },
  {
   "cell_type": "code",
   "execution_count": 369,
   "metadata": {},
   "outputs": [
    {
     "data": {
      "text/plain": [
       "array([ 1,  1, -1, ...,  1,  0,  1])"
      ]
     },
     "execution_count": 369,
     "metadata": {},
     "output_type": "execute_result"
    }
   ],
   "source": [
    "y_train"
   ]
  },
  {
   "cell_type": "code",
   "execution_count": 305,
   "metadata": {},
   "outputs": [
    {
     "data": {
      "text/plain": [
       "array([-1, -1,  1, ..., -1,  1,  1])"
      ]
     },
     "execution_count": 305,
     "metadata": {},
     "output_type": "execute_result"
    }
   ],
   "source": [
    "y_test"
   ]
  },
  {
   "cell_type": "markdown",
   "metadata": {},
   "source": [
    "## Train Test split for model with 7 variables"
   ]
  },
  {
   "cell_type": "code",
   "execution_count": 306,
   "metadata": {},
   "outputs": [],
   "source": [
    "X_train_simple, X_test_simple, y_train_simple, y_test_simple = train_test_split(chess_simple,chess_labels,test_size=0.2)"
   ]
  },
  {
   "cell_type": "markdown",
   "metadata": {},
   "source": [
    "## Train Test split for model with 3 variables"
   ]
  },
  {
   "cell_type": "code",
   "execution_count": 336,
   "metadata": {},
   "outputs": [],
   "source": [
    "X_train_rating, X_test_rating, y_train_rating, y_test_rating = train_test_split(chess_rating,chess_labels,test_size=0.2)"
   ]
  },
  {
   "cell_type": "markdown",
   "metadata": {},
   "source": [
    "# Explanation for an 80/20 split"
   ]
  },
  {
   "cell_type": "markdown",
   "metadata": {},
   "source": [
    "The data is divided using an 80% training and 20% testing split since it is a classic way to split the data set. We specify the training data set to be 80% of the data to ensure we have a large sample size. Presence of more data will result in better and accurate models, while reducing the training data will get risk of losing important patterns/ trends in data set. We should also have enough data for testing to reduce the test variance, so we split 20% of data to test our model. It is a tradeoff for us to split the data set as larger sample size for training can improve the predictive model but will increase the test variance simutaneously, so an 80/20 split is appropriate."
   ]
  },
  {
   "cell_type": "markdown",
   "metadata": {},
   "source": [
    "### Reference\n",
    "\n",
    "Ray, Sunil, and Business Analytics. “8 Proven Ways for Boosting the ‘Accuracy’ of a Machine Learning Model.” Analytics Vidhya, 25 June 2019, https://www.analyticsvidhya.com/blog/2015/12/improve-machine-learning-results/."
   ]
  },
  {
   "cell_type": "markdown",
   "metadata": {},
   "source": [
    "# Cross Validation is better for our Train and Test Split\n"
   ]
  },
  {
   "cell_type": "code",
   "execution_count": 337,
   "metadata": {},
   "outputs": [
    {
     "name": "stdout",
     "output_type": "stream",
     "text": [
      "white    8972\n",
      "black    8253\n",
      "draw      822\n",
      "Name: winner, dtype: int64\n"
     ]
    }
   ],
   "source": [
    "print(chess_pd3.winner.value_counts())"
   ]
  },
  {
   "cell_type": "markdown",
   "metadata": {},
   "source": [
    "From the counts of three categories, the sample size is small for 'draw' since there are only 822 samples. So after an 80/20 split, there are only 160 samples of draw for the test set. It is not enough, and we can get almost any performance on this set only due to chance. In K Fold cross validation, the data is divided into k subsets. Now the holdout method is repeated k times, such that each time, one of the k subsets is used as the test set/ validation set and the other k-1 subsets are put together to form a training set. The error estimation is averaged over all k trials to get total effectiveness of our model. As can be seen, every data point gets to be in a validation set exactly once, and gets to be in a training set k-1 times. This significantly reduces bias as we are using most of the data for fitting, and also significantly reduces variance as most of the data is also being used in validation set. As a general rule and empirical evidence, K = 5 or 10 is generally preferred as it is often reported that the optimal k is between 5 and 10 , because the statistical performance does not increase a lot for larger values of k. So for our problem, using a 5/10 fold cross validation method to do an 80/20 split is a better way."
   ]
  },
  {
   "cell_type": "markdown",
   "metadata": {},
   "source": [
    "### Reference"
   ]
  },
  {
   "cell_type": "markdown",
   "metadata": {},
   "source": [
    "Arlot, Sylvain, and Alain Celisse. “A Survey of Cross-Validation Procedures for Model Selection.” Statistics Surveys, The Author, under a Creative Commons Attribution License, https://projecteuclid.org/download/pdfview_1/euclid.ssu/1268143839.\n",
    "\n",
    "Gupta, Prashant. “Cross-Validation in Machine Learning.” Medium, Towards Data Science, 5 June 2017, https://towardsdatascience.com/cross-validation-in-machine-learning-72924a69872f.\n",
    "\n",
    "Shulga, Dima. “5 Reasons Why You Should Use Cross-Validation in Your Data Science Projects.” Medium, Towards Data Science, 27 Sept. 2018, https://towardsdatascience.com/5-reasons-why-you-should-use-cross-validation-in-your-data-science-project-8163311a1e79."
   ]
  },
  {
   "cell_type": "markdown",
   "metadata": {},
   "source": [
    "# Modeling (50 Points)"
   ]
  },
  {
   "cell_type": "code",
   "execution_count": null,
   "metadata": {},
   "outputs": [],
   "source": [
    "%%time\n",
    "# from last time, our logistic regression algorithm is given by (including everything we previously had):\n",
    "class BinaryLogisticRegression:\n",
    "    def __init__(self, eta, iterations=20, C=0.001):\n",
    "        self.eta = eta\n",
    "        self.iters = iterations\n",
    "        self.C = C\n",
    "        # internally we will store the weights as self.w_ to keep with sklearn conventions\n",
    "        \n",
    "    def __str__(self):\n",
    "        if(hasattr(self,'w_')):\n",
    "            return 'Binary Logistic Regression Object with coefficients:\\n'+ str(self.w_) # is we have trained the object\n",
    "        else:\n",
    "            return 'Untrained Binary Logistic Regression Object'\n",
    "        \n",
    "    # convenience, private:\n",
    "    @staticmethod\n",
    "    def _add_bias(X):\n",
    "        return np.hstack((np.ones((X.shape[0],1)),X)) # add bias term\n",
    "    \n",
    "    @staticmethod\n",
    "    def _sigmoid(theta):\n",
    "        # increase stability, redefine sigmoid operation\n",
    "        return expit(theta) #1/(1+np.exp(-theta))\n",
    " "
   ]
  },
  {
   "cell_type": "code",
   "execution_count": 437,
   "metadata": {},
   "outputs": [],
   "source": [
    "   \n",
    "    # vectorized gradient calculation with regularization using L2 Norm\n",
    "    def _get_gradient(self,X,y):\n",
    "        ydiff = y-self.predict_proba(X,add_bias=False).ravel() # get y difference\n",
    "        gradient = np.mean(X * ydiff[:,np.newaxis], axis=0) # make ydiff a column vector and multiply through\n",
    "        \n",
    "        gradient = gradient.reshape(self.w_.shape)\n",
    "        gradient[1:] += -2 * self.w_[1:] * self.C\n",
    "        \n",
    "        return gradient"
   ]
  },
  {
   "cell_type": "markdown",
   "metadata": {},
   "source": [
    "___\n",
    "\n",
    "Now let's add the model training function, using the update equation defined previously:\n",
    "\n",
    "$$ \\mathbf{w} \\leftarrow \\mathbf{w} + \\eta \\frac{1}{M}\\sum_{i=1}^M (y^{(i)}-g(\\mathbf{w}^T\\mathbf{x}^{(i)}))\\mathbf{x}^{(i)} $$"
   ]
  },
  {
   "cell_type": "code",
   "execution_count": 370,
   "metadata": {},
   "outputs": [
    {
     "name": "stdout",
     "output_type": "stream",
     "text": [
      "CPU times: user 48 µs, sys: 1 µs, total: 49 µs\n",
      "Wall time: 52 µs\n"
     ]
    }
   ],
   "source": [
    "    \n",
    "    # public:\n",
    "    def predict_proba(self,X,add_bias=True):\n",
    "        # add bias term if requested\n",
    "        Xb = self._add_bias(X) if add_bias else X\n",
    "        return self._sigmoid(Xb @ self.w_) # return the probability y=1\n",
    "    \n",
    "    def predict(self,X):\n",
    "        return (self.predict_proba(X)>0.5) #return the actual prediction\n",
    "    \n",
    "    \n",
    "    def fit(self, X, y):\n",
    "        Xb = self._add_bias(X) # add bias term\n",
    "        num_samples, num_features = Xb.shape\n",
    "        \n",
    "        self.w_ = np.zeros((num_features,1)) # init weight vector to zeros\n",
    "        \n",
    "        # for as many as the max iterations\n",
    "        for _ in range(self.iters):\n",
    "            gradient = self._get_gradient(Xb,y)\n",
    "            self.w_ += gradient*self.eta # multiply by learning rate \n",
    "\n",
    "            \n",
    "# solver support: steepest_descent, stochastic_gradient_descent, newton_method\n",
    "# penalty support: none, l1, l2, l1l2\n",
    "class SuperBinaryLogisticRegression(BinaryLogisticRegression):\n",
    "    def __init__(self, eta, solver=\"steepest_descent\", penalty=\"none\", iterations=20, C=0.001):\n",
    "        self.eta = eta\n",
    "        self.solver = solver\n",
    "        self.penalty = penalty\n",
    "        self.iters = iterations\n",
    "        self.C = C\n",
    "        # internally we will store the weights as self.w_ to keep with sklearn conventions\n",
    "\n",
    "    def _optimization_process(self, X, y):\n",
    "        if \"steepest_descent\" == self.solver:\n",
    "            ydiff = y-self.predict_proba(X,add_bias=False).ravel() # get y difference\n",
    "            gradient = np.mean(X * ydiff[:,np.newaxis], axis=0) # make ydiff a column vector and multiply through\n",
    "            gradient = gradient.reshape(self.w_.shape)\n",
    "            return gradient\n",
    "        \n",
    "        elif \"stochastic_gradient_descent\" == self.solver:\n",
    "            idx = int(np.random.rand()*len(y)) # grab random instance: add a random select process to the steepest descent\n",
    "            ydiff = y[idx]-self.predict_proba(X[idx],add_bias=False) # get y difference (now scalar)\n",
    "            gradient = X[idx] * ydiff[:,np.newaxis] # make ydiff a column vector and multiply through\n",
    "            gradient = gradient.reshape(self.w_.shape)\n",
    "            return gradient\n",
    "        \n",
    "        elif \"newton_method\" == self.solver: # Hessian\n",
    "            g = self.predict_proba(X,add_bias=False).ravel() # get sigmoid value for all classes\n",
    "            hessian = X.T @ np.diag(g*(1-g)) @ X - 2 * self.C # calculate the hessian\n",
    "            ydiff = y-g # get y difference\n",
    "            gradient = np.sum(X * ydiff[:,np.newaxis], axis=0) # make ydiff a column vector and multiply through\n",
    "            gradient = gradient.reshape(self.w_.shape)\n",
    "            gradient[1:] += -2 * self.w_[1:] * self.C\n",
    "            return pinv(hessian) @ gradient\n",
    "        elif \"mse\" == self.solver:\n",
    "            g = self.predict_proba(X,add_bias=False).ravel() # get sigmoid value for all classes\n",
    "            hessian = (-2/len(y))*X.T@np.diag(y*g-3*y*g**2+2*y*g**3-2*g**2+5*g**3-3*g**4)@X - 2 * self.C# calculate the hessian\n",
    "            ydiff = y-g # get y difference\n",
    "            gradient = np.sum(X * ydiff[:,np.newaxis]*(1-g)[:,np.newaxis]*g[:,np.newaxis], axis=0) # make ydiff a column vector and multiply through\n",
    "            gradient = gradient.reshape(self.w_.shape)\n",
    "            gradient[1:] += -2 * self.w_[1:] * self.C\n",
    "            gradient = np.linalg.pinv(hessian) @ gradient\n",
    "            return gradient\n",
    "        \n",
    "        else:\n",
    "            raise ValueError('Not support solver parameter:', self.solver)\n",
    "            \n",
    "    def _penalization_process(self, gradient):\n",
    "        if \"none\" == self.penalty:\n",
    "            return gradient\n",
    "\n",
    "        elif \"l1\" == self.penalty:\n",
    "            gradient[1:] += np.sign(self.w_[1:]) * self.C\n",
    "            return gradient\n",
    "        \n",
    "        elif \"l2\" == self.penalty:\n",
    "            gradient[1:] += -2 * self.w_[1:] * self.C\n",
    "            return gradient\n",
    "        \n",
    "        elif \"l1l2\" == self.penalty:\n",
    "            gradient[1:] += (np.sign(self.w_[1:]) * self.C) + (-2 * self.w_[1:] * self.C)\n",
    "            return gradient\n",
    "        \n",
    "        else:\n",
    "            raise ValueError('Not support penalty parameter:', self.penalty)\n",
    "    \n",
    "    def _get_gradient(self,X,y):\n",
    "        gradient = self._optimization_process(X,y)\n",
    "        gradient = self._penalization_process(gradient)\n",
    "        return gradient"
   ]
  },
  {
   "cell_type": "code",
   "execution_count": 435,
   "metadata": {},
   "outputs": [
    {
     "name": "stdout",
     "output_type": "stream",
     "text": [
      "0.6396121883656509\n"
     ]
    }
   ],
   "source": [
    "class MultiClassSuperLogisticRegression:\n",
    "    def __init__(self, eta, solver=\"steepest_descent\", penalty=\"none\", iterations=5, C=0.01):\n",
    "        self.eta = eta\n",
    "        self.solver = solver\n",
    "        self.penalty = penalty\n",
    "        self.iters = iterations\n",
    "        self.C = C\n",
    "        self.classifiers_ = []\n",
    "    \n",
    "    def fit(self,X,y):\n",
    "        num_samples, num_features = X.shape\n",
    "        self.unique_ = np.sort(np.unique(y)) # get each unique class value\n",
    "        num_unique_classes = len(self.unique_)\n",
    "        self.classifiers_ = []\n",
    "        for i,yval in enumerate(self.unique_): # for each unique value\n",
    "            y_binary = y==yval # create a binary problem\n",
    "            # train the binary classifier for this class\n",
    "            sblr = SuperBinaryLogisticRegression(self.eta,self.solver,self.penalty,self.iters,self.C)\n",
    "            sblr.fit(X,y_binary)\n",
    "            #print(accuracy(y_binary,sblr.predict(X)))\n",
    "            # add the trained classifier to the list\n",
    "            self.classifiers_.append(sblr)\n",
    "            \n",
    "        # save all the weights into one matrix, separate column for each class\n",
    "        self.w_ = np.hstack([x.w_ for x in self.classifiers_]).T\n",
    "\n",
    "    def predict_proba(self,X):\n",
    "        probs = []\n",
    "        for sblr in self.classifiers_:\n",
    "            probs.append(sblr.predict_proba(X).reshape((len(X),1))) # get probability for each classifier\n",
    "        \n",
    "        return np.hstack(probs) # make into single matrix\n",
    "    \n",
    "    def predict(self,X):\n",
    "        return [self.unique_[argmax] for argmax in np.argmax(self.predict_proba(X),axis=1)]\n",
    "\n",
    "                \n",
    "mcslr = MultiClassSuperLogisticRegression(eta=0.1,solver=\"steepest_descent\",penalty=\"l2\",iterations=100,C=0.01)\n",
    "mcslr.fit(X_train, y_train)\n",
    "yhat = mcslr.predict(X_test)\n",
    "accuracy = accuracy_score(y_test,yhat)\n",
    "print(accuracy)"
   ]
  },
  {
   "cell_type": "code",
   "execution_count": 388,
   "metadata": {},
   "outputs": [],
   "source": [
    "solver_list = [\"steepest_descent\", \"stochastic_gradient_descent\",\"newton_method\",\"mse\"]\n",
    "penalty_list = [\"none\", \"l1\", \"l2\", \"l1l2\"]\n",
    "C_list = np.geomspace(0.01, 100, num=6)\n",
    "accuracy_list = {}\n",
    "\n",
    "for solver in solver_list:\n",
    "    accuracy_list[solver] = {}\n",
    "    for penalty in penalty_list:\n",
    "        accuracy_list[solver][penalty] = []\n",
    "        for C in C_list:\n",
    "            iter = 5\n",
    "            lr = MultiClassSuperLogisticRegression(eta=0.1,solver=solver,penalty=penalty,iterations=iter,C=C)\n",
    "            lr.fit(X_train, y_train)\n",
    "            yhat = lr.predict(X_test)\n",
    "            accuracy = accuracy_score(y_test, yhat)\n",
    "            accuracy_list[solver][penalty].append(accuracy)"
   ]
  },
  {
   "cell_type": "code",
   "execution_count": 389,
   "metadata": {},
   "outputs": [
    {
     "data": {
      "text/plain": [
       "{'steepest_descent': {'none': [0.6055401662049862,\n",
       "   0.6055401662049862,\n",
       "   0.6055401662049862,\n",
       "   0.6055401662049862,\n",
       "   0.6055401662049862,\n",
       "   0.6055401662049862],\n",
       "  'l1': [0.6049861495844875,\n",
       "   0.5997229916897507,\n",
       "   0.5800554016620498,\n",
       "   0.5484764542936288,\n",
       "   0.5254847645429362,\n",
       "   0.5210526315789473],\n",
       "  'l2': [0.6052631578947368,\n",
       "   0.6047091412742382,\n",
       "   0.6013850415512465,\n",
       "   0.5720221606648199,\n",
       "   0.5047091412742383,\n",
       "   0.6141274238227147],\n",
       "  'l1l2': [0.6049861495844875,\n",
       "   0.5986149584487535,\n",
       "   0.5792243767313019,\n",
       "   0.5512465373961218,\n",
       "   0.3601108033240997,\n",
       "   0.43518005540166205]},\n",
       " 'stochastic_gradient_descent': {'none': [0.45263157894736844,\n",
       "   0.4595567867036011,\n",
       "   0.46565096952908586,\n",
       "   0.5185595567867036,\n",
       "   0.5742382271468144,\n",
       "   0.5393351800554017],\n",
       "  'l1': [0.4969529085872576,\n",
       "   0.49390581717451526,\n",
       "   0.52797783933518,\n",
       "   0.4332409972299169,\n",
       "   0.4922437673130194,\n",
       "   0.4551246537396122],\n",
       "  'l2': [0.6141274238227147,\n",
       "   0.4659279778393352,\n",
       "   0.4952908587257618,\n",
       "   0.4955678670360111,\n",
       "   0.44321329639889195,\n",
       "   0.4587257617728532],\n",
       "  'l1l2': [0.47506925207756234,\n",
       "   0.5728531855955679,\n",
       "   0.5,\n",
       "   0.5246537396121884,\n",
       "   0.31357340720221605,\n",
       "   0.10470914127423822]},\n",
       " 'newton_method': {'none': [0.6382271468144044,\n",
       "   0.6379501385041552,\n",
       "   0.6379501385041552,\n",
       "   0.6379501385041552,\n",
       "   0.6387811634349031,\n",
       "   0.6404432132963989],\n",
       "  'l1': [0.6421052631578947,\n",
       "   0.6304709141274238,\n",
       "   0.590027700831025,\n",
       "   0.5631578947368421,\n",
       "   0.13157894736842105,\n",
       "   0.5454293628808864],\n",
       "  'l2': [0.6382271468144044,\n",
       "   0.6390581717451523,\n",
       "   0.6434903047091413,\n",
       "   0.5980609418282549,\n",
       "   0.6290858725761773,\n",
       "   0.5620498614958449],\n",
       "  'l1l2': [0.6423822714681441,\n",
       "   0.6296398891966759,\n",
       "   0.5872576177285319,\n",
       "   0.5537396121883656,\n",
       "   0.4066481994459834,\n",
       "   0.17534626038781165]},\n",
       " 'mse': {'none': [0.6326869806094183,\n",
       "   0.6340720221606648,\n",
       "   0.6340720221606648,\n",
       "   0.6340720221606648,\n",
       "   0.6340720221606648,\n",
       "   0.6340720221606648],\n",
       "  'l1': [0.6326869806094183,\n",
       "   0.6340720221606648,\n",
       "   0.6340720221606648,\n",
       "   0.6340720221606648,\n",
       "   0.6340720221606648,\n",
       "   0.6337950138504155],\n",
       "  'l2': [0.6329639889196675,\n",
       "   0.6343490304709142,\n",
       "   0.6349030470914128,\n",
       "   0.6290858725761773,\n",
       "   0.20664819944598337,\n",
       "   0.3146814404432133],\n",
       "  'l1l2': [0.6329639889196675,\n",
       "   0.6343490304709142,\n",
       "   0.6349030470914128,\n",
       "   0.6290858725761773,\n",
       "   0.2481994459833795,\n",
       "   0.19168975069252078]}}"
      ]
     },
     "execution_count": 389,
     "metadata": {},
     "output_type": "execute_result"
    }
   ],
   "source": [
    "accuracy_list"
   ]
  },
  {
   "cell_type": "code",
   "execution_count": 403,
   "metadata": {},
   "outputs": [
    {
     "name": "stdout",
     "output_type": "stream",
     "text": [
      "Max Accuracy for each solver:\n",
      "steepest_descent none : C= 0.06309573444801933 , Accuracy = 0.6055401662049862\n",
      "stochastic_gradient_descent l2 : C= 0.06309573444801933 , Accuracy = 0.6141274238227147\n",
      "newton_method none : C= 0.01 , Accuracy = 0.6404432132963989\n",
      "mse l1l2 : C= 0.01 , Accuracy = 0.6349030470914128\n"
     ]
    },
    {
     "data": {
      "image/png": "[encoded data removed]",
      "text/plain": [
       "<Figure size 1584x1080 with 16 Axes>"
      ]
     },
     "metadata": {},
     "output_type": "display_data"
    }
   ],
   "source": [
    "plt.style.use('ggplot')\n",
    "fig = plt.figure(figsize=(22,15))\n",
    "\n",
    "i = 0\n",
    "for solver in accuracy_list:\n",
    "    lines = []\n",
    "    j = 0\n",
    "    for penalty in accuracy_list[solver]:\n",
    "        plt.subplot(len(solver_list),len(penalty_list),4*i+j+1)\n",
    "        plt.xlabel(\"C\")\n",
    "        plt.ylabel(\"Accuracy\")\n",
    "        plt.title(solver + \"_\" + penalty)\n",
    "        plt.plot(C_list, accuracy_list[solver][penalty])\n",
    "        j = j + 1\n",
    "    i = i + 1\n",
    "\n",
    "#print max value\n",
    "print(\"Max Accuracy for each solver:\")\n",
    "print(solver_list[0], penalty_list[0] ,\": C=\", C_list[1], \", Accuracy =\", accuracy_list[\"steepest_descent\"][\"none\"][1])\n",
    "\n",
    "print(solver_list[1], penalty_list[2] ,\": C=\", C_list[1], \", Accuracy =\", accuracy_list[\"stochastic_gradient_descent\"][\"l2\"][0])\n",
    "\n",
    "print(solver_list[2], penalty_list[0] ,\": C=\", C_list[0], \", Accuracy =\", accuracy_list[\"newton_method\"][\"none\"][5])\n",
    "\n",
    "print(solver_list[3], penalty_list[3] ,\": C=\", C_list[0], \", Accuracy =\", accuracy_list[\"mse\"][\"l1l2\"][2])\n"
   ]
  },
  {
   "cell_type": "markdown",
   "metadata": {},
   "source": [
    "# Dataset Chosen for Classification-Performance\n",
    "\n",
    "From looking at the performance of sci-kit learn on chess_regression, we tried to replicate this performance on our functions. However, we received very poor performance as we found accuracies commonly below 20%.  We are unsure why our functions could perform decently well on IRIS but not on the chess dataset.  We also noticed that 62% is essentially the exact same as the performance of the dataset that only looks at white rating and black rating.  This is rather unfortunate as we were hoping that a classification model that included other parameters (especially the score of the game after 10 moves) would outperform a model that only looked at the rating difference. We did realize that if the other data is too noisy and is basically uncorrelated with the data, it would probably make the model worse.  Thus, we made two other regression dataframes with fewer variables that we thought would be more correlated with winning.  With these new datasets, sci-kit learn also performed at a rate of around 62%, while our logistic regression model continued to suck in both time and accuracy. We do not know if sci-kit learn is employing some sophisticated algorithm such as gear-shifting or other dynamic choice of eta to perform faster iteration time or random-weight selection to escape local minima and 'hop around.'  \n"
   ]
  },
  {
   "cell_type": "markdown",
   "metadata": {},
   "source": [
    "## Data Snooping"
   ]
  },
  {
   "cell_type": "markdown",
   "metadata": {},
   "source": [
    "   Data snooping occurs when a given set of data is used more than once for purposes of inference or model selection. When such data reuse occurs, there is always the possibility that any satisfactory results obtained may simply be due to chance rather than to any merit inherent in the method yielding the results.\n",
    "\n",
    "   Almost every machine learning practitioner understands the principle of separating training data from validation and testing data when constructing machine learning models.However, simply partitioning data into training and testing subsets may not sufficiently prevent test or validation data from influencing the training of a model.\n",
    "   \n",
    "   All of the available X data was provided to the standard scaler which used the mean, maximum, and minimums of the numeric data to scale the numeric data across the entire X data set. A subset of the scaled data (X_train) was used to train the model. The scaled data included the data that was to become part of the test data used to generate predictions for evaluation. The scaler has “snooped” data that should not be available for training. The test data influences the mean, maximum and minimum values used during the scaling operation.To remedy the data snooping problem, the training data should be scaled independently of the test data."
   ]
  },
  {
   "cell_type": "markdown",
   "metadata": {},
   "source": [
    "### Reference:\n",
    "Keyes, Chip. “Are You Unknowingly Data Snooping When Training Your ML Models?” Medium, Medium, 15 Feb. 2019, https://medium.com/@chipk215/are-you-unknowingly-data-snooping-when-training-your-ml-models-7d6a70bdff1b.\n",
    "\n",
    "White, Halbert. “A Reality Check for Data Snooping.” Wiley Online Library, John Wiley & Sons, Ltd (10.1111), 10 Dec. 2003, https://onlinelibrary.wiley.com/doi/abs/10.1111/1468-0262.00152."
   ]
  },
  {
   "cell_type": "markdown",
   "metadata": {},
   "source": [
    "# Our best model"
   ]
  },
  {
   "cell_type": "code",
   "execution_count": 426,
   "metadata": {},
   "outputs": [
    {
     "name": "stdout",
     "output_type": "stream",
     "text": [
      "Accuracy of full regression using our best model: 0.6382271468144044\n",
      "CPU times: user 15 s, sys: 9.85 s, total: 24.9 s\n",
      "Wall time: 6.49 s\n"
     ]
    }
   ],
   "source": [
    "%%time\n",
    "eta = 0.1\n",
    "iter = 5\n",
    "solver = 'newton_method'\n",
    "penalty = 'none'\n",
    "C = 0.01\n",
    "\n",
    "X_test_guess = X_test\n",
    "y_test_guess = y_test\n",
    "X_train_guess = X_train\n",
    "y_train_guess = y_train\n",
    "\n",
    "lr = MultiClassSuperLogisticRegression(eta=eta,solver=solver,penalty=penalty,iterations=iter,C=C)\n",
    "lr.fit(X_train_guess, y_train_guess)\n",
    "yhat = lr.predict(X_test)\n",
    "accuracy = accuracy_score(y_test, yhat)\n",
    "print('Accuracy of full regression using our best model: ' + str(accuracy))"
   ]
  },
  {
   "cell_type": "markdown",
   "metadata": {},
   "source": [
    "# Compare to Sci-Kit Learn for each solver of sci-kit Learn"
   ]
  },
  {
   "cell_type": "markdown",
   "metadata": {},
   "source": [
    "# Scikit Learn LBFGS"
   ]
  },
  {
   "cell_type": "code",
   "execution_count": 408,
   "metadata": {},
   "outputs": [],
   "source": [
    "from sklearn.linear_model import LogisticRegression\n",
    "\n",
    "def sklearn_logistic(solver, X, y):\n",
    "    if (solver != 'liblinear'):\n",
    "        sk = LogisticRegression(solver = solver, multi_class = 'multinomial').fit(X,y)\n",
    "    else:\n",
    "        sk = LogisticRegression(solver = solver).fit(X,y)\n",
    "    return sk\n",
    "\n",
    "def get_accuracy(y, y_hat):\n",
    "    '''\n",
    "    Input: y, yhat\n",
    "    Output: accuracy\n",
    "    '''\n",
    "    total = len(y)\n",
    "    right = 0\n",
    "    for idx, val in enumerate(y):\n",
    "        if y[idx] == y_hat[idx]:\n",
    "            right += 1\n",
    "    return right/total"
   ]
  },
  {
   "cell_type": "code",
   "execution_count": 409,
   "metadata": {},
   "outputs": [
    {
     "name": "stdout",
     "output_type": "stream",
     "text": [
      "Accuracy of full regression using sci-kit learn lbfgs: 0.6362880886426593\n"
     ]
    },
    {
     "name": "stderr",
     "output_type": "stream",
     "text": [
      "//anaconda3/lib/python3.7/site-packages/sklearn/linear_model/logistic.py:947: ConvergenceWarning: lbfgs failed to converge. Increase the number of iterations.\n",
      "  \"of iterations.\", ConvergenceWarning)\n"
     ]
    }
   ],
   "source": [
    "sk = sklearn_logistic('lbfgs', X_train, y_train)\n",
    "y_hat = sk.predict(X_test)\n",
    "\n",
    "acc = get_accuracy(list(y_test),list(y_hat))\n",
    "print('Accuracy of full regression using sci-kit learn lbfgs: ' + str(acc))\n"
   ]
  },
  {
   "cell_type": "markdown",
   "metadata": {},
   "source": [
    "# Scikit Learn Newton"
   ]
  },
  {
   "cell_type": "code",
   "execution_count": 410,
   "metadata": {},
   "outputs": [
    {
     "name": "stdout",
     "output_type": "stream",
     "text": [
      "Accuracy of full regression using sci-kit learn newton-cg: 0.6357340720221607\n"
     ]
    }
   ],
   "source": [
    "sk = sklearn_logistic('newton-cg', X_train, y_train)\n",
    "y_hat = sk.predict(X_test)\n",
    "acc = get_accuracy(list(y_test),list(y_hat))\n",
    "print('Accuracy of full regression using sci-kit learn newton-cg: ' + str(acc))\n"
   ]
  },
  {
   "cell_type": "markdown",
   "metadata": {},
   "source": [
    "# Scikit Learn Linear"
   ]
  },
  {
   "cell_type": "code",
   "execution_count": 411,
   "metadata": {},
   "outputs": [
    {
     "name": "stdout",
     "output_type": "stream",
     "text": [
      "Accuracy of full regression using sci-kit learn liblinear: 0.6365650969529086\n"
     ]
    },
    {
     "name": "stderr",
     "output_type": "stream",
     "text": [
      "//anaconda3/lib/python3.7/site-packages/sklearn/linear_model/logistic.py:469: FutureWarning: Default multi_class will be changed to 'auto' in 0.22. Specify the multi_class option to silence this warning.\n",
      "  \"this warning.\", FutureWarning)\n"
     ]
    }
   ],
   "source": [
    "sk = sklearn_logistic('liblinear', X_train, y_train)\n",
    "y_hat = sk.predict(X_test)\n",
    "\n",
    "acc = get_accuracy(list(y_test),list(y_hat))\n",
    "print('Accuracy of full regression using sci-kit learn liblinear: ' + str(acc))\n",
    "\n",
    "#print('Accuracy of: ',accuracy_score(y,yhat))"
   ]
  },
  {
   "cell_type": "markdown",
   "metadata": {},
   "source": [
    "## Compare Sci-Kit Learn for the simpler Regression Dataframes\n"
   ]
  },
  {
   "cell_type": "code",
   "execution_count": 412,
   "metadata": {},
   "outputs": [
    {
     "name": "stdout",
     "output_type": "stream",
     "text": [
      "Accuracy of 7 variable using sci-kit learn liblinear: 0.632409972299169\n"
     ]
    },
    {
     "name": "stderr",
     "output_type": "stream",
     "text": [
      "//anaconda3/lib/python3.7/site-packages/sklearn/linear_model/logistic.py:469: FutureWarning: Default multi_class will be changed to 'auto' in 0.22. Specify the multi_class option to silence this warning.\n",
      "  \"this warning.\", FutureWarning)\n"
     ]
    }
   ],
   "source": [
    "# Compare Sci-Kit Learn for the simpler Regression Dataframes\n",
    "sk = sklearn_logistic('liblinear', X_train_simple, y_train_simple)\n",
    "y_hat = sk.predict(X_test_simple)\n",
    "\n",
    "acc = get_accuracy(list(y_test_simple),list(y_hat))\n",
    "print('Accuracy of 7 variable using sci-kit learn liblinear: ' + str(acc))\n"
   ]
  },
  {
   "cell_type": "code",
   "execution_count": 413,
   "metadata": {},
   "outputs": [
    {
     "name": "stdout",
     "output_type": "stream",
     "text": [
      "Accuracy of 4 variable using sci-kit learn liblinear: 0.62797783933518\n"
     ]
    },
    {
     "name": "stderr",
     "output_type": "stream",
     "text": [
      "//anaconda3/lib/python3.7/site-packages/sklearn/linear_model/logistic.py:469: FutureWarning: Default multi_class will be changed to 'auto' in 0.22. Specify the multi_class option to silence this warning.\n",
      "  \"this warning.\", FutureWarning)\n"
     ]
    }
   ],
   "source": [
    "# Compare Sci-Kit Learn for the simpler Regression Dataframes\n",
    "sk = sklearn_logistic('liblinear', X_train_rating, y_train_rating)\n",
    "y_hat = sk.predict(X_test_rating)\n",
    "\n",
    "acc = get_accuracy(list(y_test_rating),list(y_hat))\n",
    "print('Accuracy of 4 variable using sci-kit learn liblinear: ' + str(acc))\n"
   ]
  },
  {
   "cell_type": "markdown",
   "metadata": {},
   "source": [
    "## Compare Performance of our best logistic regression to sci-kit learn\n"
   ]
  },
  {
   "cell_type": "markdown",
   "metadata": {},
   "source": [
    "# Sci Kit Learn Best"
   ]
  },
  {
   "cell_type": "code",
   "execution_count": 420,
   "metadata": {},
   "outputs": [
    {
     "name": "stdout",
     "output_type": "stream",
     "text": [
      "CPU times: user 25.2 ms, sys: 1.63 ms, total: 26.8 ms\n",
      "Wall time: 25.6 ms\n"
     ]
    },
    {
     "name": "stderr",
     "output_type": "stream",
     "text": [
      "//anaconda3/lib/python3.7/site-packages/sklearn/linear_model/logistic.py:469: FutureWarning: Default multi_class will be changed to 'auto' in 0.22. Specify the multi_class option to silence this warning.\n",
      "  \"this warning.\", FutureWarning)\n"
     ]
    },
    {
     "data": {
      "text/plain": [
       "0.62797783933518"
      ]
     },
     "execution_count": 420,
     "metadata": {},
     "output_type": "execute_result"
    }
   ],
   "source": [
    "%%time\n",
    "sk = sklearn_logistic('liblinear', X_train_rating, y_train_rating)\n",
    "y_hat_scikit = sk.predict(X_test_rating)\n",
    "scikit_acc = get_accuracy(list(y_test_rating),list(y_hat_scikit))\n",
    "scikit_acc"
   ]
  },
  {
   "cell_type": "code",
   "execution_count": 421,
   "metadata": {},
   "outputs": [
    {
     "data": {
      "text/plain": [
       "Text(0.5, 1.0, 'Comparison of Accuracy')"
      ]
     },
     "execution_count": 421,
     "metadata": {},
     "output_type": "execute_result"
    },
    {
     "data": {
      "image/png": "[encoded data removed]",
      "text/plain": [
       "<Figure size 432x288 with 1 Axes>"
      ]
     },
     "metadata": {},
     "output_type": "display_data"
    }
   ],
   "source": [
    "# Hard code our best accuracy found from randomized grid search\n",
    "our_best_acc = 0.64\n",
    "\n",
    "import matplotlib.pyplot as plt\n",
    "plt.subplot()\n",
    "lable = ['Our Best Accuracy','Scikit Learn']\n",
    "accuracy = [our_best_acc, scikit_acc]\n",
    "colors = ['gold', 'green']\n",
    "plt.bar(lable, accuracy,color=colors)\n",
    "plt.xlabel(\"Method\")\n",
    "plt.ylabel(\"Accuracy\")\n",
    "plt.title(\"Comparison of Accuracy\")"
   ]
  },
  {
   "cell_type": "markdown",
   "metadata": {},
   "source": [
    "From the result we got before and the bar plot above, the accuracy of Scikit Learn is 20% higher than our best accuracy (with Newton Method). The reason of this is probably because the optimizations of Scikit Learn is better in applicaiton for this data set."
   ]
  },
  {
   "cell_type": "code",
   "execution_count": 427,
   "metadata": {},
   "outputs": [
    {
     "data": {
      "text/plain": [
       "Text(0.5, 1.0, 'Comparison of Time')"
      ]
     },
     "execution_count": 427,
     "metadata": {},
     "output_type": "execute_result"
    },
    {
     "data": {
      "image/png": "[encoded data removed]",
      "text/plain": [
       "<Figure size 432x288 with 1 Axes>"
      ]
     },
     "metadata": {},
     "output_type": "display_data"
    }
   ],
   "source": [
    "plt.subplot()\n",
    "lable = ['Our Best Time','Scikit Learn']\n",
    "time = [24.9, 26.8/60]\n",
    "colors = ['red', 'purple']\n",
    "plt.bar(lable, time,color=colors)\n",
    "plt.xlabel(\"Method\")\n",
    "plt.ylabel(\"Time\")\n",
    "plt.title(\"Comparison of Time\")"
   ]
  },
  {
   "cell_type": "markdown",
   "metadata": {},
   "source": [
    "From the result we got before and the bar plot above, the time of Scikit Learn is faster than our best time (with Newton Method)."
   ]
  },
  {
   "cell_type": "markdown",
   "metadata": {},
   "source": [
    "# Deployment (10 Points)"
   ]
  },
  {
   "cell_type": "markdown",
   "metadata": {},
   "source": [
    "From the source of scikit-learn, we can tell it has 90.5 kB, over 2000 lines, which may cause problems in the old days. But scikit-learn has higher accuracy on the test set(accuracy is compared with in our implementation), and run much faster( compared with in our implementation). We suggest to use scikit-learn."
   ]
  },
  {
   "cell_type": "markdown",
   "metadata": {},
   "source": [
    "## MSE Explanation"
   ]
  },
  {
   "cell_type": "markdown",
   "metadata": {},
   "source": [
    "Based on the results above, MSE have worse accuracy among other methods. There are several results.\n",
    "\n",
    "From the basics of statistical machine learning, the loss function is the negative-log-likelihood of the model. To find the best parameters, we need to minimize this NLL loss. The MSE is the NLL for the linear regression model (with Gaussian likelihood). But for the logistic regression model, the NLL is the cross-entropy (with Bernoulli likelihood). So minimizing the MSE loss for a logistic regression model is minimizing something else other than the NLL of that model. \n",
    "\n",
    "Besides, MLE is a more attractive option. First,it is more computational efficiency. Learning parameters for any machine learning model (such as logistic regression) is much easier if the cost function is convex. And, it's not too difficult to show that, for logistic regression, the cost function for the mean square error is not convex, while the cost function for the log-likelihood is. Secondly, MLE has very nice properties such: consistency: meaning that with more data, our estimate of w gets closer to the true value; asymptotic normality: meaning that with more data, our estimate of w is approximately normal distributed with variance that decreases with 𝑂(1𝑛); functional invariance: nice property to have when dealing with multiple parameters (nuisance parameters) and calculating the profile likelihood. "
   ]
  },
  {
   "cell_type": "markdown",
   "metadata": {},
   "source": [
    "## Citation\n",
    "\n",
    "Pinninti, Harsha, and Sri Harsha PinnintiSri Harsha Pinninti. “Why Sum of Squared Errors for Logistic Regression Not Used and Instead Maximum Likelihood Estimation Is Used to Fit the Model?” Cross Validated, 1 Mar. 1967, https://stats.stackexchange.com/questions/251496/why-sum-of-squared-errors-for-logistic-regression-not-used-and-instead-maximum-l.\n",
    "\n",
    "“What Are the Main Reasons Not to Use MSE as a Cost Function for Logistic Regression?” Quora, https://www.quora.com/What-are-the-main-reasons-not-to-use-MSE-as-a-cost-function-for-Logistic-Regression.\n"
   ]
  }
 ],
 "metadata": {
  "kernelspec": {
   "display_name": "Python 3",
   "language": "python",
   "name": "python3"
  },
  "language_info": {
   "codemirror_mode": {
    "name": "ipython",
    "version": 3
   },
   "file_extension": ".py",
   "mimetype": "text/x-python",
   "name": "python",
   "nbconvert_exporter": "python",
   "pygments_lexer": "ipython3",
   "version": "3.7.3"
  }
 },
 "nbformat": 4,
 "nbformat_minor": 2
}
